{
  "cells": [
    {
      "cell_type": "markdown",
      "metadata": {
        "id": "view-in-github",
        "colab_type": "text"
      },
      "source": [
        "<a href=\"https://colab.research.google.com/github/matinmazid/York_ML_certificate/blob/master/profile.ipynb\" target=\"_parent\"><img src=\"https://colab.research.google.com/assets/colab-badge.svg\" alt=\"Open In Colab\"/></a>"
      ]
    },
    {
      "cell_type": "code",
      "source": [
        "!apt-get update -y"
      ],
      "metadata": {
        "id": "6Ha5LcUIg1ii",
        "colab": {
          "base_uri": "https://localhost:8080/"
        },
        "outputId": "58e93557-0bb3-49f1-cba5-76f0858f4990"
      },
      "execution_count": null,
      "outputs": [
        {
          "output_type": "stream",
          "name": "stdout",
          "text": [
            "Get:1 https://cloud.r-project.org/bin/linux/ubuntu jammy-cran40/ InRelease [3,626 B]\n",
            "Get:2 https://developer.download.nvidia.com/compute/cuda/repos/ubuntu2204/x86_64  InRelease [1,581 B]\n",
            "Get:3 https://r2u.stat.illinois.edu/ubuntu jammy InRelease [6,555 B]\n",
            "Hit:4 http://archive.ubuntu.com/ubuntu jammy InRelease\n",
            "Get:5 http://security.ubuntu.com/ubuntu jammy-security InRelease [129 kB]\n",
            "Get:6 http://archive.ubuntu.com/ubuntu jammy-updates InRelease [128 kB]\n",
            "Get:7 https://developer.download.nvidia.com/compute/cuda/repos/ubuntu2204/x86_64  Packages [1,105 kB]\n",
            "Hit:8 https://ppa.launchpadcontent.net/deadsnakes/ppa/ubuntu jammy InRelease\n",
            "Hit:9 https://ppa.launchpadcontent.net/graphics-drivers/ppa/ubuntu jammy InRelease\n",
            "Hit:10 https://ppa.launchpadcontent.net/ubuntugis/ppa/ubuntu jammy InRelease\n",
            "Get:11 http://archive.ubuntu.com/ubuntu jammy-backports InRelease [127 kB]\n",
            "Get:12 https://r2u.stat.illinois.edu/ubuntu jammy/main amd64 Packages [2,605 kB]\n",
            "Get:13 https://r2u.stat.illinois.edu/ubuntu jammy/main all Packages [8,435 kB]\n",
            "Get:14 http://archive.ubuntu.com/ubuntu jammy-updates/main amd64 Packages [2,665 kB]\n",
            "Fetched 15.2 MB in 3s (4,929 kB/s)\n",
            "Reading package lists... Done\n",
            "W: Skipping acquire of configured file 'main/source/Sources' as repository 'https://r2u.stat.illinois.edu/ubuntu jammy InRelease' does not seem to provide it (sources.list entry misspelt?)\n"
          ]
        }
      ]
    },
    {
      "cell_type": "code",
      "source": [
        "!apt-get install python3.8 python3.8-distutils"
      ],
      "metadata": {
        "colab": {
          "base_uri": "https://localhost:8080/"
        },
        "id": "iTHp5NmyoCBk",
        "outputId": "2b70d2e2-eb1f-4810-f5b7-3288ffc112ee"
      },
      "execution_count": null,
      "outputs": [
        {
          "output_type": "stream",
          "name": "stdout",
          "text": [
            "Reading package lists... Done\n",
            "Building dependency tree... Done\n",
            "Reading state information... Done\n",
            "The following additional packages will be installed:\n",
            "  libpython3.8-minimal libpython3.8-stdlib mailcap mime-support python3.8-lib2to3 python3.8-minimal\n",
            "Suggested packages:\n",
            "  python3.8-venv binfmt-support\n",
            "The following NEW packages will be installed:\n",
            "  libpython3.8-minimal libpython3.8-stdlib mailcap mime-support python3.8 python3.8-distutils\n",
            "  python3.8-lib2to3 python3.8-minimal\n",
            "0 upgraded, 8 newly installed, 0 to remove and 52 not upgraded.\n",
            "Need to get 5,422 kB of archives.\n",
            "After this operation, 20.2 MB of additional disk space will be used.\n",
            "Get:1 http://archive.ubuntu.com/ubuntu jammy/main amd64 mailcap all 3.70+nmu1ubuntu1 [23.8 kB]\n",
            "Get:2 http://archive.ubuntu.com/ubuntu jammy/main amd64 mime-support all 3.66 [3,696 B]\n",
            "Get:3 https://ppa.launchpadcontent.net/deadsnakes/ppa/ubuntu jammy/main amd64 libpython3.8-minimal amd64 3.8.20-1+jammy1 [796 kB]\n",
            "Get:4 https://ppa.launchpadcontent.net/deadsnakes/ppa/ubuntu jammy/main amd64 python3.8-minimal amd64 3.8.20-1+jammy1 [2,023 kB]\n",
            "Get:5 https://ppa.launchpadcontent.net/deadsnakes/ppa/ubuntu jammy/main amd64 libpython3.8-stdlib amd64 3.8.20-1+jammy1 [1,817 kB]\n",
            "Get:6 https://ppa.launchpadcontent.net/deadsnakes/ppa/ubuntu jammy/main amd64 python3.8 amd64 3.8.20-1+jammy1 [440 kB]\n",
            "Get:7 https://ppa.launchpadcontent.net/deadsnakes/ppa/ubuntu jammy/main amd64 python3.8-lib2to3 all 3.8.20-1+jammy1 [126 kB]\n",
            "Get:8 https://ppa.launchpadcontent.net/deadsnakes/ppa/ubuntu jammy/main amd64 python3.8-distutils all 3.8.20-1+jammy1 [193 kB]\n",
            "Fetched 5,422 kB in 1s (4,586 kB/s)\n",
            "Selecting previously unselected package libpython3.8-minimal:amd64.\n",
            "(Reading database ... 123623 files and directories currently installed.)\n",
            "Preparing to unpack .../0-libpython3.8-minimal_3.8.20-1+jammy1_amd64.deb ...\n",
            "Unpacking libpython3.8-minimal:amd64 (3.8.20-1+jammy1) ...\n",
            "Selecting previously unselected package python3.8-minimal.\n",
            "Preparing to unpack .../1-python3.8-minimal_3.8.20-1+jammy1_amd64.deb ...\n",
            "Unpacking python3.8-minimal (3.8.20-1+jammy1) ...\n",
            "Selecting previously unselected package mailcap.\n",
            "Preparing to unpack .../2-mailcap_3.70+nmu1ubuntu1_all.deb ...\n",
            "Unpacking mailcap (3.70+nmu1ubuntu1) ...\n",
            "Selecting previously unselected package mime-support.\n",
            "Preparing to unpack .../3-mime-support_3.66_all.deb ...\n",
            "Unpacking mime-support (3.66) ...\n",
            "Selecting previously unselected package libpython3.8-stdlib:amd64.\n",
            "Preparing to unpack .../4-libpython3.8-stdlib_3.8.20-1+jammy1_amd64.deb ...\n",
            "Unpacking libpython3.8-stdlib:amd64 (3.8.20-1+jammy1) ...\n",
            "Selecting previously unselected package python3.8.\n",
            "Preparing to unpack .../5-python3.8_3.8.20-1+jammy1_amd64.deb ...\n",
            "Unpacking python3.8 (3.8.20-1+jammy1) ...\n",
            "Selecting previously unselected package python3.8-lib2to3.\n",
            "Preparing to unpack .../6-python3.8-lib2to3_3.8.20-1+jammy1_all.deb ...\n",
            "Unpacking python3.8-lib2to3 (3.8.20-1+jammy1) ...\n",
            "Selecting previously unselected package python3.8-distutils.\n",
            "Preparing to unpack .../7-python3.8-distutils_3.8.20-1+jammy1_all.deb ...\n",
            "Unpacking python3.8-distutils (3.8.20-1+jammy1) ...\n",
            "Setting up libpython3.8-minimal:amd64 (3.8.20-1+jammy1) ...\n",
            "Setting up python3.8-lib2to3 (3.8.20-1+jammy1) ...\n",
            "Setting up python3.8-minimal (3.8.20-1+jammy1) ...\n",
            "Setting up python3.8-distutils (3.8.20-1+jammy1) ...\n",
            "Setting up mailcap (3.70+nmu1ubuntu1) ...\n",
            "Setting up mime-support (3.66) ...\n",
            "Setting up libpython3.8-stdlib:amd64 (3.8.20-1+jammy1) ...\n",
            "Setting up python3.8 (3.8.20-1+jammy1) ...\n",
            "Processing triggers for man-db (2.10.2-1) ...\n"
          ]
        }
      ]
    },
    {
      "cell_type": "code",
      "source": [
        "!update-alternatives --install /usr/bin/python3 python3 /usr/bin/python3.8 1"
      ],
      "metadata": {
        "colab": {
          "base_uri": "https://localhost:8080/"
        },
        "id": "WbbK6o2coKgq",
        "outputId": "a2fbff17-871b-489c-80f9-e02f2a2af9b0"
      },
      "execution_count": null,
      "outputs": [
        {
          "output_type": "stream",
          "name": "stdout",
          "text": [
            "update-alternatives: using /usr/bin/python3.8 to provide /usr/bin/python3 (python3) in auto mode\n"
          ]
        }
      ]
    },
    {
      "cell_type": "code",
      "source": [
        "!apt-get install python3-pip\n",
        "!python3 -m pip install --upgrade pip --user"
      ],
      "metadata": {
        "colab": {
          "base_uri": "https://localhost:8080/"
        },
        "id": "WzniB6TVoQoD",
        "outputId": "cd208955-169a-486e-ded1-28be09497d29"
      },
      "execution_count": null,
      "outputs": [
        {
          "output_type": "stream",
          "name": "stdout",
          "text": [
            "Reading package lists... Done\n",
            "Building dependency tree... Done\n",
            "Reading state information... Done\n",
            "The following additional packages will be installed:\n",
            "  python3-setuptools python3-wheel\n",
            "Suggested packages:\n",
            "  python-setuptools-doc\n",
            "The following NEW packages will be installed:\n",
            "  python3-pip python3-setuptools python3-wheel\n",
            "0 upgraded, 3 newly installed, 0 to remove and 52 not upgraded.\n",
            "Need to get 1,677 kB of archives.\n",
            "After this operation, 8,968 kB of additional disk space will be used.\n",
            "Get:1 http://archive.ubuntu.com/ubuntu jammy-updates/main amd64 python3-setuptools all 59.6.0-1.2ubuntu0.22.04.2 [340 kB]\n",
            "Get:2 http://archive.ubuntu.com/ubuntu jammy-updates/universe amd64 python3-wheel all 0.37.1-2ubuntu0.22.04.1 [32.0 kB]\n",
            "Get:3 http://archive.ubuntu.com/ubuntu jammy-updates/universe amd64 python3-pip all 22.0.2+dfsg-1ubuntu0.5 [1,306 kB]\n",
            "Fetched 1,677 kB in 1s (1,748 kB/s)\n",
            "Selecting previously unselected package python3-setuptools.\n",
            "(Reading database ... 124413 files and directories currently installed.)\n",
            "Preparing to unpack .../python3-setuptools_59.6.0-1.2ubuntu0.22.04.2_all.deb ...\n",
            "Unpacking python3-setuptools (59.6.0-1.2ubuntu0.22.04.2) ...\n",
            "Selecting previously unselected package python3-wheel.\n",
            "Preparing to unpack .../python3-wheel_0.37.1-2ubuntu0.22.04.1_all.deb ...\n",
            "Unpacking python3-wheel (0.37.1-2ubuntu0.22.04.1) ...\n",
            "Selecting previously unselected package python3-pip.\n",
            "Preparing to unpack .../python3-pip_22.0.2+dfsg-1ubuntu0.5_all.deb ...\n",
            "Unpacking python3-pip (22.0.2+dfsg-1ubuntu0.5) ...\n",
            "Setting up python3-setuptools (59.6.0-1.2ubuntu0.22.04.2) ...\n",
            "Setting up python3-wheel (0.37.1-2ubuntu0.22.04.1) ...\n",
            "Setting up python3-pip (22.0.2+dfsg-1ubuntu0.5) ...\n",
            "Processing triggers for man-db (2.10.2-1) ...\n",
            "Requirement already satisfied: pip in /usr/lib/python3/dist-packages (22.0.2)\n",
            "Collecting pip\n",
            "  Downloading pip-24.3.1-py3-none-any.whl (1.8 MB)\n",
            "\u001b[2K     \u001b[90m━━━━━━━━━━━━━━━━━━━━━━━━━━━━━━━━━━━━━━━━\u001b[0m \u001b[32m1.8/1.8 MB\u001b[0m \u001b[31m21.2 MB/s\u001b[0m eta \u001b[36m0:00:00\u001b[0m\n",
            "\u001b[?25hInstalling collected packages: pip\n",
            "\u001b[33m  WARNING: The scripts pip, pip3 and pip3.8 are installed in '/root/.local/bin' which is not on PATH.\n",
            "  Consider adding this directory to PATH or, if you prefer to suppress this warning, use --no-warn-script-location.\u001b[0m\u001b[33m\n",
            "\u001b[0mSuccessfully installed pip-24.3.1\n",
            "\u001b[33mWARNING: Running pip as the 'root' user can result in broken permissions and conflicting behaviour with the system package manager. It is recommended to use a virtual environment instead: https://pip.pypa.io/warnings/venv\u001b[0m\u001b[33m\n",
            "\u001b[0m"
          ]
        }
      ]
    },
    {
      "cell_type": "code",
      "source": [
        "!pip install pycaret==2.3.10"
      ],
      "metadata": {
        "colab": {
          "base_uri": "https://localhost:8080/"
        },
        "id": "YJ7aSStEovj0",
        "outputId": "17ed345e-a33c-478f-c670-31d131e50052"
      },
      "execution_count": null,
      "outputs": [
        {
          "output_type": "stream",
          "name": "stdout",
          "text": [
            "Collecting pycaret==2.3.10\n",
            "  Using cached pycaret-2.3.10-py3-none-any.whl.metadata (12 kB)\n",
            "Collecting pandas (from pycaret==2.3.10)\n",
            "  Using cached pandas-2.0.3-cp38-cp38-manylinux_2_17_x86_64.manylinux2014_x86_64.whl.metadata (18 kB)\n",
            "Collecting scipy<=1.5.4 (from pycaret==2.3.10)\n",
            "  Using cached scipy-1.5.4-cp38-cp38-manylinux1_x86_64.whl.metadata (2.0 kB)\n",
            "Collecting seaborn (from pycaret==2.3.10)\n",
            "  Using cached seaborn-0.13.2-py3-none-any.whl.metadata (5.4 kB)\n",
            "Collecting matplotlib (from pycaret==2.3.10)\n",
            "  Using cached matplotlib-3.7.5-cp38-cp38-manylinux_2_12_x86_64.manylinux2010_x86_64.whl.metadata (5.7 kB)\n",
            "Collecting IPython (from pycaret==2.3.10)\n",
            "  Using cached ipython-8.12.3-py3-none-any.whl.metadata (5.7 kB)\n",
            "Collecting joblib (from pycaret==2.3.10)\n",
            "  Using cached joblib-1.4.2-py3-none-any.whl.metadata (5.4 kB)\n",
            "Collecting scikit-learn==0.23.2 (from pycaret==2.3.10)\n",
            "  Using cached scikit_learn-0.23.2-cp38-cp38-manylinux1_x86_64.whl.metadata (7.3 kB)\n",
            "Collecting ipywidgets (from pycaret==2.3.10)\n",
            "  Using cached ipywidgets-8.1.5-py3-none-any.whl.metadata (2.3 kB)\n",
            "Collecting yellowbrick>=1.0.1 (from pycaret==2.3.10)\n",
            "  Using cached yellowbrick-1.5-py3-none-any.whl.metadata (7.7 kB)\n",
            "Collecting lightgbm>=2.3.1 (from pycaret==2.3.10)\n",
            "  Using cached lightgbm-4.5.0-py3-none-manylinux_2_28_x86_64.whl.metadata (17 kB)\n",
            "Collecting plotly>=4.4.1 (from pycaret==2.3.10)\n",
            "  Using cached plotly-5.24.1-py3-none-any.whl.metadata (7.3 kB)\n",
            "Collecting wordcloud (from pycaret==2.3.10)\n",
            "  Using cached wordcloud-1.9.3-cp38-cp38-manylinux_2_17_x86_64.manylinux2014_x86_64.whl.metadata (3.4 kB)\n",
            "Collecting textblob (from pycaret==2.3.10)\n",
            "  Using cached textblob-0.18.0.post0-py3-none-any.whl.metadata (4.5 kB)\n",
            "Collecting cufflinks>=0.17.0 (from pycaret==2.3.10)\n",
            "  Using cached cufflinks-0.17.3.tar.gz (81 kB)\n",
            "  Preparing metadata (setup.py) ... \u001b[?25l\u001b[?25hdone\n",
            "Collecting umap-learn (from pycaret==2.3.10)\n",
            "  Using cached umap_learn-0.5.7-py3-none-any.whl.metadata (21 kB)\n",
            "Collecting pyLDAvis (from pycaret==2.3.10)\n",
            "  Using cached pyLDAvis-3.4.0-py3-none-any.whl.metadata (4.2 kB)\n",
            "Collecting gensim<4.0.0 (from pycaret==2.3.10)\n",
            "  Using cached gensim-3.8.3-cp38-cp38-manylinux1_x86_64.whl.metadata (9.2 kB)\n",
            "Collecting spacy<2.4.0 (from pycaret==2.3.10)\n",
            "  Using cached spacy-2.3.9-cp38-cp38-manylinux_2_17_x86_64.manylinux2014_x86_64.whl.metadata (15 kB)\n",
            "Collecting nltk (from pycaret==2.3.10)\n",
            "  Using cached nltk-3.9.1-py3-none-any.whl.metadata (2.9 kB)\n",
            "Collecting mlxtend>=0.17.0 (from pycaret==2.3.10)\n",
            "  Using cached mlxtend-0.23.1-py3-none-any.whl.metadata (7.3 kB)\n",
            "Collecting pyod (from pycaret==2.3.10)\n",
            "  Using cached pyod-2.0.2.tar.gz (165 kB)\n",
            "  Preparing metadata (setup.py) ... \u001b[?25l\u001b[?25hdone\n",
            "Collecting pandas-profiling>=2.8.0 (from pycaret==2.3.10)\n",
            "  Using cached pandas_profiling-3.6.6-py2.py3-none-any.whl.metadata (4.5 kB)\n",
            "Collecting kmodes>=0.10.1 (from pycaret==2.3.10)\n",
            "  Using cached kmodes-0.12.2-py2.py3-none-any.whl.metadata (8.1 kB)\n",
            "Collecting mlflow (from pycaret==2.3.10)\n",
            "  Using cached mlflow-2.17.2-py3-none-any.whl.metadata (29 kB)\n",
            "Collecting imbalanced-learn==0.7.0 (from pycaret==2.3.10)\n",
            "  Using cached imbalanced_learn-0.7.0-py3-none-any.whl.metadata (11 kB)\n",
            "Collecting scikit-plot (from pycaret==2.3.10)\n",
            "  Using cached scikit_plot-0.3.7-py3-none-any.whl.metadata (7.1 kB)\n",
            "Collecting Boruta (from pycaret==2.3.10)\n",
            "  Using cached Boruta-0.4.3-py3-none-any.whl.metadata (8.8 kB)\n",
            "Collecting pyyaml<6.0.0 (from pycaret==2.3.10)\n",
            "  Using cached PyYAML-5.4.1-cp38-cp38-manylinux1_x86_64.whl.metadata (2.1 kB)\n",
            "Collecting numba<0.55 (from pycaret==2.3.10)\n",
            "  Using cached numba-0.54.1-cp38-cp38-manylinux2014_x86_64.manylinux_2_17_x86_64.whl.metadata (3.5 kB)\n",
            "Collecting numpy>=1.13.3 (from imbalanced-learn==0.7.0->pycaret==2.3.10)\n",
            "  Using cached numpy-1.24.4-cp38-cp38-manylinux_2_17_x86_64.manylinux2014_x86_64.whl.metadata (5.6 kB)\n",
            "Collecting threadpoolctl>=2.0.0 (from scikit-learn==0.23.2->pycaret==2.3.10)\n",
            "  Using cached threadpoolctl-3.5.0-py3-none-any.whl.metadata (13 kB)\n",
            "Collecting colorlover>=0.2.1 (from cufflinks>=0.17.0->pycaret==2.3.10)\n",
            "  Using cached colorlover-0.3.0-py3-none-any.whl.metadata (421 bytes)\n",
            "Requirement already satisfied: setuptools>=34.4.1 in /usr/lib/python3/dist-packages (from cufflinks>=0.17.0->pycaret==2.3.10) (59.6.0)\n",
            "Requirement already satisfied: six>=1.9.0 in /usr/lib/python3/dist-packages (from cufflinks>=0.17.0->pycaret==2.3.10) (1.16.0)\n",
            "Collecting smart-open>=1.8.1 (from gensim<4.0.0->pycaret==2.3.10)\n",
            "  Using cached smart_open-7.0.5-py3-none-any.whl.metadata (24 kB)\n",
            "Collecting backcall (from IPython->pycaret==2.3.10)\n",
            "  Using cached backcall-0.2.0-py2.py3-none-any.whl.metadata (2.0 kB)\n",
            "Collecting decorator (from IPython->pycaret==2.3.10)\n",
            "  Using cached decorator-5.1.1-py3-none-any.whl.metadata (4.0 kB)\n",
            "Collecting jedi>=0.16 (from IPython->pycaret==2.3.10)\n",
            "  Using cached jedi-0.19.1-py2.py3-none-any.whl.metadata (22 kB)\n",
            "Collecting matplotlib-inline (from IPython->pycaret==2.3.10)\n",
            "  Using cached matplotlib_inline-0.1.7-py3-none-any.whl.metadata (3.9 kB)\n",
            "Collecting pickleshare (from IPython->pycaret==2.3.10)\n",
            "  Using cached pickleshare-0.7.5-py2.py3-none-any.whl.metadata (1.5 kB)\n",
            "Collecting prompt-toolkit!=3.0.37,<3.1.0,>=3.0.30 (from IPython->pycaret==2.3.10)\n",
            "  Using cached prompt_toolkit-3.0.48-py3-none-any.whl.metadata (6.4 kB)\n",
            "Collecting pygments>=2.4.0 (from IPython->pycaret==2.3.10)\n",
            "  Using cached pygments-2.18.0-py3-none-any.whl.metadata (2.5 kB)\n",
            "Collecting stack-data (from IPython->pycaret==2.3.10)\n",
            "  Using cached stack_data-0.6.3-py3-none-any.whl.metadata (18 kB)\n",
            "Collecting traitlets>=5 (from IPython->pycaret==2.3.10)\n",
            "  Using cached traitlets-5.14.3-py3-none-any.whl.metadata (10 kB)\n",
            "Collecting typing-extensions (from IPython->pycaret==2.3.10)\n",
            "  Using cached typing_extensions-4.12.2-py3-none-any.whl.metadata (3.0 kB)\n",
            "Collecting pexpect>4.3 (from IPython->pycaret==2.3.10)\n",
            "  Using cached pexpect-4.9.0-py2.py3-none-any.whl.metadata (2.5 kB)\n",
            "Collecting comm>=0.1.3 (from ipywidgets->pycaret==2.3.10)\n",
            "  Using cached comm-0.2.2-py3-none-any.whl.metadata (3.7 kB)\n",
            "Collecting widgetsnbextension~=4.0.12 (from ipywidgets->pycaret==2.3.10)\n",
            "  Using cached widgetsnbextension-4.0.13-py3-none-any.whl.metadata (1.6 kB)\n",
            "Collecting jupyterlab-widgets~=3.0.12 (from ipywidgets->pycaret==2.3.10)\n",
            "  Using cached jupyterlab_widgets-3.0.13-py3-none-any.whl.metadata (4.1 kB)\n",
            "INFO: pip is looking at multiple versions of mlxtend to determine which version is compatible with other requirements. This could take a while.\n",
            "Collecting mlxtend>=0.17.0 (from pycaret==2.3.10)\n",
            "  Using cached mlxtend-0.23.0-py3-none-any.whl.metadata (7.3 kB)\n",
            "  Using cached mlxtend-0.22.0-py2.py3-none-any.whl.metadata (1.6 kB)\n",
            "  Using cached mlxtend-0.21.0-py2.py3-none-any.whl.metadata (1.6 kB)\n",
            "  Using cached mlxtend-0.20.0-py2.py3-none-any.whl.metadata (1.6 kB)\n",
            "  Using cached mlxtend-0.19.0-py2.py3-none-any.whl.metadata (1.6 kB)\n",
            "Collecting contourpy>=1.0.1 (from matplotlib->pycaret==2.3.10)\n",
            "  Using cached contourpy-1.1.1-cp38-cp38-manylinux_2_17_x86_64.manylinux2014_x86_64.whl.metadata (5.9 kB)\n",
            "Collecting cycler>=0.10 (from matplotlib->pycaret==2.3.10)\n",
            "  Using cached cycler-0.12.1-py3-none-any.whl.metadata (3.8 kB)\n",
            "Collecting fonttools>=4.22.0 (from matplotlib->pycaret==2.3.10)\n",
            "  Using cached fonttools-4.54.1-cp38-cp38-manylinux_2_17_x86_64.manylinux2014_x86_64.whl.metadata (163 kB)\n",
            "Collecting kiwisolver>=1.0.1 (from matplotlib->pycaret==2.3.10)\n",
            "  Using cached kiwisolver-1.4.7-cp38-cp38-manylinux_2_5_x86_64.manylinux1_x86_64.whl.metadata (6.3 kB)\n",
            "Collecting packaging>=20.0 (from matplotlib->pycaret==2.3.10)\n",
            "  Using cached packaging-24.1-py3-none-any.whl.metadata (3.2 kB)\n",
            "Collecting pillow>=6.2.0 (from matplotlib->pycaret==2.3.10)\n",
            "  Using cached pillow-10.4.0-cp38-cp38-manylinux_2_28_x86_64.whl.metadata (9.2 kB)\n",
            "Requirement already satisfied: pyparsing>=2.3.1 in /usr/lib/python3/dist-packages (from matplotlib->pycaret==2.3.10) (2.4.7)\n",
            "Collecting python-dateutil>=2.7 (from matplotlib->pycaret==2.3.10)\n",
            "  Using cached python_dateutil-2.9.0.post0-py2.py3-none-any.whl.metadata (8.4 kB)\n",
            "Collecting importlib-resources>=3.2.0 (from matplotlib->pycaret==2.3.10)\n",
            "  Using cached importlib_resources-6.4.5-py3-none-any.whl.metadata (4.0 kB)\n",
            "Collecting llvmlite<0.38,>=0.37.0rc1 (from numba<0.55->pycaret==2.3.10)\n",
            "  Using cached llvmlite-0.37.0-cp38-cp38-manylinux2014_x86_64.whl.metadata (4.8 kB)\n",
            "Collecting numpy>=1.13.3 (from imbalanced-learn==0.7.0->pycaret==2.3.10)\n",
            "  Using cached numpy-1.20.3-cp38-cp38-manylinux_2_12_x86_64.manylinux2010_x86_64.whl.metadata (2.0 kB)\n",
            "Collecting pytz>=2020.1 (from pandas->pycaret==2.3.10)\n",
            "  Using cached pytz-2024.2-py2.py3-none-any.whl.metadata (22 kB)\n",
            "Collecting tzdata>=2022.1 (from pandas->pycaret==2.3.10)\n",
            "  Using cached tzdata-2024.2-py2.py3-none-any.whl.metadata (1.4 kB)\n",
            "Collecting ydata-profiling (from pandas-profiling>=2.8.0->pycaret==2.3.10)\n",
            "  Using cached ydata_profiling-4.12.0-py2.py3-none-any.whl.metadata (20 kB)\n",
            "Collecting tenacity>=6.2.0 (from plotly>=4.4.1->pycaret==2.3.10)\n",
            "  Using cached tenacity-9.0.0-py3-none-any.whl.metadata (1.2 kB)\n",
            "Collecting murmurhash<1.1.0,>=0.28.0 (from spacy<2.4.0->pycaret==2.3.10)\n",
            "  Using cached murmurhash-1.0.10-cp38-cp38-manylinux_2_5_x86_64.manylinux1_x86_64.manylinux_2_17_x86_64.manylinux2014_x86_64.whl.metadata (2.0 kB)\n",
            "Collecting cymem<2.1.0,>=2.0.2 (from spacy<2.4.0->pycaret==2.3.10)\n",
            "  Using cached cymem-2.0.8-cp38-cp38-manylinux_2_17_x86_64.manylinux2014_x86_64.whl.metadata (8.4 kB)\n",
            "Collecting preshed<3.1.0,>=3.0.2 (from spacy<2.4.0->pycaret==2.3.10)\n",
            "  Using cached preshed-3.0.9-cp38-cp38-manylinux_2_5_x86_64.manylinux1_x86_64.manylinux_2_17_x86_64.manylinux2014_x86_64.whl.metadata (2.2 kB)\n",
            "Collecting thinc<7.5.0,>=7.4.1 (from spacy<2.4.0->pycaret==2.3.10)\n",
            "  Using cached thinc-7.4.6-cp38-cp38-manylinux_2_17_x86_64.manylinux2014_x86_64.whl.metadata (23 kB)\n",
            "Collecting blis<0.8.0,>=0.4.0 (from spacy<2.4.0->pycaret==2.3.10)\n",
            "  Using cached blis-0.7.11-cp38-cp38-manylinux_2_17_x86_64.manylinux2014_x86_64.whl.metadata (7.4 kB)\n",
            "Collecting wasabi<1.1.0,>=0.4.0 (from spacy<2.4.0->pycaret==2.3.10)\n",
            "  Using cached wasabi-0.10.1-py3-none-any.whl.metadata (28 kB)\n",
            "Collecting srsly<1.1.0,>=1.0.2 (from spacy<2.4.0->pycaret==2.3.10)\n",
            "  Using cached srsly-1.0.7-cp38-cp38-manylinux_2_17_x86_64.manylinux2014_x86_64.whl.metadata (13 kB)\n",
            "Collecting catalogue<1.1.0,>=0.0.7 (from spacy<2.4.0->pycaret==2.3.10)\n",
            "  Using cached catalogue-1.0.2-py2.py3-none-any.whl.metadata (13 kB)\n",
            "Collecting tqdm<5.0.0,>=4.38.0 (from spacy<2.4.0->pycaret==2.3.10)\n",
            "  Using cached tqdm-4.66.6-py3-none-any.whl.metadata (57 kB)\n",
            "Collecting plac<1.2.0,>=0.9.6 (from spacy<2.4.0->pycaret==2.3.10)\n",
            "  Using cached plac-1.1.3-py2.py3-none-any.whl.metadata (2.3 kB)\n",
            "Collecting requests<3.0.0,>=2.13.0 (from spacy<2.4.0->pycaret==2.3.10)\n",
            "  Using cached requests-2.32.3-py3-none-any.whl.metadata (4.6 kB)\n",
            "INFO: pip is looking at multiple versions of yellowbrick to determine which version is compatible with other requirements. This could take a while.\n",
            "Collecting yellowbrick>=1.0.1 (from pycaret==2.3.10)\n",
            "  Using cached yellowbrick-1.4-py3-none-any.whl.metadata (7.6 kB)\n",
            "  Using cached yellowbrick-1.3.post1-py3-none-any.whl.metadata (7.6 kB)\n",
            "  Using cached yellowbrick-1.3-py3-none-any.whl.metadata (7.6 kB)\n",
            "  Using cached yellowbrick-1.2.1-py3-none-any.whl.metadata (7.6 kB)\n",
            "Collecting mlflow-skinny==2.17.2 (from mlflow->pycaret==2.3.10)\n",
            "  Using cached mlflow_skinny-2.17.2-py3-none-any.whl.metadata (30 kB)\n",
            "Collecting Flask<4 (from mlflow->pycaret==2.3.10)\n",
            "  Using cached flask-3.0.3-py3-none-any.whl.metadata (3.2 kB)\n",
            "Collecting alembic!=1.10.0,<2 (from mlflow->pycaret==2.3.10)\n",
            "  Using cached alembic-1.13.3-py3-none-any.whl.metadata (7.4 kB)\n",
            "Collecting docker<8,>=4.0.0 (from mlflow->pycaret==2.3.10)\n",
            "  Using cached docker-7.1.0-py3-none-any.whl.metadata (3.8 kB)\n",
            "Collecting graphene<4 (from mlflow->pycaret==2.3.10)\n",
            "  Using cached graphene-3.4.1-py2.py3-none-any.whl.metadata (6.9 kB)\n",
            "Collecting markdown<4,>=3.3 (from mlflow->pycaret==2.3.10)\n",
            "  Using cached Markdown-3.7-py3-none-any.whl.metadata (7.0 kB)\n",
            "Collecting pyarrow<18,>=4.0.0 (from mlflow->pycaret==2.3.10)\n",
            "  Using cached pyarrow-17.0.0-cp38-cp38-manylinux_2_28_x86_64.whl.metadata (3.3 kB)\n",
            "Collecting sqlalchemy<3,>=1.4.0 (from mlflow->pycaret==2.3.10)\n",
            "  Using cached SQLAlchemy-2.0.36-cp38-cp38-manylinux_2_17_x86_64.manylinux2014_x86_64.whl.metadata (9.7 kB)\n",
            "Collecting Jinja2<4,>=2.11 (from mlflow->pycaret==2.3.10)\n",
            "  Using cached jinja2-3.1.4-py3-none-any.whl.metadata (2.6 kB)\n",
            "Collecting gunicorn<24 (from mlflow->pycaret==2.3.10)\n",
            "  Using cached gunicorn-23.0.0-py3-none-any.whl.metadata (4.4 kB)\n",
            "Collecting cachetools<6,>=5.0.0 (from mlflow-skinny==2.17.2->mlflow->pycaret==2.3.10)\n",
            "  Using cached cachetools-5.5.0-py3-none-any.whl.metadata (5.3 kB)\n",
            "Collecting click<9,>=7.0 (from mlflow-skinny==2.17.2->mlflow->pycaret==2.3.10)\n",
            "  Using cached click-8.1.7-py3-none-any.whl.metadata (3.0 kB)\n",
            "Collecting cloudpickle<4 (from mlflow-skinny==2.17.2->mlflow->pycaret==2.3.10)\n",
            "  Using cached cloudpickle-3.1.0-py3-none-any.whl.metadata (7.0 kB)\n",
            "Collecting databricks-sdk<1,>=0.20.0 (from mlflow-skinny==2.17.2->mlflow->pycaret==2.3.10)\n",
            "  Using cached databricks_sdk-0.36.0-py3-none-any.whl.metadata (38 kB)\n",
            "Collecting gitpython<4,>=3.1.9 (from mlflow-skinny==2.17.2->mlflow->pycaret==2.3.10)\n",
            "  Using cached GitPython-3.1.43-py3-none-any.whl.metadata (13 kB)\n",
            "Requirement already satisfied: importlib-metadata!=4.7.0,<9,>=3.7.0 in /usr/lib/python3/dist-packages (from mlflow-skinny==2.17.2->mlflow->pycaret==2.3.10) (4.6.4)\n",
            "Collecting opentelemetry-api<3,>=1.9.0 (from mlflow-skinny==2.17.2->mlflow->pycaret==2.3.10)\n",
            "  Using cached opentelemetry_api-1.27.0-py3-none-any.whl.metadata (1.4 kB)\n",
            "Collecting opentelemetry-sdk<3,>=1.9.0 (from mlflow-skinny==2.17.2->mlflow->pycaret==2.3.10)\n",
            "  Using cached opentelemetry_sdk-1.27.0-py3-none-any.whl.metadata (1.5 kB)\n",
            "Collecting protobuf<6,>=3.12.0 (from mlflow-skinny==2.17.2->mlflow->pycaret==2.3.10)\n",
            "  Using cached protobuf-5.28.3-cp38-abi3-manylinux2014_x86_64.whl.metadata (592 bytes)\n",
            "Collecting sqlparse<1,>=0.4.0 (from mlflow-skinny==2.17.2->mlflow->pycaret==2.3.10)\n",
            "  Using cached sqlparse-0.5.1-py3-none-any.whl.metadata (3.9 kB)\n",
            "Collecting regex>=2021.8.3 (from nltk->pycaret==2.3.10)\n",
            "  Using cached regex-2024.9.11-cp38-cp38-manylinux_2_17_x86_64.manylinux2014_x86_64.whl.metadata (40 kB)\n",
            "INFO: pip is looking at multiple versions of pyldavis to determine which version is compatible with other requirements. This could take a while.\n",
            "Collecting pyLDAvis (from pycaret==2.3.10)\n",
            "  Using cached pyLDAvis-3.3.1.tar.gz (1.7 MB)\n",
            "  Installing build dependencies ... \u001b[?25l\u001b[?25hdone\n",
            "  Getting requirements to build wheel ... \u001b[?25l\u001b[?25hdone\n",
            "  Preparing metadata (pyproject.toml) ... \u001b[?25l\u001b[?25hdone\n",
            "Collecting numexpr (from pyLDAvis->pycaret==2.3.10)\n",
            "  Using cached numexpr-2.8.6-cp38-cp38-manylinux_2_17_x86_64.manylinux2014_x86_64.whl.metadata (8.0 kB)\n",
            "Collecting future (from pyLDAvis->pycaret==2.3.10)\n",
            "  Using cached future-1.0.0-py3-none-any.whl.metadata (4.0 kB)\n",
            "Collecting funcy (from pyLDAvis->pycaret==2.3.10)\n",
            "  Using cached funcy-2.0-py2.py3-none-any.whl.metadata (5.9 kB)\n",
            "Collecting sklearn (from pyLDAvis->pycaret==2.3.10)\n",
            "  Using cached sklearn-0.0.post12.tar.gz (2.6 kB)\n",
            "  \u001b[1;31merror\u001b[0m: \u001b[1msubprocess-exited-with-error\u001b[0m\n",
            "  \n",
            "  \u001b[31m×\u001b[0m \u001b[32mpython setup.py egg_info\u001b[0m did not run successfully.\n",
            "  \u001b[31m│\u001b[0m exit code: \u001b[1;36m1\u001b[0m\n",
            "  \u001b[31m╰─>\u001b[0m See above for output.\n",
            "  \n",
            "  \u001b[1;35mnote\u001b[0m: This error originates from a subprocess, and is likely not a problem with pip.\n",
            "  Preparing metadata (setup.py) ... \u001b[?25l\u001b[?25herror\n",
            "\u001b[1;31merror\u001b[0m: \u001b[1mmetadata-generation-failed\u001b[0m\n",
            "\n",
            "\u001b[31m×\u001b[0m Encountered error while generating package metadata.\n",
            "\u001b[31m╰─>\u001b[0m See above for output.\n",
            "\n",
            "\u001b[1;35mnote\u001b[0m: This is an issue with the package mentioned above, not pip.\n",
            "\u001b[1;36mhint\u001b[0m: See above for details.\n"
          ]
        }
      ]
    },
    {
      "cell_type": "code",
      "source": [
        "!pip sklearn"
      ],
      "metadata": {
        "id": "5b8dI9vcpeoc"
      },
      "execution_count": null,
      "outputs": []
    },
    {
      "cell_type": "code",
      "source": [],
      "metadata": {
        "id": "xG1FszzeiIji"
      },
      "execution_count": null,
      "outputs": []
    },
    {
      "cell_type": "code",
      "source": [],
      "metadata": {
        "id": "1EE5En8z2F27"
      },
      "execution_count": null,
      "outputs": []
    }
  ],
  "metadata": {
    "colab": {
      "provenance": [],
      "mount_file_id": "13hgHdcAxbaTMDD-coWGFc0MEVdhnCwdK",
      "authorship_tag": "ABX9TyPqTC2UT4yckgqkhFKNpy0Y",
      "include_colab_link": true
    },
    "kernelspec": {
      "display_name": "Python 3",
      "name": "python3"
    },
    "language_info": {
      "name": "python"
    }
  },
  "nbformat": 4,
  "nbformat_minor": 0
}