{
  "nbformat": 4,
  "nbformat_minor": 0,
  "metadata": {
    "colab": {
      "provenance": [],
      "include_colab_link": true
    },
    "kernelspec": {
      "name": "python3",
      "display_name": "Python 3"
    },
    "language_info": {
      "name": "python"
    }
  },
  "cells": [
    {
      "cell_type": "markdown",
      "metadata": {
        "id": "view-in-github",
        "colab_type": "text"
      },
      "source": [
        "<a href=\"https://colab.research.google.com/github/matinmazid/York_ML_certificate/blob/master/M3_Notebook.ipynb\" target=\"_parent\"><img src=\"https://colab.research.google.com/assets/colab-badge.svg\" alt=\"Open In Colab\"/></a>"
      ]
    },
    {
      "cell_type": "code",
      "source": [
        "#connecct to google drive\n",
        "from google.colab import drive\n",
        "drive.mount('/content/drive')"
      ],
      "metadata": {
        "colab": {
          "base_uri": "https://localhost:8080/"
        },
        "id": "xAwHYKi2g7h9",
        "outputId": "d74d8b70-af9c-4c89-ac6d-793bd56993dc"
      },
      "execution_count": 3,
      "outputs": [
        {
          "output_type": "stream",
          "name": "stdout",
          "text": [
            "Mounted at /content/drive\n"
          ]
        }
      ]
    },
    {
      "cell_type": "code",
      "execution_count": 1,
      "metadata": {
        "id": "vr9hiz3xeeNm"
      },
      "outputs": [],
      "source": [
        "import pandas as pd\n",
        "import numpy as np\n",
        "import re\n",
        "import nltk\n",
        "import matplotlib.pyplot as plt\n",
        "#for model-building\n",
        "from sklearn.model_selection import train_test_split\n",
        "from sklearn.linear_model import LogisticRegression\n",
        "from sklearn.linear_model import SGDClassifier\n",
        "from sklearn.naive_bayes import MultinomialNB\n",
        "from sklearn.metrics import classification_report, f1_score, accuracy_score, confusion_matrix\n",
        "from sklearn.metrics import roc_curve, auc, roc_auc_score\n",
        "# bag of words\n",
        "from sklearn.feature_extraction.text import TfidfVectorizer\n",
        "from sklearn.feature_extraction.text import CountVectorizer\n",
        "#for word embedding\n",
        "import gensim\n",
        "from gensim.models import Word2Vec #Word2Vec is mostly used for huge datasets\n",
        "pd.options.display.max_colwidth = 200\n",
        "%matplotlib inline"
      ]
    },
    {
      "cell_type": "code",
      "source": [
        "import pandas as pd\n",
        "# Path to the folder where the CSV files are saved\n",
        "folder_path = '/content/drive/MyDrive/ColabNotebooks/ML1010/Dataset/'\n",
        "# Read the CSV files and assign them to variables\n",
        "X_train_bow = pd.read_csv(f'{folder_path}X_train_bow.csv').values\n",
        "X_test_bow = pd.read_csv(f'{folder_path}X_test_bow.csv').values\n",
        "X_train_tfidf = pd.read_csv(f'{folder_path}X_train_tfidf.csv').values\n",
        "X_test_tfidf = pd.read_csv(f'{folder_path}X_test_tfidf.csv').values\n",
        "X_train_w2v = pd.read_csv(f'{folder_path}X_train_w2v.csv').values\n",
        "X_test_w2v = pd.read_csv(f'{folder_path}X_test_w2v.csv').values\n",
        "X_train_glove = pd.read_csv(f'{folder_path}X_train_glove.csv').values\n",
        "X_test_glove = pd.read_csv(f'{folder_path}X_test_glove.csv').values\n",
        "X_train_bert = pd.read_csv(f'{folder_path}X_train_bert.csv').values\n",
        "X_test_bert = pd.read_csv(f'{folder_path}X_test_bert.csv').values\n",
        "# Print the shapes of the variables to confirm they are loaded correctly\n",
        "print(f'X_train_bow shape: {X_train_bow.shape}')\n",
        "print(f'X_test_bow shape: {X_test_bow.shape}')\n",
        "print(f'X_train_tfidf shape: {X_train_tfidf.shape}')\n",
        "print(f'X_test_tfidf shape: {X_test_tfidf.shape}')\n",
        "print(f'X_train_w2v shape: {X_train_w2v.shape}')\n",
        "print(f'X_test_w2v shape: {X_test_w2v.shape}')\n",
        "print(f'X_train_glove shape: {X_train_glove.shape}')\n",
        "print(f'X_test_glove shape: {X_test_glove.shape}')\n",
        "print(f'X_train_bert shape: {X_train_bert.shape}')\n",
        "print(f'X_test_bert shape: {X_test_bert.shape}')"
      ],
      "metadata": {
        "id": "K-zkHmNf41_2",
        "colab": {
          "base_uri": "https://localhost:8080/"
        },
        "outputId": "0160be2d-824c-4da7-eefb-a3e4fe105a3c"
      },
      "execution_count": 5,
      "outputs": [
        {
          "output_type": "stream",
          "name": "stdout",
          "text": [
            "X_train_bow shape: (35000, 5000)\n",
            "X_test_bow shape: (15000, 5000)\n",
            "X_train_tfidf shape: (35000, 5000)\n",
            "X_test_tfidf shape: (15000, 5000)\n",
            "X_train_w2v shape: (35000, 100)\n",
            "X_test_w2v shape: (15000, 100)\n",
            "X_train_glove shape: (35000, 100)\n",
            "X_test_glove shape: (15000, 100)\n",
            "X_train_bert shape: (35000, 768)\n",
            "X_test_bert shape: (15000, 768)\n"
          ]
        }
      ]
    },
    {
      "cell_type": "code",
      "source": [
        "df_train = pd.read_csv(f'{folder_path}cleaned_train_df.csv')\n",
        "df_test = pd.read_csv(f'/{folder_path}cleaned_test_df.csv')\n",
        "print(df_test.shape)\n",
        "df_test.head()"
      ],
      "metadata": {
        "id": "LVK304IMUGjI",
        "colab": {
          "base_uri": "https://localhost:8080/",
          "height": 310
        },
        "outputId": "dc843a8a-3771-4206-d560-b8389a0eb3ce"
      },
      "execution_count": 7,
      "outputs": [
        {
          "output_type": "stream",
          "name": "stdout",
          "text": [
            "(15000, 2)\n"
          ]
        },
        {
          "output_type": "execute_result",
          "data": {
            "text/plain": [
              "                                                                                                                                                                                              clean_review  \\\n",
              "0  really liked summerslam due look arena curtain look overall interesting reason anyways could one best summerslam ever wwf lex luger main event yokozuna time ok huge fat man v strong man glad time ...   \n",
              "1  many television show appeal quite many different kind fan like farscape know youngster year old fan male female many different country think adore v miniseries elements find almost every show v ch...   \n",
              "2  film quickly get major chase scene ever increase destruction first really bad thing guy hijack steven seagal would beat pulp seagal driving probably would end whole premise movie seem like decide ...   \n",
              "3  jane austen would definitely approve one gwyneth paltrow awesome job capture attitude emma funny without excessively silly yet elegant put convince british accent british maybe best judge fool als...   \n",
              "4  expectation somewhat high go see movie think steve carell could wrong come great movie like anchorman year old virgin little miss sunshine boy wrong start right movie certain point steve carell al...   \n",
              "\n",
              "   sentiment  \n",
              "0          1  \n",
              "1          1  \n",
              "2          0  \n",
              "3          1  \n",
              "4          0  "
            ],
            "text/html": [
              "\n",
              "  <div id=\"df-8ede8fed-7bf7-46e3-93ed-629581d63cda\" class=\"colab-df-container\">\n",
              "    <div>\n",
              "<style scoped>\n",
              "    .dataframe tbody tr th:only-of-type {\n",
              "        vertical-align: middle;\n",
              "    }\n",
              "\n",
              "    .dataframe tbody tr th {\n",
              "        vertical-align: top;\n",
              "    }\n",
              "\n",
              "    .dataframe thead th {\n",
              "        text-align: right;\n",
              "    }\n",
              "</style>\n",
              "<table border=\"1\" class=\"dataframe\">\n",
              "  <thead>\n",
              "    <tr style=\"text-align: right;\">\n",
              "      <th></th>\n",
              "      <th>clean_review</th>\n",
              "      <th>sentiment</th>\n",
              "    </tr>\n",
              "  </thead>\n",
              "  <tbody>\n",
              "    <tr>\n",
              "      <th>0</th>\n",
              "      <td>really liked summerslam due look arena curtain look overall interesting reason anyways could one best summerslam ever wwf lex luger main event yokozuna time ok huge fat man v strong man glad time ...</td>\n",
              "      <td>1</td>\n",
              "    </tr>\n",
              "    <tr>\n",
              "      <th>1</th>\n",
              "      <td>many television show appeal quite many different kind fan like farscape know youngster year old fan male female many different country think adore v miniseries elements find almost every show v ch...</td>\n",
              "      <td>1</td>\n",
              "    </tr>\n",
              "    <tr>\n",
              "      <th>2</th>\n",
              "      <td>film quickly get major chase scene ever increase destruction first really bad thing guy hijack steven seagal would beat pulp seagal driving probably would end whole premise movie seem like decide ...</td>\n",
              "      <td>0</td>\n",
              "    </tr>\n",
              "    <tr>\n",
              "      <th>3</th>\n",
              "      <td>jane austen would definitely approve one gwyneth paltrow awesome job capture attitude emma funny without excessively silly yet elegant put convince british accent british maybe best judge fool als...</td>\n",
              "      <td>1</td>\n",
              "    </tr>\n",
              "    <tr>\n",
              "      <th>4</th>\n",
              "      <td>expectation somewhat high go see movie think steve carell could wrong come great movie like anchorman year old virgin little miss sunshine boy wrong start right movie certain point steve carell al...</td>\n",
              "      <td>0</td>\n",
              "    </tr>\n",
              "  </tbody>\n",
              "</table>\n",
              "</div>\n",
              "    <div class=\"colab-df-buttons\">\n",
              "\n",
              "  <div class=\"colab-df-container\">\n",
              "    <button class=\"colab-df-convert\" onclick=\"convertToInteractive('df-8ede8fed-7bf7-46e3-93ed-629581d63cda')\"\n",
              "            title=\"Convert this dataframe to an interactive table.\"\n",
              "            style=\"display:none;\">\n",
              "\n",
              "  <svg xmlns=\"http://www.w3.org/2000/svg\" height=\"24px\" viewBox=\"0 -960 960 960\">\n",
              "    <path d=\"M120-120v-720h720v720H120Zm60-500h600v-160H180v160Zm220 220h160v-160H400v160Zm0 220h160v-160H400v160ZM180-400h160v-160H180v160Zm440 0h160v-160H620v160ZM180-180h160v-160H180v160Zm440 0h160v-160H620v160Z\"/>\n",
              "  </svg>\n",
              "    </button>\n",
              "\n",
              "  <style>\n",
              "    .colab-df-container {\n",
              "      display:flex;\n",
              "      gap: 12px;\n",
              "    }\n",
              "\n",
              "    .colab-df-convert {\n",
              "      background-color: #E8F0FE;\n",
              "      border: none;\n",
              "      border-radius: 50%;\n",
              "      cursor: pointer;\n",
              "      display: none;\n",
              "      fill: #1967D2;\n",
              "      height: 32px;\n",
              "      padding: 0 0 0 0;\n",
              "      width: 32px;\n",
              "    }\n",
              "\n",
              "    .colab-df-convert:hover {\n",
              "      background-color: #E2EBFA;\n",
              "      box-shadow: 0px 1px 2px rgba(60, 64, 67, 0.3), 0px 1px 3px 1px rgba(60, 64, 67, 0.15);\n",
              "      fill: #174EA6;\n",
              "    }\n",
              "\n",
              "    .colab-df-buttons div {\n",
              "      margin-bottom: 4px;\n",
              "    }\n",
              "\n",
              "    [theme=dark] .colab-df-convert {\n",
              "      background-color: #3B4455;\n",
              "      fill: #D2E3FC;\n",
              "    }\n",
              "\n",
              "    [theme=dark] .colab-df-convert:hover {\n",
              "      background-color: #434B5C;\n",
              "      box-shadow: 0px 1px 3px 1px rgba(0, 0, 0, 0.15);\n",
              "      filter: drop-shadow(0px 1px 2px rgba(0, 0, 0, 0.3));\n",
              "      fill: #FFFFFF;\n",
              "    }\n",
              "  </style>\n",
              "\n",
              "    <script>\n",
              "      const buttonEl =\n",
              "        document.querySelector('#df-8ede8fed-7bf7-46e3-93ed-629581d63cda button.colab-df-convert');\n",
              "      buttonEl.style.display =\n",
              "        google.colab.kernel.accessAllowed ? 'block' : 'none';\n",
              "\n",
              "      async function convertToInteractive(key) {\n",
              "        const element = document.querySelector('#df-8ede8fed-7bf7-46e3-93ed-629581d63cda');\n",
              "        const dataTable =\n",
              "          await google.colab.kernel.invokeFunction('convertToInteractive',\n",
              "                                                    [key], {});\n",
              "        if (!dataTable) return;\n",
              "\n",
              "        const docLinkHtml = 'Like what you see? Visit the ' +\n",
              "          '<a target=\"_blank\" href=https://colab.research.google.com/notebooks/data_table.ipynb>data table notebook</a>'\n",
              "          + ' to learn more about interactive tables.';\n",
              "        element.innerHTML = '';\n",
              "        dataTable['output_type'] = 'display_data';\n",
              "        await google.colab.output.renderOutput(dataTable, element);\n",
              "        const docLink = document.createElement('div');\n",
              "        docLink.innerHTML = docLinkHtml;\n",
              "        element.appendChild(docLink);\n",
              "      }\n",
              "    </script>\n",
              "  </div>\n",
              "\n",
              "\n",
              "<div id=\"df-de64081e-87da-4e77-82c1-3c35d1d78272\">\n",
              "  <button class=\"colab-df-quickchart\" onclick=\"quickchart('df-de64081e-87da-4e77-82c1-3c35d1d78272')\"\n",
              "            title=\"Suggest charts\"\n",
              "            style=\"display:none;\">\n",
              "\n",
              "<svg xmlns=\"http://www.w3.org/2000/svg\" height=\"24px\"viewBox=\"0 0 24 24\"\n",
              "     width=\"24px\">\n",
              "    <g>\n",
              "        <path d=\"M19 3H5c-1.1 0-2 .9-2 2v14c0 1.1.9 2 2 2h14c1.1 0 2-.9 2-2V5c0-1.1-.9-2-2-2zM9 17H7v-7h2v7zm4 0h-2V7h2v10zm4 0h-2v-4h2v4z\"/>\n",
              "    </g>\n",
              "</svg>\n",
              "  </button>\n",
              "\n",
              "<style>\n",
              "  .colab-df-quickchart {\n",
              "      --bg-color: #E8F0FE;\n",
              "      --fill-color: #1967D2;\n",
              "      --hover-bg-color: #E2EBFA;\n",
              "      --hover-fill-color: #174EA6;\n",
              "      --disabled-fill-color: #AAA;\n",
              "      --disabled-bg-color: #DDD;\n",
              "  }\n",
              "\n",
              "  [theme=dark] .colab-df-quickchart {\n",
              "      --bg-color: #3B4455;\n",
              "      --fill-color: #D2E3FC;\n",
              "      --hover-bg-color: #434B5C;\n",
              "      --hover-fill-color: #FFFFFF;\n",
              "      --disabled-bg-color: #3B4455;\n",
              "      --disabled-fill-color: #666;\n",
              "  }\n",
              "\n",
              "  .colab-df-quickchart {\n",
              "    background-color: var(--bg-color);\n",
              "    border: none;\n",
              "    border-radius: 50%;\n",
              "    cursor: pointer;\n",
              "    display: none;\n",
              "    fill: var(--fill-color);\n",
              "    height: 32px;\n",
              "    padding: 0;\n",
              "    width: 32px;\n",
              "  }\n",
              "\n",
              "  .colab-df-quickchart:hover {\n",
              "    background-color: var(--hover-bg-color);\n",
              "    box-shadow: 0 1px 2px rgba(60, 64, 67, 0.3), 0 1px 3px 1px rgba(60, 64, 67, 0.15);\n",
              "    fill: var(--button-hover-fill-color);\n",
              "  }\n",
              "\n",
              "  .colab-df-quickchart-complete:disabled,\n",
              "  .colab-df-quickchart-complete:disabled:hover {\n",
              "    background-color: var(--disabled-bg-color);\n",
              "    fill: var(--disabled-fill-color);\n",
              "    box-shadow: none;\n",
              "  }\n",
              "\n",
              "  .colab-df-spinner {\n",
              "    border: 2px solid var(--fill-color);\n",
              "    border-color: transparent;\n",
              "    border-bottom-color: var(--fill-color);\n",
              "    animation:\n",
              "      spin 1s steps(1) infinite;\n",
              "  }\n",
              "\n",
              "  @keyframes spin {\n",
              "    0% {\n",
              "      border-color: transparent;\n",
              "      border-bottom-color: var(--fill-color);\n",
              "      border-left-color: var(--fill-color);\n",
              "    }\n",
              "    20% {\n",
              "      border-color: transparent;\n",
              "      border-left-color: var(--fill-color);\n",
              "      border-top-color: var(--fill-color);\n",
              "    }\n",
              "    30% {\n",
              "      border-color: transparent;\n",
              "      border-left-color: var(--fill-color);\n",
              "      border-top-color: var(--fill-color);\n",
              "      border-right-color: var(--fill-color);\n",
              "    }\n",
              "    40% {\n",
              "      border-color: transparent;\n",
              "      border-right-color: var(--fill-color);\n",
              "      border-top-color: var(--fill-color);\n",
              "    }\n",
              "    60% {\n",
              "      border-color: transparent;\n",
              "      border-right-color: var(--fill-color);\n",
              "    }\n",
              "    80% {\n",
              "      border-color: transparent;\n",
              "      border-right-color: var(--fill-color);\n",
              "      border-bottom-color: var(--fill-color);\n",
              "    }\n",
              "    90% {\n",
              "      border-color: transparent;\n",
              "      border-bottom-color: var(--fill-color);\n",
              "    }\n",
              "  }\n",
              "</style>\n",
              "\n",
              "  <script>\n",
              "    async function quickchart(key) {\n",
              "      const quickchartButtonEl =\n",
              "        document.querySelector('#' + key + ' button');\n",
              "      quickchartButtonEl.disabled = true;  // To prevent multiple clicks.\n",
              "      quickchartButtonEl.classList.add('colab-df-spinner');\n",
              "      try {\n",
              "        const charts = await google.colab.kernel.invokeFunction(\n",
              "            'suggestCharts', [key], {});\n",
              "      } catch (error) {\n",
              "        console.error('Error during call to suggestCharts:', error);\n",
              "      }\n",
              "      quickchartButtonEl.classList.remove('colab-df-spinner');\n",
              "      quickchartButtonEl.classList.add('colab-df-quickchart-complete');\n",
              "    }\n",
              "    (() => {\n",
              "      let quickchartButtonEl =\n",
              "        document.querySelector('#df-de64081e-87da-4e77-82c1-3c35d1d78272 button');\n",
              "      quickchartButtonEl.style.display =\n",
              "        google.colab.kernel.accessAllowed ? 'block' : 'none';\n",
              "    })();\n",
              "  </script>\n",
              "</div>\n",
              "\n",
              "    </div>\n",
              "  </div>\n"
            ],
            "application/vnd.google.colaboratory.intrinsic+json": {
              "type": "dataframe",
              "variable_name": "df_test",
              "summary": "{\n  \"name\": \"df_test\",\n  \"rows\": 15000,\n  \"fields\": [\n    {\n      \"column\": \"clean_review\",\n      \"properties\": {\n        \"dtype\": \"string\",\n        \"num_unique_values\": 14960,\n        \"samples\": [\n          \"saw last night tribeca film fest holy god bad script edit act cinematography none work mention set design costume distractingly wrong time period span year late even john hurt usually amazing actor top ridiculous grant quinten crisp top guy begin hurt give nothing work know much else say except audience saw absolutely love maybe audience love anything film festival sit next director actor accurate test good movie well play personally thought movie terrible hand terrible hilarious get drunk give shot hbo year ever make far\",\n          \"black white film good photography believable character awful waste another perfect evening watching film rat worthy good good act back ground setting plot good do slow grow never develop totally base sex without much romance much un need nudity could do main character look something watch family movie trouble sit though film long inch deep\",\n          \"cover box make movie look really good fool splatter university come last good year horror movie suck character annoy teacher cool like plot movie hell would ever produce waste film spoiler aheadthe teacher dy female know must female surviver go break rule good horror flick waste\"\n        ],\n        \"semantic_type\": \"\",\n        \"description\": \"\"\n      }\n    },\n    {\n      \"column\": \"sentiment\",\n      \"properties\": {\n        \"dtype\": \"number\",\n        \"std\": 0,\n        \"min\": 0,\n        \"max\": 1,\n        \"num_unique_values\": 2,\n        \"samples\": [\n          0,\n          1\n        ],\n        \"semantic_type\": \"\",\n        \"description\": \"\"\n      }\n    }\n  ]\n}"
            }
          },
          "metadata": {},
          "execution_count": 7
        }
      ]
    },
    {
      "cell_type": "code",
      "source": [
        "y_train = df_train['sentiment']\n",
        "X_test = df_test['clean_review']\n",
        "y_test = df_test['sentiment']"
      ],
      "metadata": {
        "id": "tcvLkNJZUaKk"
      },
      "execution_count": 12,
      "outputs": []
    },
    {
      "cell_type": "markdown",
      "source": [
        "#Model Selecting"
      ],
      "metadata": {
        "id": "Ogzilcx5vnQc"
      }
    },
    {
      "cell_type": "code",
      "source": [
        "import pandas as pd\n",
        "from sklearn.linear_model import LogisticRegression\n",
        "from sklearn.naive_bayes import MultinomialNB\n",
        "from sklearn.neighbors import KNeighborsClassifier\n",
        "from sklearn.tree import DecisionTreeClassifier\n",
        "from sklearn.ensemble import RandomForestClassifier\n",
        "from sklearn.metrics import classification_report,roc_auc_score,auc\n",
        "import matplotlib.pyplot as plt\n",
        "import plotly.express as px\n",
        "import numpy as np\n",
        "models=[]\n",
        "# Define the baseline model\n",
        "LR=LogisticRegression(max_iter=1000)\n",
        "# Define other models\n",
        "NB=MultinomialNB()\n",
        "KN=KNeighborsClassifier()\n",
        "DT=DecisionTreeClassifier(criterion='entropy')\n",
        "RF=RandomForestClassifier(n_estimators=100, criterion='gini')\n",
        "models.append(LR)\n",
        "models.append(NB)\n",
        "models.append(KN)\n",
        "models.append(DT)\n",
        "models.append(RF)\n",
        "# Initialize an empty list to store results\n",
        "results = []\n",
        "# Function to train and evaluate, and store results in a list\n",
        "def train_evaluate(model, X_train, X_test, y_train, y_test, method_name):\n",
        "    model.fit(X_train, y_train)\n",
        "    y_pred = model.predict(X_test)\n",
        "    # Get classification report metrics\n",
        "    report = classification_report(y_test, y_pred, output_dict=True)\n",
        "    # Extract precision, recall, and f1-score for each class\n",
        "    precision = report['accuracy']  # Overall accuracy\n",
        "    recall = np.mean([report[str(i)]['recall'] for i in range(2)])\n",
        "    f1 = np.mean([report[str(i)]['f1-score'] for i in range(2)])\n",
        "    # Append the results to the list\n",
        "    results.append({\n",
        "        'Method': method_name,\n",
        "        'Precision': precision,\n",
        "        'Recall': recall,\n",
        "        'F1-score': f1\n",
        "    })\n",
        "\n",
        "for name,model in models:\n",
        "  print(\"=======================\")\n",
        "  print(\"Model Name: \",name)\n",
        "  # Train and evaluate for each embedding and store the results\n",
        "  # Model with BoW\n",
        "  train_evaluate(model, X_train_bow, X_test_bow, y_train, y_test, 'BoW')\n",
        "  # Model with TF-IDF\n",
        "  train_evaluate(model, X_train_tfidf, X_test_tfidf, y_train, y_test, 'TF-IDF')\n",
        "  # Model with Word2Vec\n",
        "  train_evaluate(model, X_train_w2v, X_test_w2v, y_train, y_test, 'Word2Vec')\n",
        "  # Model with GloVe\n",
        "  train_evaluate(model, X_train_glove, X_test_glove, y_train, y_test, 'GloVe')\n",
        "  # Model with BERT\n",
        "  train_evaluate(model, X_train_bert, X_test_bert, y_train, y_test, 'BERT')\n",
        "  results_df_tfidf = pd.DataFrame(results)\n",
        "  # Display the comparison table\n",
        "  results_df_tfidf"
      ],
      "metadata": {
        "id": "l0maqDWCvcC4",
        "colab": {
          "base_uri": "https://localhost:8080/",
          "height": 211
        },
        "outputId": "c6c5145d-6152-43b8-d36c-4e4ad8cecbc8"
      },
      "execution_count": 9,
      "outputs": [
        {
          "output_type": "error",
          "ename": "TypeError",
          "evalue": "cannot unpack non-iterable LogisticRegression object",
          "traceback": [
            "\u001b[0;31m---------------------------------------------------------------------------\u001b[0m",
            "\u001b[0;31mTypeError\u001b[0m                                 Traceback (most recent call last)",
            "\u001b[0;32m<ipython-input-9-f1f295d16122>\u001b[0m in \u001b[0;36m<cell line: 44>\u001b[0;34m()\u001b[0m\n\u001b[1;32m     42\u001b[0m     })\n\u001b[1;32m     43\u001b[0m \u001b[0;34m\u001b[0m\u001b[0m\n\u001b[0;32m---> 44\u001b[0;31m \u001b[0;32mfor\u001b[0m \u001b[0mname\u001b[0m\u001b[0;34m,\u001b[0m\u001b[0mmodel\u001b[0m \u001b[0;32min\u001b[0m \u001b[0mmodels\u001b[0m\u001b[0;34m:\u001b[0m\u001b[0;34m\u001b[0m\u001b[0;34m\u001b[0m\u001b[0m\n\u001b[0m\u001b[1;32m     45\u001b[0m   \u001b[0mprint\u001b[0m\u001b[0;34m(\u001b[0m\u001b[0;34m\"=======================\"\u001b[0m\u001b[0;34m)\u001b[0m\u001b[0;34m\u001b[0m\u001b[0;34m\u001b[0m\u001b[0m\n\u001b[1;32m     46\u001b[0m   \u001b[0mprint\u001b[0m\u001b[0;34m(\u001b[0m\u001b[0;34m\"Model Name: \"\u001b[0m\u001b[0;34m,\u001b[0m\u001b[0mname\u001b[0m\u001b[0;34m)\u001b[0m\u001b[0;34m\u001b[0m\u001b[0;34m\u001b[0m\u001b[0m\n",
            "\u001b[0;31mTypeError\u001b[0m: cannot unpack non-iterable LogisticRegression object"
          ]
        }
      ]
    },
    {
      "cell_type": "markdown",
      "source": [
        "https://towardsdatascience.com/hyperparameter-tuning-the-random-forest-in-python-using-scikit-learn-28d2aa77dd74\n",
        "\n",
        "Matin look here"
      ],
      "metadata": {
        "id": "WTKFikK4twpT"
      }
    },
    {
      "cell_type": "code",
      "source": [
        "!pip install chart_studio\n",
        "!pip install plotly"
      ],
      "metadata": {
        "colab": {
          "base_uri": "https://localhost:8080/"
        },
        "id": "CvUpPkUd1oj9",
        "outputId": "c833862b-e6ee-47c7-eb62-887dd58f6530"
      },
      "execution_count": 19,
      "outputs": [
        {
          "output_type": "stream",
          "name": "stdout",
          "text": [
            "Collecting chart_studio\n",
            "  Downloading chart_studio-1.1.0-py3-none-any.whl.metadata (1.3 kB)\n",
            "Requirement already satisfied: plotly in /usr/local/lib/python3.10/dist-packages (from chart_studio) (5.24.1)\n",
            "Requirement already satisfied: requests in /usr/local/lib/python3.10/dist-packages (from chart_studio) (2.32.3)\n",
            "Collecting retrying>=1.3.3 (from chart_studio)\n",
            "  Downloading retrying-1.3.4-py3-none-any.whl.metadata (6.9 kB)\n",
            "Requirement already satisfied: six in /usr/local/lib/python3.10/dist-packages (from chart_studio) (1.17.0)\n",
            "Requirement already satisfied: tenacity>=6.2.0 in /usr/local/lib/python3.10/dist-packages (from plotly->chart_studio) (9.0.0)\n",
            "Requirement already satisfied: packaging in /usr/local/lib/python3.10/dist-packages (from plotly->chart_studio) (24.2)\n",
            "Requirement already satisfied: charset-normalizer<4,>=2 in /usr/local/lib/python3.10/dist-packages (from requests->chart_studio) (3.4.0)\n",
            "Requirement already satisfied: idna<4,>=2.5 in /usr/local/lib/python3.10/dist-packages (from requests->chart_studio) (3.10)\n",
            "Requirement already satisfied: urllib3<3,>=1.21.1 in /usr/local/lib/python3.10/dist-packages (from requests->chart_studio) (2.2.3)\n",
            "Requirement already satisfied: certifi>=2017.4.17 in /usr/local/lib/python3.10/dist-packages (from requests->chart_studio) (2024.8.30)\n",
            "Downloading chart_studio-1.1.0-py3-none-any.whl (64 kB)\n",
            "\u001b[2K   \u001b[90m━━━━━━━━━━━━━━━━━━━━━━━━━━━━━━━━━━━━━━━━\u001b[0m \u001b[32m64.4/64.4 kB\u001b[0m \u001b[31m1.9 MB/s\u001b[0m eta \u001b[36m0:00:00\u001b[0m\n",
            "\u001b[?25hDownloading retrying-1.3.4-py3-none-any.whl (11 kB)\n",
            "Installing collected packages: retrying, chart_studio\n",
            "Successfully installed chart_studio-1.1.0 retrying-1.3.4\n",
            "Requirement already satisfied: plotly in /usr/local/lib/python3.10/dist-packages (5.24.1)\n",
            "Requirement already satisfied: tenacity>=6.2.0 in /usr/local/lib/python3.10/dist-packages (from plotly) (9.0.0)\n",
            "Requirement already satisfied: packaging in /usr/local/lib/python3.10/dist-packages (from plotly) (24.2)\n"
          ]
        }
      ]
    },
    {
      "cell_type": "code",
      "source": [
        "\n",
        "def myParameterExperiment(treeCount,criterion, Xtrain,y_train,XTest):\n",
        "  RF=RandomForestClassifier(n_estimators=treeCount, criterion=criterion)\n",
        "  RF.fit(Xtrain, y_train)\n",
        "#train_evaluate(model, X_train_bow, X_test_bow, y_train, y_test, 'BoW')\n",
        "#def train_evaluate(model, X_train, X_test, y_train, y_test, method_name):\n",
        "  RF.fit(Xtrain, y_train)\n",
        "  y_pred = RF.predict(XTest)\n",
        "    # Get classification report metrics\n",
        "  report = classification_report(y_test, y_pred, output_dict=True)\n",
        "    # Extract precision, recall, and f1-score for each class\n",
        "  precision = report['accuracy']  # Overall accuracy\n",
        "  recall = np.mean([report[str(i)]['recall'] for i in range(2)])\n",
        "  f1 = np.mean([report[str(i)]['f1-score'] for i in range(2)])\n",
        "    # Append the results to the list\n",
        "  print(\" found it\" ,precision,recall,f1,criterion)\n",
        "  return [precision,recall,f1]"
      ],
      "metadata": {
        "id": "zP4gQyypnFSV"
      },
      "execution_count": 44,
      "outputs": []
    },
    {
      "cell_type": "code",
      "source": [
        "import numpy as np\n",
        "criterion_list=[\"gini\",\"entropy\", \"log_loss\"]\n",
        "# estrimtors_list=[100,200,300,400,500]\n",
        "estrimtors_list=[5,10]\n",
        "\n",
        "hyperparamter_combo=len(criterion_list)*len(estrimtors_list)\n",
        "\n",
        "precisionList=[]\n",
        "recallList=[]\n",
        "f1List=[]\n",
        "for criterion in criterion_list:\n",
        "  for n_estimators in estrimtors_list:\n",
        "    assessment=myParameterExperiment(n_estimators,criterion,X_train_bow,y_train,X_test_bow)\n",
        "    precisionList.append(assessment[0])\n",
        "    recallList.append(assessment[1])\n",
        "    f1List.append(assessment[2])\n",
        "\n",
        "mydictionary={\n",
        "               \"n_estimators\":estrimtors_list+[None]*(hyperparamter_combo-len(estrimtors_list)),\n",
        "               \"criterion\":criterion_list+[None]*(hyperparamter_combo-len(criterion_list)),\n",
        "               \"precision\":precisionList,\n",
        "               \"recall\":recallList,\n",
        "               \"f1\":f1List}\n",
        "resultDF = pd.DataFrame(mydictionary)\n",
        "resultDF\n",
        "\n",
        "# import pandas as pd\n",
        "\n",
        "# data = [{\"a\": \"ss\", \"b\": 1}, {\"a\": \"yy\", \"b\": 3}]\n",
        "# df = pd.DataFrame(data)\n",
        "#mydictionary"
      ],
      "metadata": {
        "colab": {
          "base_uri": "https://localhost:8080/"
        },
        "id": "Hpiy5tua98QK",
        "outputId": "c2fdd3d8-6386-4000-c875-3b9d55e55641"
      },
      "execution_count": null,
      "outputs": [
        {
          "output_type": "stream",
          "name": "stdout",
          "text": [
            " found it 0.751 0.751116054938154 0.7509998129731928 gini\n"
          ]
        }
      ]
    },
    {
      "cell_type": "code",
      "source": [
        "from plotly.offline import iplot\n",
        "import chart_studio.plotly as py\n",
        "import plotly.graph_objects as go\n",
        "\n",
        "import numpy as np\n",
        "\n",
        "criterion_list=[\"gini\",\"entropy\", \"log_loss\"]\n",
        "estrimtors_list=[100,200,300,400,500]\n",
        "\n",
        "x=pd.DataFrame(criterion_list,columns=['criterion'])\n",
        "y=pd.DataFrame(estrimtors_list,columns=['Numbers'])\n",
        "data = [go.Scatter(x=x[\"criterion\"],\n",
        "            y=y[\"Numbers\"])]\n",
        "\n",
        "iplot(data, filename='jupyter-basic_bar')\n",
        "\n",
        "fig = go.Figure(data=data)\n",
        "# iplot(fig, filename='jupyter-parametric_plot')\n",
        "data"
      ],
      "metadata": {
        "id": "5nfOgRVLAdm4"
      },
      "execution_count": null,
      "outputs": []
    },
    {
      "cell_type": "markdown",
      "source": [
        "Matin dont look any further"
      ],
      "metadata": {
        "id": "P1gOmHaCAfEX"
      }
    },
    {
      "cell_type": "code",
      "source": [
        "from sklearn.metrics import roc_auc_score\n",
        "from itertools import cycle\n",
        "def roc_curve_plot(models,X_test,y_test):\n",
        "  for name,model in models:\n",
        "    print(\"=======================\")\n",
        "    print(\"Model Name: \",name)\n",
        "    model_prob = model.predict_proba(X_test)\n",
        "\n",
        "    # roc curve for models\n",
        "    fpr1, tpr1, thresh1 = roc_curve(y_test, model_prob[:,1], pos_label=1)\n",
        "\n",
        "    # roc curve for tpr = fpr\n",
        "    random_probs = [0 for i in range(len(y_test))]\n",
        "    p_fpr, p_tpr, _ = roc_curve(y_test, random_probs, pos_label=1)\n",
        "\n",
        "    # auc scores\n",
        "    auc_model = roc_auc_score(y_test, model_prob[:,1])\n",
        "    print(auc_model)\n",
        "\n",
        "    # plot roc curves\n",
        "    colors = cycle(['red','green','navy', 'aqua', 'darkorange', 'cornflowerblue'])\n",
        "    plt.plot(fpr1, tpr1, linestyle='--',color=colors, label=name + ' auc=' + str(auc_model))\n",
        "    plt.plot(p_fpr, p_tpr, linestyle='--', color='deeppink')\n",
        "\n",
        "  # title\n",
        "  plt.title('ROC curve')\n",
        "  # x label\n",
        "  plt.xlabel('False Positive Rate')\n",
        "  # y label\n",
        "  plt.ylabel('True Positive rate')\n",
        "\n",
        "  plt.legend(loc='best')\n",
        "  plt.savefig('ROC',dpi=800)\n",
        "  plt.show();\n",
        "\n",
        "# default test dataset\n",
        "roc_curve_plot(models,X_test,y_test)"
      ],
      "metadata": {
        "id": "eCKxwv-JzS2r"
      },
      "execution_count": null,
      "outputs": []
    },
    {
      "cell_type": "markdown",
      "source": [
        "# Model Optimization"
      ],
      "metadata": {
        "id": "67SpRXdc90mh"
      }
    }
  ]
}