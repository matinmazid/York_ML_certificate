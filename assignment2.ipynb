{
  "nbformat": 4,
  "nbformat_minor": 0,
  "metadata": {
    "colab": {
      "provenance": [],
      "toc_visible": true,
      "authorship_tag": "ABX9TyM0AnP0FpJln8j3lr1gYoy/",
      "include_colab_link": true
    },
    "kernelspec": {
      "name": "python3",
      "display_name": "Python 3"
    },
    "language_info": {
      "name": "python"
    }
  },
  "cells": [
    {
      "cell_type": "markdown",
      "metadata": {
        "id": "view-in-github",
        "colab_type": "text"
      },
      "source": [
        "<a href=\"https://colab.research.google.com/github/matinmazid/York_ML_certificate/blob/master/assignment2.ipynb\" target=\"_parent\"><img src=\"https://colab.research.google.com/assets/colab-badge.svg\" alt=\"Open In Colab\"/></a>"
      ]
    },
    {
      "cell_type": "markdown",
      "source": [
        "Load all the dependant libraries"
      ],
      "metadata": {
        "id": "9ZXkXCB8MvvO"
      }
    },
    {
      "cell_type": "markdown",
      "source": [
        "# Scenario 0 No context provided to model"
      ],
      "metadata": {
        "id": "p4mpG5Ve7zpt"
      }
    },
    {
      "cell_type": "code",
      "execution_count": 1,
      "metadata": {
        "id": "5BUlQT1VKP0K"
      },
      "outputs": [],
      "source": [
        "!pip --quiet install langchain langchain_community pypdf langchain_core langchain-text-splitters langchain-chroma\n",
        "!pip --quiet install chromadb"
      ]
    },
    {
      "cell_type": "code",
      "source": [
        "#apiKey=input(\"Enter your openai api key\")\n",
        "print(\"hidden\")"
      ],
      "metadata": {
        "colab": {
          "base_uri": "https://localhost:8080/"
        },
        "id": "NpQG0q0rTMHt",
        "outputId": "646d280d-153c-463f-d92d-c8dcfbc0b676"
      },
      "execution_count": 34,
      "outputs": [
        {
          "output_type": "stream",
          "name": "stdout",
          "text": [
            "hidden\n"
          ]
        }
      ]
    },
    {
      "cell_type": "code",
      "source": [
        "import os\n",
        "os.environ['OPENAI_API_KEY']=apiKey"
      ],
      "metadata": {
        "id": "1Z0NJOq4NBF_"
      },
      "execution_count": 4,
      "outputs": []
    },
    {
      "cell_type": "markdown",
      "source": [
        "Create the lang chain"
      ],
      "metadata": {
        "id": "Dxu-lUg_UHyA"
      }
    },
    {
      "cell_type": "code",
      "source": [
        "from langchain.chat_models import ChatOpenAI\n",
        "import langchain_core\n",
        "from langchain_core.output_parsers import StrOutputParser\n",
        "from langchain.prompts import ChatPromptTemplate\n",
        "model = ChatOpenAI(temperature=0, model_name = \"gpt-3.5-turbo\")\n",
        "output_parser = StrOutputParser()\n",
        "chatPrompt=ChatPromptTemplate.from_messages(\n",
        "    [(\"system\",\"you are a financial specialist with experience in Aritifical Intelligence\"),\n",
        "     (\"user\",\"what is XBRL and its relationship to AICPA\")]\n",
        "    )"
      ],
      "metadata": {
        "id": "9V5-5Df1UEFY",
        "colab": {
          "base_uri": "https://localhost:8080/"
        },
        "outputId": "95384089-f60d-443e-eb44-d79543982a0a"
      },
      "execution_count": 5,
      "outputs": [
        {
          "output_type": "stream",
          "name": "stderr",
          "text": [
            "<ipython-input-5-749de0fa123d>:5: LangChainDeprecationWarning: The class `ChatOpenAI` was deprecated in LangChain 0.0.10 and will be removed in 1.0. An updated version of the class exists in the :class:`~langchain-openai package and should be used instead. To use it run `pip install -U :class:`~langchain-openai` and import as `from :class:`~langchain_openai import ChatOpenAI``.\n",
            "  model = ChatOpenAI(temperature=0, model_name = \"gpt-3.5-turbo\")\n"
          ]
        }
      ]
    },
    {
      "cell_type": "code",
      "source": [
        "chain= chatPrompt | model | output_parser"
      ],
      "metadata": {
        "id": "5HDEo4-hUa1I"
      },
      "execution_count": 6,
      "outputs": []
    },
    {
      "cell_type": "code",
      "source": [
        "chain.invoke({})\n"
      ],
      "metadata": {
        "colab": {
          "base_uri": "https://localhost:8080/",
          "height": 226
        },
        "id": "MDYGytCIiZfi",
        "outputId": "ad435199-e274-42b9-ca91-8bddd001085a"
      },
      "execution_count": 7,
      "outputs": [
        {
          "output_type": "execute_result",
          "data": {
            "text/plain": [
              "'XBRL stands for eXtensible Business Reporting Language, which is a standardized format for the electronic communication of business and financial data. It allows companies to easily and accurately transmit financial information in a machine-readable format. XBRL tags data using a standardized set of codes, making it easier for investors, analysts, regulators, and other stakeholders to access and analyze financial information.\\n\\nThe American Institute of Certified Public Accountants (AICPA) is a professional organization for certified public accountants in the United States. The AICPA has been involved in promoting the use of XBRL for financial reporting. The AICPA has developed guidance and resources to help accountants and companies implement XBRL effectively in their financial reporting processes.\\n\\nIn summary, the AICPA has been supportive of the adoption of XBRL as a tool for improving the accuracy and efficiency of financial reporting, and has provided guidance to its members on how to implement XBRL in their practices.'"
            ],
            "application/vnd.google.colaboratory.intrinsic+json": {
              "type": "string"
            }
          },
          "metadata": {},
          "execution_count": 7
        }
      ]
    },
    {
      "cell_type": "markdown",
      "source": [
        "# Scenario 1 Load pdf document loader saving to Chromadb"
      ],
      "metadata": {
        "id": "3itOPpD27ak5"
      }
    },
    {
      "cell_type": "code",
      "source": [
        "!pip install --upgrade --quiet pypdf\n",
        "!pip install --upgrade --quiet langchain_openai\n",
        "!pip install tiktoken"
      ],
      "metadata": {
        "colab": {
          "base_uri": "https://localhost:8080/"
        },
        "id": "pH4Rs-Tbji3p",
        "outputId": "85b4ca97-d7a1-4824-9be4-1de190b27c7e"
      },
      "execution_count": 8,
      "outputs": [
        {
          "output_type": "stream",
          "name": "stdout",
          "text": [
            "Requirement already satisfied: tiktoken in /usr/local/lib/python3.11/dist-packages (0.9.0)\n",
            "Requirement already satisfied: regex>=2022.1.18 in /usr/local/lib/python3.11/dist-packages (from tiktoken) (2024.11.6)\n",
            "Requirement already satisfied: requests>=2.26.0 in /usr/local/lib/python3.11/dist-packages (from tiktoken) (2.32.3)\n",
            "Requirement already satisfied: charset-normalizer<4,>=2 in /usr/local/lib/python3.11/dist-packages (from requests>=2.26.0->tiktoken) (3.4.1)\n",
            "Requirement already satisfied: idna<4,>=2.5 in /usr/local/lib/python3.11/dist-packages (from requests>=2.26.0->tiktoken) (3.10)\n",
            "Requirement already satisfied: urllib3<3,>=1.21.1 in /usr/local/lib/python3.11/dist-packages (from requests>=2.26.0->tiktoken) (2.3.0)\n",
            "Requirement already satisfied: certifi>=2017.4.17 in /usr/local/lib/python3.11/dist-packages (from requests>=2.26.0->tiktoken) (2025.1.31)\n"
          ]
        }
      ]
    },
    {
      "cell_type": "markdown",
      "source": [
        "https://www.stern.nyu.edu/sites/default/files/assets/documents/ChenChoDouLev2021WP.pdf\n",
        "\n",
        "https://python.langchain.com/v0.2/docs/how_to/document_loader_pdf/"
      ],
      "metadata": {
        "id": "cHc6DHAXg7vh"
      }
    },
    {
      "cell_type": "code",
      "source": [
        "from langchain_community.document_loaders import PyPDFLoader\n",
        "from langchain_text_splitters import RecursiveCharacterTextSplitter\n",
        "from langchain_openai import ChatOpenAI, OpenAIEmbeddings\n",
        "import tiktoken\n",
        "from langchain_community.vectorstores import Chroma\n",
        "from langchain_core.runnables import RunnablePassthrough\n",
        "\n",
        "loader = PyPDFLoader(\"ChenChoDouLev2021WP.pdf\")\n",
        "docs = loader.load()\n",
        "\n",
        "\n",
        "# split and chuck the input data\n",
        "text_splitter = RecursiveCharacterTextSplitter(chunk_size=512, chunk_overlap=0)\n",
        "# text splitter knows how to extract the text of a sourced doc\n",
        "all_splits = text_splitter.split_documents(docs)\n",
        "\n",
        "# all_texts = [cleanStr(doc.page_content) for doc in all_splits]\n",
        "# all_texts\n",
        "\n",
        "\n",
        "vectorstore = Chroma.from_documents(documents=all_splits,\n",
        "                                    embedding=OpenAIEmbeddings())\n",
        "retriever = vectorstore.as_retriever()\n",
        "\n",
        "from langchain import hub\n",
        "prompt = hub.pull(\"rlm/rag-prompt\")\n",
        "\n",
        "def format_docs(docs):\n",
        "    return \"\\n\\n\".join(doc.page_content for doc in docs)\n",
        "rag_chain = (\n",
        "    {\"context\": retriever | format_docs, \"question\": RunnablePassthrough()}\n",
        "    | prompt\n",
        "    | model\n",
        "    | StrOutputParser()\n",
        ")\n",
        "\n",
        "rag_chain.invoke(\"what is XBRL and its relationship to AICPA\")\n",
        "\n",
        "\n"
      ],
      "metadata": {
        "colab": {
          "base_uri": "https://localhost:8080/",
          "height": 142
        },
        "id": "Ss4xJraiBFzd",
        "outputId": "073727c8-4167-458e-c8c8-573a75c5db97"
      },
      "execution_count": 9,
      "outputs": [
        {
          "output_type": "stream",
          "name": "stderr",
          "text": [
            "/usr/local/lib/python3.11/dist-packages/langsmith/client.py:253: LangSmithMissingAPIKeyWarning: API key must be provided when using hosted LangSmith API\n",
            "  warnings.warn(\n"
          ]
        },
        {
          "output_type": "execute_result",
          "data": {
            "text/plain": [
              "'XBRL is the eXtensible Business Reporting Language used for financial reporting. The AICPA is involved in developing data quality tools and working with the FASB on U.S. GAAP taxonomy enhancements related to XBRL. The Data Quality Committee of XBRL U.S. sets guidance and validation rules for XBRL reporting.'"
            ],
            "application/vnd.google.colaboratory.intrinsic+json": {
              "type": "string"
            }
          },
          "metadata": {},
          "execution_count": 9
        }
      ]
    },
    {
      "cell_type": "markdown",
      "source": [
        "# Scenario 2 Pine cone database and webcrawler\n",
        "https://python.langchain.com/docs/integrations/document_loaders/recursive_url/\n",
        "https://www150.statcan.gc.ca/n1/daily-quotidien/250207/dq250207a-eng.htm\n"
      ],
      "metadata": {
        "id": "XSPrIYkqo_fv"
      }
    },
    {
      "cell_type": "code",
      "source": [
        "!pip install -qU langchain-community beautifulsoup4 lxml"
      ],
      "metadata": {
        "id": "GsQODv-spVrc"
      },
      "execution_count": 10,
      "outputs": []
    },
    {
      "cell_type": "code",
      "source": [
        "import re\n",
        "from bs4 import BeautifulSoup\n",
        "# import html as htmlTool\n",
        "\n",
        "\n",
        "def bs4_extractor(html: str) -> str:\n",
        "    soup = BeautifulSoup(html, \"lxml\")\n",
        "    someText=re.sub(r\"\\n\\n+\", \"\\n\\n\", soup.text).strip()\n",
        "    # someText=htmlTool.unescape(someText)\n",
        "    # the test page had non-breaking space as well as other non acii characters\n",
        "    # we get rid of them\n",
        "    return someText.encode('latin-1', 'ignore').decode('ascii',\"ignore\")\n",
        ""
      ],
      "metadata": {
        "id": "4S8r8Y7duVgS"
      },
      "execution_count": 11,
      "outputs": []
    },
    {
      "cell_type": "code",
      "source": [
        "from langchain_community.document_loaders import RecursiveUrlLoader\n",
        "loader=RecursiveUrlLoader(url=\"https://www150.statcan.gc.ca/n1/daily-quotidien/250207/dq250207a-eng.htm\",\n",
        "                           use_async=False\n",
        "                          ,extractor=bs4_extractor)\n",
        "\n",
        "docs_html = loader.load()\n",
        "\n",
        "# text splitter knows how to extract the text of a sourced doc\n",
        "text_splitter = RecursiveCharacterTextSplitter(chunk_size=512, chunk_overlap=0)\n",
        "# text splitter knows how to extract the text of a sourced doc\n",
        "all_splits = text_splitter.split_documents(docs_html)\n",
        "\n",
        "\n",
        "\n",
        "\n"
      ],
      "metadata": {
        "colab": {
          "base_uri": "https://localhost:8080/"
        },
        "id": "61wtdTFmtGn1",
        "outputId": "42c0da30-71d1-403c-df13-1dc12c12aab1"
      },
      "execution_count": 33,
      "outputs": [
        {
          "output_type": "execute_result",
          "data": {
            "text/plain": [
              "[Document(metadata={'source': 'https://www150.statcan.gc.ca/n1/daily-quotidien/250207/dq250207a-eng.htm', 'content_type': 'text/html; charset=UTF-8', 'title': 'The Daily\\xa0—\\xa0Labour Force Survey, January 2025', 'description': 'Employment increased by 76,000 (+0.4%) in January and the employment rate rose 0.1 percentage points to 61.1%. The unemployment rate declined 0.1 percentage points to 6.6%.', 'language': 'en'}, page_content='The DailyLabour Force Survey, January 2025\\n\\nSkip to main content\\n\\nSkip to \"About this site\"\\n\\nLanguage selection\\n\\nFranais\\n\\n / Statistique Canada\\n\\nSearch and menus\\n\\nSearch and menus\\n\\nSearch\\n\\nSearch website\\n\\nSearch\\n\\nTopics menu\\n\\nSubjects\\nData\\nAnalysis\\nReference\\nGeography\\nCensus\\nSurveys and statistical programs\\nAbout StatCan\\nCanada.ca\\n\\nHome\\nThe Daily\\n\\nThe Daily\\n|\\n\\nSearch The Daily\\n\\nSearch website\\n\\nSearch\\n\\nIn the news\\nIndicators\\nReleases by subject\\n\\nSpecial interest\\nRelease schedule\\nInformation\\n\\nLabour Force Survey, January 2025\\n\\nText- Selected Tables Related information Release schedule\\nPrevious release\\nPDF (747 KB)\\n\\nReleased:2025-02-07\\n\\n\\r\\n    Select geography\\n\\nCanada\\nNewfoundland and Labrador\\nPrince Edward Island\\nNova Scotia\\nNew Brunswick\\nQuebec\\nOntario\\nManitoba\\nSaskatchewan\\nAlberta\\nBritish Columbia\\n\\nTab1\\nTab2\\n\\n\\r\\nEmployment  Canada\\r\\n\\n20,993,000\\nJanuary2025\\n\\n0.4%\\n(monthly change)\\n\\n Source(s): Table 14-10-0287-01.\\r\\n\\n\\r\\nUnemployment rate  Canada\\r\\n\\n6.6%\\nJanuary2025\\n\\n-0.1pts\\n(monthly change)\\n\\n Source(s): Table 14-10-0287-01.\\r\\n\\nTab1\\nTab2\\n\\n\\r\\nEmployment  N.L.\\r\\n\\n243,000\\nJanuary2025\\n\\n-0.0%\\n(monthly change)\\n\\n Source(s): Table 14-10-0287-01.\\r\\n\\n\\r\\nUnemployment rate  N.L.\\r\\n\\n10.6%\\nJanuary2025\\n\\n0.1pts\\n(monthly change)\\n\\n Source(s): Table 14-10-0287-01.\\r\\n\\nTab1\\nTab2\\n\\n\\r\\nEmployment  P.E.I.\\r\\n\\n94,000\\nJanuary2025\\n\\n-0.3%\\n(monthly change)\\n\\n Source(s): Table 14-10-0287-01.\\r\\n\\n\\r\\nUnemployment rate  P.E.I.\\r\\n\\n7.2%\\nJanuary2025\\n\\n-1.3pts\\n(monthly change)\\n\\n Source(s): Table 14-10-0287-01.\\r\\n\\nTab1\\nTab2\\n\\n\\r\\nEmployment  N.S.\\r\\n\\n527,000\\nJanuary2025\\n\\n-0.1%\\n(monthly change)\\n\\n Source(s): Table 14-10-0287-01.\\r\\n\\n\\r\\nUnemployment rate  N.S.\\r\\n\\n5.9%\\nJanuary2025\\n\\n-0.4pts\\n(monthly change)\\n\\n Source(s): Table 14-10-0287-01.\\r\\n\\nTab1\\nTab2\\n\\n\\r\\nEmployment  N.B.\\r\\n\\n403,000\\nJanuary2025\\n\\n0.7%\\n(monthly change)\\n\\n Source(s): Table 14-10-0287-01.\\r\\n\\n\\r\\nUnemployment rate  N.B.\\r\\n\\n6.4%\\nJanuary2025\\n\\n-1.3pts\\n(monthly change)\\n\\n Source(s): Table 14-10-0287-01.\\r\\n\\nTab1\\nTab2\\n\\n\\r\\nEmployment  Que.\\r\\n\\n4,636,000\\nJanuary2025\\n\\n0.3%\\n(monthly change)\\n\\n Source(s): Table 14-10-0287-01.\\r\\n\\n\\r\\nUnemployment rate  Que.\\r\\n\\n5.4%\\nJanuary2025\\n\\n-0.2pts\\n(monthly change)\\n\\n Source(s): Table 14-10-0287-01.\\r\\n\\nTab1\\nTab2\\n\\n\\r\\nEmployment  Ont.\\r\\n\\n8,240,000\\nJanuary2025\\n\\n0.5%\\n(monthly change)\\n\\n Source(s): Table 14-10-0287-01.\\r\\n\\n\\r\\nUnemployment rate  Ont.\\r\\n\\n7.6%\\nJanuary2025\\n\\n0.1pts\\n(monthly change)\\n\\n Source(s): Table 14-10-0287-01.\\r\\n\\nTab1\\nTab2\\n\\n\\r\\nEmployment  Man.\\r\\n\\n731,000\\nJanuary2025\\n\\n0.3%\\n(monthly change)\\n\\n Source(s): Table 14-10-0287-01.\\r\\n\\n\\r\\nUnemployment rate  Man.\\r\\n\\n6.1%\\nJanuary2025\\n\\n-0.1pts\\n(monthly change)\\n\\n Source(s): Table 14-10-0287-01.\\r\\n\\nTab1\\nTab2\\n\\n\\r\\nEmployment  Sask.\\r\\n\\n606,000\\nJanuary2025\\n\\n-0.3%\\n(monthly change)\\n\\n Source(s): Table 14-10-0287-01.\\r\\n\\n\\r\\nUnemployment rate  Sask.\\r\\n\\n5.4%\\nJanuary2025\\n\\n-0.6pts\\n(monthly change)\\n\\n Source(s): Table 14-10-0287-01.\\r\\n\\nTab1\\nTab2\\n\\n\\r\\nEmployment  Alta.\\r\\n\\n2,568,000\\nJanuary2025\\n\\n-0.2%\\n(monthly change)\\n\\n Source(s): Table 14-10-0287-01.\\r\\n\\n\\r\\nUnemployment rate  Alta.\\r\\n\\n6.7%\\nJanuary2025\\n\\n0.0pts\\n(monthly change)\\n\\n Source(s): Table 14-10-0287-01.\\r\\n\\nTab1\\nTab2\\n\\n\\r\\nEmployment  B.C.\\r\\n\\n2,944,000\\nJanuary2025\\n\\n0.8%\\n(monthly change)\\n\\n Source(s): Table 14-10-0287-01.\\r\\n\\n\\r\\nUnemployment rate  B.C.\\r\\n\\n6.0%\\nJanuary2025\\n\\n0.1pts\\n(monthly change)\\n\\n Source(s): Table 14-10-0287-01.\\r\\n\\nHighlightsEmployment increased by76,000(+0.4%) in January and the employment rate rose0.1percentage points to61.1%. The unemployment rate declined0.1percentage points to6.6%.In January, employment increased for youth aged15to24(+31,000; +1.1%), as well as for women (+36,000; +0.5%) and men (+28,000; +0.4%) in the core working age group of25to54years old.Employment gains in January were led by manufacturing (+33,000; +1.8%) and professional, scientific and technical services (+22,000; +1.1%).Employment rose in Ontario (+39,000; +0.5%), British Columbia (+23,000; +0.8%), and New Brunswick (+2,900; +0.7%) and was little changed in the other provinces in January.Average hourly wages were up3.5% (+$1.23to $35.99) on a year-over-year basis (not seasonally adjusted). This followed year-over-year growth of4.0% in December.Total actual hours worked rose0.9% in January and were up2.2% on a year-over-year basis.Employment increases for the third consecutive month in JanuaryEmployment rose by76,000(+0.4%) in January, following increases in December (+91,000; +0.4%) and November (+44,000; +0.2%). Over this three-month period, there were increases both in full-time work (+147,000; +0.9%) and part-time work (+64,000; +1.7%).The employment ratethe proportion of the population aged15and older who are employedincreased0.1percentage points to61.1% in January, marking the third consecutive monthly increase. These recent increases follow a period in which employment growth had been outpaced by population growth, resulting in the employment rate declining1.7percentage points from April2023to October2024.\\n\\nChart1\\n\\n\\r\\nEmployment rate rises for the third consecutive month in January, following a downward trend throughout most of2023and2024\\r\\n\\nInfographic1\\n\\n\\r\\nEmployment rate by age group\\r\\n\\nThe number of employees in the private sector increased by57,000(+0.4%) in January, building on an increase in December (+39,000; +0.3%). This brought year-over-year growth for private sector employment to215,000(+1.6%).Employment in the public sector was little changed in January but was up107,000(+2.4%) compared with12months earlier. The number of self-employed people rose by27,000(+1.0%) in January and was up94,000(+3.6%) on a year-over-year basis.Employment rises among core-aged men and women as well as youthEmployment growth in January was concentrated among people in the core working age group (25to54years old), with increases both for women (+36,000; +0.5%) and men (+28,000; +0.4%) in this age group.For core-aged men, this was the third consecutive month of employment growth, bringing cumulative gains since October to90,000(+1.3%). For core-aged women, the employment increase in January was the first since August.Employment rates also increased both for core-aged women (+0.3percentage points to80.4%) and men (+0.2percentage points to86.8%) in January.Employment for youth aged15to24increased by31,000(+1.1%) in January, led by gains among young men (+25,000; +1.8%). The employment rate among youth increased by0.6percentage points to54.5% in January, the first increase since April2024.Among men aged55and older, employment fell by20,000(-0.8%) in January, partially offsetting a gain in the previous month (+35,000; +1.5%). Employment for women aged55and older was little changed in the month.Unemployment rate ticks down to6.6% The unemployment rate declined0.1percentage points to6.6% in January, marking the second consecutive monthly decline from a recent peak of6.9% in November2024. The unemployment rate had previously increased1.9percentage points from March2023to November2024, as labour market conditions cooled after a period of low unemployment rates and high job vacancies following the COVID-19pandemic.The total number of unemployed people was little changed at1.5million in January but was up by251,000(+20.2%) from a year earlier. Among those who were unemployed in December,65.4% remained unemployed in January, higher than the corresponding proportion in January2024(61.7%) (not seasonally adjusted). This indicates that many unemployed people are facing continued difficulties finding employment, despite recent employment growth.Unemployment rate falls for youth, holds steady for core-aged men and womenThe decline in the overall unemployment rate in January was driven by youth aged15to24, whose unemployment rate fell0.6percentage points to13.6%, down from a recent high of14.2% in August and December2024.\\n\\nChart2\\n\\n\\r\\nUnemployment rate declines in January\\r\\n\\nInfographic2\\n\\n\\r\\nUnemployment rate by age group\\r\\n\\nDespite the decline in January, the youth unemployment rate remained elevated for some groups, including racialized youth. Among the three largest racialized population groups, the youth unemployment rate was up on a year-over-year basis for South Asian (+5.2percentage points to15.2%) and Chinese (+3.9percentage points to16.6%) Canadians. Among Black youth, the unemployment rate was18.6% in January, little changed from a year earlier. In comparison, the unemployment rate of youth who were not racialized and not Indigenous was10.8% in January2025, up from9.4% in January2024(three-month moving averages, not seasonally adjusted).The unemployment rates for core-aged women and men were little changed in January, both at5.6%. Among people aged55and older, the unemployment rate fell0.3percentage points to4.5% for women and was unchanged at5.5% for men.Year-over-year growth in average hourly wages decelerates for third consecutive monthAverage hourly wages were up3.5% on a year-over-year basis in January (+$1.23to $35.99), the slowest pace of growth since April2022. The rate of growth was4.0% in December and4.2% in November. Starting in the second half of2022and throughout most of2023and2024, year-over-year wage growth hovered around5.0%, bolstered by broad-based employment and wage growth.In January, year-over-year wage growth slowed both for permanent employees (+3.7% to $36.83) and temporary employees (+2.5% to $28.65).Employment gains across several industries Manufacturing employment rose by33,000(+1.8%) in January, following an increase of17,000(+0.9%) in December. The increase in January was concentrated in Ontario (+11,000; +1.3%), Quebec (+9,700; +1.9%) and British Columbia (+8,700; +4.9%). Despite the gains in the past two months, overall employment in manufacturing was little changed on a year-over-year basis in January.Employment rose in professional, scientific and technical services in January (+22,000; +1.1%), the second increase in the past three months. On a year-over-year basis, employment in the industry was up by66,000(+3.4%).\\n\\nChart3\\n\\n\\r\\nEmployment gains led by manufacturing in January\\r\\n\\nEmployment in construction increased by19,000(+1.2%) in January, building on a net increase of47,000(+2.9%) recorded from June to December2024. On a year-over-year basis, employment in construction was up by58,000(+3.6%) in January.Employment also increased in accommodation and food services (+15,000; +1.3%), transportation and warehousing (+13,000; +1.2%) and agriculture (+10,000; +4.4%) in January. At the same time, there were fewer people employed in \"other services\" (which includes personal and repair services) (-14,000; -1.8%).Employment increases in Ontario, British Columbia, and New Brunswick In Ontario, employment increased by39,000(+0.5%) in January, following a gain of32,000in December. The employment rate in the province rose0.2percentage points to60.5% in January, the first increase since June2023, while the unemployment rate held steady at7.6%.Employment increased for the second consecutive month in British Columbia (+23,000; +0.8%) in January, and the employment rate rose0.4percentage points to61.3%. Despite the employment gain, the unemployment rate in British Columbia was little changed at6.0% in January, as more people participated in the labour force.\\n\\nMap1\\n\\n\\r\\nUnemployment rate by province and territory, January2025\\r\\n\\nEmployment also increased in New Brunswick in January (+2,900; +0.7%) and the unemployment rate in the province fell1.3percentage points to6.4%. At the same time, fewer people participated in the labour force in January in New Brunswick, and the labour force participation rate declined0.4percentage points to60.0%.Employment in Quebec was little changed for the second consecutive month in January. On a year-over-year basis, employment in Quebec was up by95,000(+2.1%), with gains concentrated in the second half of2024. The unemployment rate in the province was little changed in January at5.4% but was up0.8percentage points on a year-over-year basis.In the spotlight: Workers less likely to report planning to leave their job compared with12months earlierChanging economic conditions can impact the number of employees who intend to leave their job. As labour market conditions cool and the perceived likelihood of finding new employment decreases, employees may be more likely to seek stability in their current job. While the unemployment rate in Canada has declined in the last two months, it was higher in January2025(6.6%) than12months earlier (6.1%).The job changing rate, which measures the proportion of workers who remained employed from one month to the next but who had changed jobs, was0.4% in January. This was lower than the corresponding proportion in January2024(0.5%) and lower than the pre-pandemic average for January from2017to2019(0.7%).In addition,6.1% of permanent employees in January reported that they were planning to leave their job in the next12months, down from6.9% in January2024(population aged15to69).In recent years, workers in many health care occupations have faced pressures at work, such as high levels of stress and more overtime work. However, in January2025, the proportion of permanent employees in health occupations who intended to leave their job in the next12months was1.7percentage points lower than a year earlier (4.8% compared with6.5% in January2024, population aged15to69).Dimensions of quality of employment, such as income and benefits, can have an impact on employee retention and intention to leave a job. For example, in January2025, employees in sales and service occupations (9.0%) were the most likely to report planning to leave their job in the next12months, and also had the lowest average hourly wages ($23.21) among major occupational groups.As immigrants integrate into the Canadian labour market, they often face challenges finding work well-aligned with their qualifications. In January2025, nearly1in10(9.3%) permanent employees who were recent immigrantsthat is, who had become permanent residents in the previous five yearsintended to leave their job in the next12months, down from11.6% in January2024. In comparison,5.8% of their counterparts who were born in Canada indicated in January2025that they intended to leave their job in the next12months, down from6.7% in January2024. In the spotlight: The manufacturing sector, which has dependencies on US demand for Canadian exports, accounts for8.9% of total employment in Canada Employment in manufacturing may be particularly susceptible to changes in tariffs and foreign demand; the sector has the largest number of jobs dependent on US demand for Canadian exports. An estimated641,000or39.4% of jobs in manufacturing depend on US demand for Canadian exports (based on the latest available estimates on value added in exports from the System of Macroeconomic Accounts).According to the Labour Force Survey, there were1.9million people employed in manufacturing in January, comprising8.9% of total employmentthe fourth largest sector in Canada. Manufacturing employment, as a total share of employment, has trended down over the years, particularly in the2000s, but has been more stable since2010.In January, private sector employees in manufacturing were more likely to work in full-time (95.3%) and permanent (95.3%) jobs compared with employees across all industries (82.6% of jobs were full-time and89.6% of jobs were permanent). The union coverage rate for private sector employees in manufacturing (21.8%) remained higher than the average for all private sector employees (14.9%) but was down from the rate of33.8% recorded in January2002(three-month moving averages, not seasonally adjusted).In January2025, the average hourly wage for private sector employees working in manufacturing was $34.80, slightly higher than the average of $33.97for all private sector employees. On a year-over-year basis, wages were up2.2% for employees in manufacturing (not seasonally adjusted).Automotive manufacturing industries are highly integrated with US supply chains; an estimated68.3% of jobs in these industries depend on US demand for Canadian exports. People working in automotive manufacturing (which includes motor vehicle manufacturing, motor vehicle parts manufacturing and motor vehicle body and trailer manufacturing) were concentrated in Southern Ontario, particularly in the economic regions of Toronto (which accounted for27.7% of all auto workers), KitchenerWaterlooBarrie (19.8%) and Windsor-Sarnia (14.8%) in January. In Windsor-Sarnia, automotive manufacturing industries accounted for38.3% of manufacturing employment and7.3% of total employment (three-month moving averages, not seasonally adjusted).\\n\\nChart4\\n\\n\\r\\nEconomic regions with highest employment in manufacturing in January2025\\r\\n\\nOver one-quarter (26.5%) of automotive manufacturing employees were covered by a collective bargaining agreement in January2025. In comparison, the union coverage rate in automotive industries was nearly twice as high in January2002(49.9%).Food manufacturing was the largest manufacturing subsector overall and accounted for16.4% of all manufacturing employment in January. It was also the largest manufacturing subsector across all provinces, except in Ontario. This subsector is less reliant on foreign demand, with28.8% of jobs dependent on US demand for Canadian exports.Did you know we have a mobile app?Download our mobile app and get timely access to data at your fingertips! The StatsCAN app is available for free on the App Store and on Google Play.\\n\\nTable1Labour force characteristics by age group and gender, seasonally adjusted\\n\\nTable2Employment by class of worker and industry, seasonally adjusted\\n\\nTable3Labour force characteristics by province, seasonally adjusted\\n\\nTable4Labour force characteristics by province, age group and gender, seasonally adjusted (Newfoundland and Labrador, Prince Edward Island, Nova Scotia, and New Brunswick)\\n\\nTable5Labour force characteristics by province, age group and gender, seasonally adjusted (Quebec, Ontario, Manitoba, Saskatchewan, Alberta, and British Columbia)\\n\\nTable6Employment by province and industry, seasonally adjusted\\n\\nTable7Labour force characteristics by census metropolitan area, three-month moving average, seasonally adjusted\\n\\nTable8Labour force characteristics by Montral, Toronto and Vancouver census metropolitan areas, monthly, seasonally adjusted\\n\\nTable9Labour force characteristics by province and economic region, three-month moving average ending in January2024and January2025, unadjusted for seasonality\\n\\nTable10Labour force characteristics by territory, three-month moving average, seasonally adjusted\\n\\nTable11Average usual hours and wages of employees by selected characteristics, unadjusted for seasonality\\n\\nTable12Regional unemployment rates used by the Employment Insurance program,,  three-month moving average, seasonally adjusted\\n\\nSustainable Development GoalsOn January1,2016, the world officially began implementation of the 2030Agenda for Sustainable Developmentthe United Nations\\' transformative plan of action that addresses urgent global challenges over the next15years. The plan is based on17specific sustainable development goals.The Labour Force Survey is an example of how Statistics Canada supports the reporting on the Global Goals for Sustainable Development. This release will be used in helping to measure the following goals:\\n\\nNote to readers\\n\\nThe Labour Force Survey (LFS) estimates for January are for the week of January12to18,2025.The LFS estimates are based on a sample and are therefore subject to sampling variability. As a result, monthly estimates will show more variability than trends observed over longer time periods. For more information, see \"Interpreting Monthly Changes in Employment from the Labour Force Survey.\"This analysis focuses on differences between estimates that are statistically significant at the68% confidence level.LFS estimates at the Canada level do not include the territories.The LFS estimates are the first in a series of labour market indicators released by Statistics Canada, which includes indicators from programs such as the Survey of Employment, Payrolls and Hours (SEPH); Employment Insurance Statistics; and the Job Vacancy and Wage Survey. For more information on the conceptual differences between employment measures from the LFS and those from the SEPH, refer to section8of the Guide to the Labour Force Survey (Catalogue number71-543-G).Face-to-face personal interviewing resumed in November2022. Telephone interviews continued to be conducted by interviewers working mainly from their homes rather than Statistics Canada\\'s call centres, as they have since March2020. About48,900interviews were completed in January2025and in-depth data quality evaluations conducted each month confirm that the LFS continues to produce an accurate portrait of Canada\\'s labour market.The employment rate is the number of employed people as a percentage of the population aged15and older. The rate for a particular group (for example, youths aged15to24) is the number employed in that group as a percentage of the population for that group.The unemployment rate is the number of unemployed people as a percentage of the labour force (employed and unemployed).The participation rate is the number of employed and unemployed people as a percentage of the population aged15and older.Full-time employment consists of persons who usually work30hours or more per week at their main or only job.Part-time employment consists of persons who usually work less than30hours per week at their main or only job.Total hours worked refers to the number of hours actually worked at the main job by the respondent during the reference week, including paid and unpaid hours. These hours reflect temporary decreases or increases in work hours (for example, hours lost due to illness, vacation, holidays or weather; or more hours worked due to overtime).In general, month-to-month or year-to-year changes in the number of people employed in an age group reflect the net effect of two factors: (1) the number of people who changed employment status between reference periods, and (2) the number of employed people who entered or left the age group (including through aging, death or migration) between reference periods.Seasonal adjustmentUnless otherwise stated, this release presents seasonally adjusted estimates, which facilitate comparisons by removing the effects of seasonal variations. For more information on seasonal adjustment, see Seasonally adjusted data  Frequently asked questions.Population growth in the Labour Force SurveyThe LFS target population includes all persons aged15years and older whose usual place of residence is in Canada, with the exception of those living on reserves, full-time members of the regular Armed Forces and persons living in institutions (including inmates of penal institutions and patients in hospitals and nursing homes).The LFS target population includes temporary residentsthat is, those with a valid work or study permit, their families, and refugee claimantsas well as permanent residents (landed immigrants) and the Canadian-born.Information gathered from LFS respondents is weighted to represent the survey target population using population calibration totals. These totals are updated each month, using the most recently available information on population changes, including changes in the number of non-permanent residents. LFS population calibration totals are derived from Canada\\'s official population estimates using similar sources and methods, with minor adjustments being made to reflect exclusions from the LFS target population.While the LFS population totals are generally aligned with official demographic estimates, numbers from the two sources should be compared with caution, given the different goals of the programs and because of a number of methodological differences reflecting the objectives of the LFS. Official demographic estimates should be considered the official measure of population change in Canada. More information on how population totals in the LFS are calculated can be found in the article \"Interpreting population totals from the Labour Force Survey.\"Information on racialized groupsData on racialized groups are derived from the \"visible minority\" variable. \"Visible minority\" refers to whether a person belongs to one of the visible minority groups defined by the Employment Equity Act. The Employment Equity Act defines visible minorities as \"persons, other than Aboriginal peoples, who are non-Caucasian in race or non-white in colour.\" The visible minority population consists mainly of the following groups: South Asian, Chinese, Black, Filipino, Latin American, Arab, Southeast Asian, West Asian, Korean and Japanese.Information on industries dependent on US demand for Canadian exportsIndustries dependent on US demand for exports were identified using estimated shares of jobs due to foreign demand from the most recent annual data available in the table \"Value added in exports, by industry, provincial and territorial.\" For more information on these data, see: Value-added exports: measurement framework.Revisions to the Labour Force SurveyTo ensure that the LFS reflects current labour market conditions as accurately as possible, data are revised following each census to reflect the most recently available population estimates, geographic boundaries, and industry and occupation classifications. This standard revision process results in minor changes to recent and historical LFS data and has little impact on trends in key labour market indicators, such as employment, unemployment, and labour force participation rates.Revised LFS data series for the period from1987to2024were announced in The Daily on January24,2025. January2025LFS data is aligned with these revised series. Next releaseThe next release of the LFS will be on March7,2025. February data will reflect labour market conditions during the week of February9to15.\\n\\nProducts\\nMore information about the concepts and use of the Labour Force Survey is available online in the Guide to the Labour Force Survey (Catalogue number71-543-G).The product \"Labour Force Survey in brief: Interactive app\" (Catalogue number14200001) is also available. This interactive visualization application provides seasonally adjusted estimates by province, sex, age group and industry.The product \"Labour Market Indicators, by province and census metropolitan area, seasonally adjusted\" (Catalogue number71-607-X) is also available. This interactive dashboard provides customizable access to key labour market indicators.The product \"Labour Market Indicators, by province, territory and economic region, unadjusted for seasonality\" (Catalogue number71-607-X) is also available. This dynamic web application provides access to labour market indicators for Canada, provinces, territories and economic regions.The product \"Labour market indicators, census metropolitan areas, census agglomerations and self-contained labour areas: Interactive dashboard\" (Catalogue number71-607-X) is also available. This dashboard allows users to visually explore the estimates using an interactive map as well as time series charts and tables.The product Labour Force Survey: Public Use Microdata File (Catalogue number71M0001X) is also available. This public use microdata file contains non-aggregated data for a wide variety of variables collected from the Labour Force Survey. The data have been modified to ensure that no individual or business is directly or indirectly identified. This product is for users who prefer to do their own analysis by focusing on specific subgroups in the population or by cross-classifying variables that are not in our catalogued products.Contact informationFor more information, or to enquire about the concepts, methods or data quality of this release, contact us (toll-free 1-800-263-1136; 514-283-8300; infostats@statcan.gc.ca) or Media Relations (statcan.mediahotline-ligneinfomedias.statcan@statcan.gc.ca).\\n\\nDate modified: \\n\\r\\n  2025-02-07\\r\\n\\nAbout this site\\n\\nStatistics Canada\\n\\nContact StatCan\\nTrust Centre\\n\\nGovernment of Canada\\n\\nAll contacts\\nDepartments and agencies\\nAbout government\\n\\nThemes and topics\\n\\nJobs\\nImmigration and citizenship\\nTravel and tourism\\nBusiness\\nBenefits\\nHealth\\nTaxes\\nEnvironment and natural resources\\nNational security and defence\\nCulture, history and sport\\nPolicing, justice and emergencies\\nTransport and infrastructure\\nCanada and the world\\nMoney and finance\\nScience and innovation\\nIndigenous peoples\\nVeterans and military\\nYouth\\n\\nGovernment of Canada Corporate\\n\\nSocial media\\nMobile applications\\nAbout Canada.ca\\nTerms and conditions\\nPrivacy')]"
            ]
          },
          "metadata": {},
          "execution_count": 33
        }
      ]
    },
    {
      "cell_type": "markdown",
      "source": [
        "Pinecone requires a API key.\n",
        "https://docs.pinecone.io/guides/get-started/quickstart"
      ],
      "metadata": {
        "id": "Hq3Jkg5554aK"
      }
    },
    {
      "cell_type": "code",
      "source": [
        "!pip install protobuf==3.20.*\n",
        "!pip install  \"pinecone[grpc]\"\n",
        "!pip install --upgrade --quiet  lark\n",
        "!pip install --upgrade --quiet pinecone-notebooks pinecone-client\n"
      ],
      "metadata": {
        "id": "dRd-r8fs4EsG",
        "outputId": "70d4545e-da2f-4bfc-ba4d-d01e2689aaee",
        "colab": {
          "base_uri": "https://localhost:8080/",
          "height": 723
        }
      },
      "execution_count": 13,
      "outputs": [
        {
          "output_type": "stream",
          "name": "stdout",
          "text": [
            "Collecting protobuf==3.20.*\n",
            "  Using cached protobuf-3.20.3-py2.py3-none-any.whl.metadata (720 bytes)\n",
            "Using cached protobuf-3.20.3-py2.py3-none-any.whl (162 kB)\n",
            "Installing collected packages: protobuf\n",
            "  Attempting uninstall: protobuf\n",
            "    Found existing installation: protobuf 5.29.3\n",
            "    Uninstalling protobuf-5.29.3:\n",
            "      Successfully uninstalled protobuf-5.29.3\n",
            "\u001b[31mERROR: pip's dependency resolver does not currently take into account all the packages that are installed. This behaviour is the source of the following dependency conflicts.\n",
            "protoc-gen-openapiv2 0.0.1 requires protobuf>=4.21.0, but you have protobuf 3.20.3 which is incompatible.\n",
            "opentelemetry-proto 1.30.0 requires protobuf<6.0,>=5.0, but you have protobuf 3.20.3 which is incompatible.\n",
            "grpcio-status 1.62.3 requires protobuf>=4.21.6, but you have protobuf 3.20.3 which is incompatible.\n",
            "tensorflow-metadata 1.16.1 requires protobuf<6.0.0dev,>=4.25.2; python_version >= \"3.11\", but you have protobuf 3.20.3 which is incompatible.\u001b[0m\u001b[31m\n",
            "\u001b[0mSuccessfully installed protobuf-3.20.3\n"
          ]
        },
        {
          "output_type": "display_data",
          "data": {
            "application/vnd.colab-display-data+json": {
              "pip_warning": {
                "packages": [
                  "google"
                ]
              },
              "id": "925649825d6a401398cf53069eefba6a"
            }
          },
          "metadata": {}
        },
        {
          "output_type": "stream",
          "name": "stdout",
          "text": [
            "Requirement already satisfied: pinecone[grpc] in /usr/local/lib/python3.11/dist-packages (6.0.1)\n",
            "Requirement already satisfied: certifi>=2019.11.17 in /usr/local/lib/python3.11/dist-packages (from pinecone[grpc]) (2025.1.31)\n",
            "Requirement already satisfied: googleapis-common-protos>=1.66.0 in /usr/local/lib/python3.11/dist-packages (from pinecone[grpc]) (1.66.0)\n",
            "Requirement already satisfied: grpcio>=1.59.0 in /usr/local/lib/python3.11/dist-packages (from pinecone[grpc]) (1.70.0)\n",
            "Requirement already satisfied: lz4>=3.1.3 in /usr/local/lib/python3.11/dist-packages (from pinecone[grpc]) (4.4.3)\n",
            "Requirement already satisfied: pinecone-plugin-interface<0.0.8,>=0.0.7 in /usr/local/lib/python3.11/dist-packages (from pinecone[grpc]) (0.0.7)\n",
            "Collecting protobuf<6.0,>=5.29 (from pinecone[grpc])\n",
            "  Using cached protobuf-5.29.3-cp38-abi3-manylinux2014_x86_64.whl.metadata (592 bytes)\n",
            "Requirement already satisfied: protoc-gen-openapiv2<0.0.2,>=0.0.1 in /usr/local/lib/python3.11/dist-packages (from pinecone[grpc]) (0.0.1)\n",
            "Requirement already satisfied: python-dateutil>=2.5.3 in /usr/local/lib/python3.11/dist-packages (from pinecone[grpc]) (2.8.2)\n",
            "Requirement already satisfied: typing-extensions>=3.7.4 in /usr/local/lib/python3.11/dist-packages (from pinecone[grpc]) (4.12.2)\n",
            "Requirement already satisfied: urllib3>=1.26.0 in /usr/local/lib/python3.11/dist-packages (from pinecone[grpc]) (2.3.0)\n",
            "Requirement already satisfied: six>=1.5 in /usr/local/lib/python3.11/dist-packages (from python-dateutil>=2.5.3->pinecone[grpc]) (1.17.0)\n",
            "Using cached protobuf-5.29.3-cp38-abi3-manylinux2014_x86_64.whl (319 kB)\n",
            "Installing collected packages: protobuf\n",
            "  Attempting uninstall: protobuf\n",
            "    Found existing installation: protobuf 3.20.3\n",
            "    Uninstalling protobuf-3.20.3:\n",
            "      Successfully uninstalled protobuf-3.20.3\n",
            "Successfully installed protobuf-5.29.3\n"
          ]
        }
      ]
    },
    {
      "cell_type": "code",
      "source": [
        "# \"pcsk_6hdvi3_87n6EcsXGey2yAEkcDEme2W6Dw5jCakxvnH7SRjTLeNLMM7uze9KV1ADqgU8q13\"\n",
        "\n",
        "from pinecone.grpc import PineconeGRPC as Pinecone\n",
        "from pinecone import ServerlessSpec\n",
        "import time\n",
        "\n",
        "pc = Pinecone(api_key=\"\")"
      ],
      "metadata": {
        "id": "_tHvGn6x6kUa"
      },
      "execution_count": 17,
      "outputs": []
    },
    {
      "cell_type": "code",
      "source": [
        "\n",
        "embeddings = pc.inference.embed(\n",
        "    model=\"multilingual-e5-large\",\n",
        "    inputs=[d.page_content for d in docs_html],\n",
        "    parameters={\n",
        "        \"input_type\": \"passage\",\n",
        "        \"truncate\": \"END\"\n",
        "    }\n",
        ")\n",
        "\n",
        "print(embeddings)"
      ],
      "metadata": {
        "id": "Q6RBxpCo_uvz",
        "outputId": "e535088c-9fd0-42aa-c716-c27bf8aa8b08",
        "colab": {
          "base_uri": "https://localhost:8080/"
        }
      },
      "execution_count": 18,
      "outputs": [
        {
          "output_type": "stream",
          "name": "stdout",
          "text": [
            "EmbeddingsList(\n",
            "  model='multilingual-e5-large',\n",
            "  data=[\n",
            "    {'values': [0.018951416015625, 0.0171661376953125, ..., -0.0333251953125, 0.01323699951171875]}\n",
            "  ],\n",
            "  usage={'total_tokens': 512}\n",
            ")\n"
          ]
        }
      ]
    }
  ]
}