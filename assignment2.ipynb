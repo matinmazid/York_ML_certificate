{
  "nbformat": 4,
  "nbformat_minor": 0,
  "metadata": {
    "colab": {
      "provenance": [],
      "toc_visible": true,
      "authorship_tag": "ABX9TyMUVFZO/dh8HNrs+LVdVcd/",
      "include_colab_link": true
    },
    "kernelspec": {
      "name": "python3",
      "display_name": "Python 3"
    },
    "language_info": {
      "name": "python"
    }
  },
  "cells": [
    {
      "cell_type": "markdown",
      "metadata": {
        "id": "view-in-github",
        "colab_type": "text"
      },
      "source": [
        "<a href=\"https://colab.research.google.com/github/matinmazid/York_ML_certificate/blob/master/assignment2.ipynb\" target=\"_parent\"><img src=\"https://colab.research.google.com/assets/colab-badge.svg\" alt=\"Open In Colab\"/></a>"
      ]
    },
    {
      "cell_type": "markdown",
      "source": [
        "Load all the dependant libraries"
      ],
      "metadata": {
        "id": "9ZXkXCB8MvvO"
      }
    },
    {
      "cell_type": "markdown",
      "source": [
        "# Scenario 0 No context provided to model"
      ],
      "metadata": {
        "id": "p4mpG5Ve7zpt"
      }
    },
    {
      "cell_type": "code",
      "execution_count": 1,
      "metadata": {
        "id": "5BUlQT1VKP0K",
        "colab": {
          "base_uri": "https://localhost:8080/"
        },
        "outputId": "523e0ada-8a5b-4689-df35-c67e2cf8cd46"
      },
      "outputs": [
        {
          "output_type": "stream",
          "name": "stdout",
          "text": [
            "\u001b[?25l     \u001b[90m━━━━━━━━━━━━━━━━━━━━━━━━━━━━━━━━━━━━━━━━\u001b[0m \u001b[32m0.0/67.3 kB\u001b[0m \u001b[31m?\u001b[0m eta \u001b[36m-:--:--\u001b[0m\r\u001b[2K     \u001b[90m━━━━━━━━━━━━━━━━━━━━━━━━━━━━━━━━━━━━━━━━\u001b[0m \u001b[32m67.3/67.3 kB\u001b[0m \u001b[31m1.8 MB/s\u001b[0m eta \u001b[36m0:00:00\u001b[0m\n",
            "\u001b[?25h  Installing build dependencies ... \u001b[?25l\u001b[?25hdone\n",
            "  Getting requirements to build wheel ... \u001b[?25l\u001b[?25hdone\n",
            "  Preparing metadata (pyproject.toml) ... \u001b[?25l\u001b[?25hdone\n",
            "\u001b[2K   \u001b[90m━━━━━━━━━━━━━━━━━━━━━━━━━━━━━━━━━━━━━━━━\u001b[0m \u001b[32m2.5/2.5 MB\u001b[0m \u001b[31m11.2 MB/s\u001b[0m eta \u001b[36m0:00:00\u001b[0m\n",
            "\u001b[2K   \u001b[90m━━━━━━━━━━━━━━━━━━━━━━━━━━━━━━━━━━━━━━━━\u001b[0m \u001b[32m300.7/300.7 kB\u001b[0m \u001b[31m8.9 MB/s\u001b[0m eta \u001b[36m0:00:00\u001b[0m\n",
            "\u001b[2K   \u001b[90m━━━━━━━━━━━━━━━━━━━━━━━━━━━━━━━━━━━━━━━━\u001b[0m \u001b[32m611.1/611.1 kB\u001b[0m \u001b[31m12.4 MB/s\u001b[0m eta \u001b[36m0:00:00\u001b[0m\n",
            "\u001b[2K   \u001b[90m━━━━━━━━━━━━━━━━━━━━━━━━━━━━━━━━━━━━━━━━\u001b[0m \u001b[32m2.4/2.4 MB\u001b[0m \u001b[31m19.5 MB/s\u001b[0m eta \u001b[36m0:00:00\u001b[0m\n",
            "\u001b[2K   \u001b[90m━━━━━━━━━━━━━━━━━━━━━━━━━━━━━━━━━━━━━━━━\u001b[0m \u001b[32m278.6/278.6 kB\u001b[0m \u001b[31m15.0 MB/s\u001b[0m eta \u001b[36m0:00:00\u001b[0m\n",
            "\u001b[2K   \u001b[90m━━━━━━━━━━━━━━━━━━━━━━━━━━━━━━━━━━━━━━━━\u001b[0m \u001b[32m94.8/94.8 kB\u001b[0m \u001b[31m6.6 MB/s\u001b[0m eta \u001b[36m0:00:00\u001b[0m\n",
            "\u001b[2K   \u001b[90m━━━━━━━━━━━━━━━━━━━━━━━━━━━━━━━━━━━━━━━━\u001b[0m \u001b[32m2.0/2.0 MB\u001b[0m \u001b[31m22.2 MB/s\u001b[0m eta \u001b[36m0:00:00\u001b[0m\n",
            "\u001b[2K   \u001b[90m━━━━━━━━━━━━━━━━━━━━━━━━━━━━━━━━━━━━━━━━\u001b[0m \u001b[32m50.9/50.9 kB\u001b[0m \u001b[31m2.6 MB/s\u001b[0m eta \u001b[36m0:00:00\u001b[0m\n",
            "\u001b[2K   \u001b[90m━━━━━━━━━━━━━━━━━━━━━━━━━━━━━━━━━━━━━━━━\u001b[0m \u001b[32m101.6/101.6 kB\u001b[0m \u001b[31m5.5 MB/s\u001b[0m eta \u001b[36m0:00:00\u001b[0m\n",
            "\u001b[2K   \u001b[90m━━━━━━━━━━━━━━━━━━━━━━━━━━━━━━━━━━━━━━━━\u001b[0m \u001b[32m13.3/13.3 MB\u001b[0m \u001b[31m41.3 MB/s\u001b[0m eta \u001b[36m0:00:00\u001b[0m\n",
            "\u001b[2K   \u001b[90m━━━━━━━━━━━━━━━━━━━━━━━━━━━━━━━━━━━━━━━━\u001b[0m \u001b[32m55.9/55.9 kB\u001b[0m \u001b[31m3.2 MB/s\u001b[0m eta \u001b[36m0:00:00\u001b[0m\n",
            "\u001b[2K   \u001b[90m━━━━━━━━━━━━━━━━━━━━━━━━━━━━━━━━━━━━━━━━\u001b[0m \u001b[32m177.4/177.4 kB\u001b[0m \u001b[31m9.8 MB/s\u001b[0m eta \u001b[36m0:00:00\u001b[0m\n",
            "\u001b[2K   \u001b[90m━━━━━━━━━━━━━━━━━━━━━━━━━━━━━━━━━━━━━━━━\u001b[0m \u001b[32m65.0/65.0 kB\u001b[0m \u001b[31m3.5 MB/s\u001b[0m eta \u001b[36m0:00:00\u001b[0m\n",
            "\u001b[2K   \u001b[90m━━━━━━━━━━━━━━━━━━━━━━━━━━━━━━━━━━━━━━━━\u001b[0m \u001b[32m118.7/118.7 kB\u001b[0m \u001b[31m7.5 MB/s\u001b[0m eta \u001b[36m0:00:00\u001b[0m\n",
            "\u001b[2K   \u001b[90m━━━━━━━━━━━━━━━━━━━━━━━━━━━━━━━━━━━━━━━━\u001b[0m \u001b[32m74.7/74.7 kB\u001b[0m \u001b[31m3.9 MB/s\u001b[0m eta \u001b[36m0:00:00\u001b[0m\n",
            "\u001b[2K   \u001b[90m━━━━━━━━━━━━━━━━━━━━━━━━━━━━━━━━━━━━━━━━\u001b[0m \u001b[32m62.3/62.3 kB\u001b[0m \u001b[31m3.3 MB/s\u001b[0m eta \u001b[36m0:00:00\u001b[0m\n",
            "\u001b[2K   \u001b[90m━━━━━━━━━━━━━━━━━━━━━━━━━━━━━━━━━━━━━━━━\u001b[0m \u001b[32m459.8/459.8 kB\u001b[0m \u001b[31m20.5 MB/s\u001b[0m eta \u001b[36m0:00:00\u001b[0m\n",
            "\u001b[2K   \u001b[90m━━━━━━━━━━━━━━━━━━━━━━━━━━━━━━━━━━━━━━━━\u001b[0m \u001b[32m319.7/319.7 kB\u001b[0m \u001b[31m16.1 MB/s\u001b[0m eta \u001b[36m0:00:00\u001b[0m\n",
            "\u001b[2K   \u001b[90m━━━━━━━━━━━━━━━━━━━━━━━━━━━━━━━━━━━━━━━━\u001b[0m \u001b[32m71.5/71.5 kB\u001b[0m \u001b[31m3.6 MB/s\u001b[0m eta \u001b[36m0:00:00\u001b[0m\n",
            "\u001b[2K   \u001b[90m━━━━━━━━━━━━━━━━━━━━━━━━━━━━━━━━━━━━━━━━\u001b[0m \u001b[32m4.0/4.0 MB\u001b[0m \u001b[31m41.6 MB/s\u001b[0m eta \u001b[36m0:00:00\u001b[0m\n",
            "\u001b[2K   \u001b[90m━━━━━━━━━━━━━━━━━━━━━━━━━━━━━━━━━━━━━━━━\u001b[0m \u001b[32m452.6/452.6 kB\u001b[0m \u001b[31m19.9 MB/s\u001b[0m eta \u001b[36m0:00:00\u001b[0m\n",
            "\u001b[2K   \u001b[90m━━━━━━━━━━━━━━━━━━━━━━━━━━━━━━━━━━━━━━━━\u001b[0m \u001b[32m46.0/46.0 kB\u001b[0m \u001b[31m2.2 MB/s\u001b[0m eta \u001b[36m0:00:00\u001b[0m\n",
            "\u001b[2K   \u001b[90m━━━━━━━━━━━━━━━━━━━━━━━━━━━━━━━━━━━━━━━━\u001b[0m \u001b[32m86.8/86.8 kB\u001b[0m \u001b[31m5.3 MB/s\u001b[0m eta \u001b[36m0:00:00\u001b[0m\n",
            "\u001b[?25h  Building wheel for pypika (pyproject.toml) ... \u001b[?25l\u001b[?25hdone\n"
          ]
        }
      ],
      "source": [
        "!pip --quiet install langchain langchain_community pypdf langchain_core langchain-text-splitters langchain-chroma\n",
        "!pip --quiet install chromadb"
      ]
    },
    {
      "cell_type": "code",
      "source": [
        "import os\n",
        "from google.colab import userdata\n",
        "os.environ['OPENAI_API_KEY']=userdata.get('OPEN_API')"
      ],
      "metadata": {
        "id": "1Z0NJOq4NBF_"
      },
      "execution_count": 8,
      "outputs": []
    },
    {
      "cell_type": "markdown",
      "source": [
        "Create the lang chain"
      ],
      "metadata": {
        "id": "Dxu-lUg_UHyA"
      }
    },
    {
      "cell_type": "code",
      "source": [
        "from langchain.chat_models import ChatOpenAI\n",
        "import langchain_core\n",
        "from langchain_core.output_parsers import StrOutputParser\n",
        "from langchain.prompts import ChatPromptTemplate\n",
        "model = ChatOpenAI(temperature=0, model_name = \"gpt-3.5-turbo\")\n",
        "output_parser = StrOutputParser()\n",
        "chatPrompt=ChatPromptTemplate.from_messages(\n",
        "    [(\"system\",\"you are a financial specialist with experience in Aritifical Intelligence\"),\n",
        "     (\"user\",\"what is XBRL and its relationship to AICPA\")]\n",
        "    )"
      ],
      "metadata": {
        "id": "9V5-5Df1UEFY"
      },
      "execution_count": 9,
      "outputs": []
    },
    {
      "cell_type": "code",
      "source": [
        "chain= chatPrompt | model | output_parser"
      ],
      "metadata": {
        "id": "5HDEo4-hUa1I"
      },
      "execution_count": 10,
      "outputs": []
    },
    {
      "cell_type": "code",
      "source": [
        "chain.invoke({})\n"
      ],
      "metadata": {
        "colab": {
          "base_uri": "https://localhost:8080/",
          "height": 157
        },
        "id": "MDYGytCIiZfi",
        "outputId": "041c1aea-b74f-4ebf-d2dc-77557f20ebbb"
      },
      "execution_count": 11,
      "outputs": [
        {
          "output_type": "execute_result",
          "data": {
            "text/plain": [
              "'XBRL stands for eXtensible Business Reporting Language, which is a standardized format for financial reporting. It allows companies to tag financial data in their reports so that it can be easily analyzed and compared across different organizations. XBRL helps to streamline the process of financial reporting and makes it more efficient and accurate.\\n\\nThe American Institute of Certified Public Accountants (AICPA) is a professional organization for accountants in the United States. The AICPA has been involved in promoting the use of XBRL for financial reporting. They have developed guidelines and best practices for using XBRL in financial statements to ensure consistency and accuracy in reporting.\\n\\nIn summary, XBRL is a standardized format for financial reporting, and the AICPA has been actively involved in promoting its use and providing guidance on how to implement it effectively in financial reporting processes.'"
            ],
            "application/vnd.google.colaboratory.intrinsic+json": {
              "type": "string"
            }
          },
          "metadata": {},
          "execution_count": 11
        }
      ]
    },
    {
      "cell_type": "markdown",
      "source": [
        "# Scenario 1 Load pdf document loader saving to Chromadb"
      ],
      "metadata": {
        "id": "3itOPpD27ak5"
      }
    },
    {
      "cell_type": "code",
      "source": [
        "!pip install --upgrade --quiet pypdf\n",
        "!pip install --upgrade --quiet langchain_openai\n",
        "!pip install --quiet tiktoken"
      ],
      "metadata": {
        "colab": {
          "base_uri": "https://localhost:8080/"
        },
        "id": "pH4Rs-Tbji3p",
        "outputId": "133728cf-2290-438e-82de-d1cd0197dfaa"
      },
      "execution_count": 6,
      "outputs": [
        {
          "output_type": "stream",
          "name": "stdout",
          "text": [
            "\u001b[?25l   \u001b[90m━━━━━━━━━━━━━━━━━━━━━━━━━━━━━━━━━━━━━━━━\u001b[0m \u001b[32m0.0/54.9 kB\u001b[0m \u001b[31m?\u001b[0m eta \u001b[36m-:--:--\u001b[0m\r\u001b[2K   \u001b[90m━━━━━━━━━━━━━━━━━━━━━━━━━━━━━━━━━━━━━━━━\u001b[0m \u001b[32m54.9/54.9 kB\u001b[0m \u001b[31m1.8 MB/s\u001b[0m eta \u001b[36m0:00:00\u001b[0m\n",
            "\u001b[?25h\u001b[?25l   \u001b[90m━━━━━━━━━━━━━━━━━━━━━━━━━━━━━━━━━━━━━━━━\u001b[0m \u001b[32m0.0/1.2 MB\u001b[0m \u001b[31m?\u001b[0m eta \u001b[36m-:--:--\u001b[0m\r\u001b[2K   \u001b[91m━━━━━━━━━\u001b[0m\u001b[90m╺\u001b[0m\u001b[90m━━━━━━━━━━━━━━━━━━━━━━━━━━━━━━\u001b[0m \u001b[32m0.3/1.2 MB\u001b[0m \u001b[31m8.1 MB/s\u001b[0m eta \u001b[36m0:00:01\u001b[0m\r\u001b[2K   \u001b[91m━━━━━━━━━━━━━━━━━━━━━━━━━━━━━━━━━━━━━━━\u001b[0m\u001b[91m╸\u001b[0m \u001b[32m1.2/1.2 MB\u001b[0m \u001b[31m20.4 MB/s\u001b[0m eta \u001b[36m0:00:01\u001b[0m\r\u001b[2K   \u001b[90m━━━━━━━━━━━━━━━━━━━━━━━━━━━━━━━━━━━━━━━━\u001b[0m \u001b[32m1.2/1.2 MB\u001b[0m \u001b[31m14.6 MB/s\u001b[0m eta \u001b[36m0:00:00\u001b[0m\n",
            "\u001b[?25h"
          ]
        }
      ]
    },
    {
      "cell_type": "markdown",
      "source": [
        "https://www.stern.nyu.edu/sites/default/files/assets/documents/ChenChoDouLev2021WP.pdf\n",
        "\n",
        "https://python.langchain.com/v0.2/docs/how_to/document_loader_pdf/"
      ],
      "metadata": {
        "id": "cHc6DHAXg7vh"
      }
    },
    {
      "cell_type": "code",
      "source": [
        "from langchain_community.document_loaders import PyPDFLoader\n",
        "from langchain_text_splitters import RecursiveCharacterTextSplitter\n",
        "from langchain_openai import ChatOpenAI, OpenAIEmbeddings\n",
        "import tiktoken\n",
        "from langchain_community.vectorstores import Chroma\n",
        "from langchain_core.runnables import RunnablePassthrough\n",
        "\n",
        "loader = PyPDFLoader(\"ChenChoDouLev2021WP.pdf\")\n",
        "docs = loader.load()\n",
        "\n",
        "\n",
        "# split and chuck the input data\n",
        "text_splitter = RecursiveCharacterTextSplitter(chunk_size=512, chunk_overlap=0)\n",
        "# text splitter knows how to extract the text of a sourced doc\n",
        "all_splits = text_splitter.split_documents(docs)\n",
        "\n",
        "# all_texts = [cleanStr(doc.page_content) for doc in all_splits]\n",
        "# all_texts\n",
        "\n",
        "\n",
        "vectorstore = Chroma.from_documents(documents=all_splits,\n",
        "                                    embedding=OpenAIEmbeddings())\n",
        "retriever = vectorstore.as_retriever()\n",
        "\n",
        "from langchain import hub\n",
        "prompt = hub.pull(\"rlm/rag-prompt\")\n",
        "\n",
        "def format_docs(docs):\n",
        "    return \"\\n\\n\".join(doc.page_content for doc in docs)\n",
        "rag_chain = (\n",
        "    {\"context\": retriever | format_docs, \"question\": RunnablePassthrough()}\n",
        "    | prompt\n",
        "    | model\n",
        "    | StrOutputParser()\n",
        ")\n",
        "\n",
        "rag_chain.invoke(\"what is XBRL and its relationship to AICPA\")\n",
        "\n",
        "\n"
      ],
      "metadata": {
        "colab": {
          "base_uri": "https://localhost:8080/",
          "height": 125
        },
        "id": "Ss4xJraiBFzd",
        "outputId": "02158daa-0be6-4730-cbe0-730b3aae08ba"
      },
      "execution_count": 12,
      "outputs": [
        {
          "output_type": "stream",
          "name": "stderr",
          "text": [
            "/usr/local/lib/python3.11/dist-packages/langsmith/client.py:253: LangSmithMissingAPIKeyWarning: API key must be provided when using hosted LangSmith API\n",
            "  warnings.warn(\n"
          ]
        },
        {
          "output_type": "execute_result",
          "data": {
            "text/plain": [
              "\"XBRL is the eXtensible Business Reporting Language used for financial reporting. The AICPA is involved in developing data quality tools and working with the FASB on U.S. GAAP taxonomy enhancements related to XBRL. Plumlee and Plumlee (2008) and Boritz and No (2009) discuss the potential challenges of XBRL documents' assurance.\""
            ],
            "application/vnd.google.colaboratory.intrinsic+json": {
              "type": "string"
            }
          },
          "metadata": {},
          "execution_count": 12
        }
      ]
    },
    {
      "cell_type": "markdown",
      "source": [
        "# Scenario 2 Pine cone database and webcrawler\n",
        "https://python.langchain.com/docs/integrations/document_loaders/recursive_url/\n",
        "https://www150.statcan.gc.ca/n1/daily-quotidien/250207/dq250207a-eng.htm\n"
      ],
      "metadata": {
        "id": "XSPrIYkqo_fv"
      }
    },
    {
      "cell_type": "code",
      "source": [
        "!pip install -qU langchain-community beautifulsoup4 lxml"
      ],
      "metadata": {
        "id": "GsQODv-spVrc"
      },
      "execution_count": 13,
      "outputs": []
    },
    {
      "cell_type": "code",
      "source": [
        "import re\n",
        "from bs4 import BeautifulSoup\n",
        "# import html as htmlTool\n",
        "\n",
        "\n",
        "def bs4_extractor(html: str) -> str:\n",
        "    soup = BeautifulSoup(html, \"lxml\")\n",
        "    someText=re.sub(r\"\\n\\n+\", \"\\n\\n\", soup.text).strip()\n",
        "    # someText=htmlTool.unescape(someText)\n",
        "    # the test page had non-breaking space as well as other non acii characters\n",
        "    # we get rid of them\n",
        "    return someText.encode('latin-1', 'ignore').decode('ascii',\"ignore\")\n"
      ],
      "metadata": {
        "id": "4S8r8Y7duVgS"
      },
      "execution_count": 14,
      "outputs": []
    },
    {
      "cell_type": "code",
      "source": [
        "from langchain_community.document_loaders import RecursiveUrlLoader\n",
        "\n",
        "loader=RecursiveUrlLoader(url=\"https://www150.statcan.gc.ca/n1/daily-quotidien/250207/dq250207a-eng.htm\",\n",
        "                           use_async=False\n",
        "                          ,extractor=bs4_extractor)\n",
        "\n",
        "docs_html = loader.load()\n",
        "\n",
        "# text splitter knows how to extract the text of a sourced doc\n",
        "text_splitter = RecursiveCharacterTextSplitter(chunk_size=512, chunk_overlap=0)\n",
        "# text splitter knows how to extract the text of a sourced doc\n",
        "all_splits = text_splitter.split_documents(docs_html)\n"
      ],
      "metadata": {
        "id": "61wtdTFmtGn1"
      },
      "execution_count": 15,
      "outputs": []
    },
    {
      "cell_type": "code",
      "source": [
        "all_splits[3]"
      ],
      "metadata": {
        "colab": {
          "base_uri": "https://localhost:8080/"
        },
        "id": "ocF2mfp1GYVX",
        "outputId": "a2db8d1a-428d-418d-f577-6b365d8f42fe"
      },
      "execution_count": 16,
      "outputs": [
        {
          "output_type": "execute_result",
          "data": {
            "text/plain": [
              "Document(metadata={'source': 'https://www150.statcan.gc.ca/n1/daily-quotidien/250207/dq250207a-eng.htm', 'content_type': 'text/html; charset=UTF-8', 'title': 'The Daily\\xa0—\\xa0Labour Force Survey, January 2025', 'description': 'Employment increased by 76,000 (+0.4%) in January and the employment rate rose 0.1 percentage points to 61.1%. The unemployment rate declined 0.1 percentage points to 6.6%.', 'language': 'en'}, page_content='527,000\\nJanuary2025\\n\\n-0.1%\\n(monthly change)\\n\\n Source(s): Table 14-10-0287-01.\\r\\n\\n\\r\\nUnemployment rate  N.S.\\r\\n\\n5.9%\\nJanuary2025\\n\\n-0.4pts\\n(monthly change)\\n\\n Source(s): Table 14-10-0287-01.\\r\\n\\nTab1\\nTab2\\n\\n\\r\\nEmployment  N.B.\\r\\n\\n403,000\\nJanuary2025\\n\\n0.7%\\n(monthly change)\\n\\n Source(s): Table 14-10-0287-01.\\r\\n\\n\\r\\nUnemployment rate  N.B.\\r\\n\\n6.4%\\nJanuary2025\\n\\n-1.3pts\\n(monthly change)\\n\\n Source(s): Table 14-10-0287-01.\\r\\n\\nTab1\\nTab2\\n\\n\\r\\nEmployment  Que.\\r\\n\\n4,636,000\\nJanuary2025\\n\\n0.3%\\n(monthly change)')"
            ]
          },
          "metadata": {},
          "execution_count": 16
        }
      ]
    },
    {
      "cell_type": "code",
      "source": [],
      "metadata": {
        "id": "WtbsukXYGwe8"
      },
      "execution_count": 16,
      "outputs": []
    },
    {
      "cell_type": "markdown",
      "source": [
        "Pinecone requires a API key.\n",
        "https://docs.pinecone.io/guides/get-started/quickstart"
      ],
      "metadata": {
        "id": "Hq3Jkg5554aK"
      }
    },
    {
      "cell_type": "code",
      "source": [
        "!pip install --quiet protobuf==3.20.*\n",
        "!pip install  --quiet \"pinecone[grpc]\"\n",
        "!pip install --upgrade --quiet  lark\n",
        "!pip install --upgrade --quiet pinecone-notebooks pinecone-client\n",
        "!pip install --upgrade --quiet langchain_pinecone\n"
      ],
      "metadata": {
        "id": "dRd-r8fs4EsG",
        "outputId": "6e3e11db-0a42-4a44-9efb-e3a5728098d6",
        "colab": {
          "base_uri": "https://localhost:8080/"
        }
      },
      "execution_count": 17,
      "outputs": [
        {
          "output_type": "stream",
          "name": "stdout",
          "text": [
            "\u001b[?25l   \u001b[90m━━━━━━━━━━━━━━━━━━━━━━━━━━━━━━━━━━━━━━━━\u001b[0m \u001b[32m0.0/162.1 kB\u001b[0m \u001b[31m?\u001b[0m eta \u001b[36m-:--:--\u001b[0m\r\u001b[2K   \u001b[91m━━━━━━━━━━━━━━━━━━━━━━━━━━━━━━━━━━━\u001b[0m\u001b[90m╺\u001b[0m\u001b[90m━━━━\u001b[0m \u001b[32m143.4/162.1 kB\u001b[0m \u001b[31m4.1 MB/s\u001b[0m eta \u001b[36m0:00:01\u001b[0m\r\u001b[2K   \u001b[90m━━━━━━━━━━━━━━━━━━━━━━━━━━━━━━━━━━━━━━━━\u001b[0m \u001b[32m162.1/162.1 kB\u001b[0m \u001b[31m3.0 MB/s\u001b[0m eta \u001b[36m0:00:00\u001b[0m\n",
            "\u001b[?25h\u001b[31mERROR: pip's dependency resolver does not currently take into account all the packages that are installed. This behaviour is the source of the following dependency conflicts.\n",
            "opentelemetry-proto 1.30.0 requires protobuf<6.0,>=5.0, but you have protobuf 3.20.3 which is incompatible.\n",
            "grpcio-status 1.62.3 requires protobuf>=4.21.6, but you have protobuf 3.20.3 which is incompatible.\n",
            "tensorflow-metadata 1.16.1 requires protobuf<6.0.0dev,>=4.25.2; python_version >= \"3.11\", but you have protobuf 3.20.3 which is incompatible.\u001b[0m\u001b[31m\n",
            "\u001b[2K   \u001b[90m━━━━━━━━━━━━━━━━━━━━━━━━━━━━━━━━━━━━━━━━\u001b[0m \u001b[32m1.3/1.3 MB\u001b[0m \u001b[31m13.0 MB/s\u001b[0m eta \u001b[36m0:00:00\u001b[0m\n",
            "\u001b[2K   \u001b[90m━━━━━━━━━━━━━━━━━━━━━━━━━━━━━━━━━━━━━━━━\u001b[0m \u001b[32m421.4/421.4 kB\u001b[0m \u001b[31m18.8 MB/s\u001b[0m eta \u001b[36m0:00:00\u001b[0m\n",
            "\u001b[2K   \u001b[90m━━━━━━━━━━━━━━━━━━━━━━━━━━━━━━━━━━━━━━━━\u001b[0m \u001b[32m111.0/111.0 kB\u001b[0m \u001b[31m2.6 MB/s\u001b[0m eta \u001b[36m0:00:00\u001b[0m\n",
            "\u001b[2K   \u001b[90m━━━━━━━━━━━━━━━━━━━━━━━━━━━━━━━━━━━━━━━━\u001b[0m \u001b[32m1.3/1.3 MB\u001b[0m \u001b[31m15.0 MB/s\u001b[0m eta \u001b[36m0:00:00\u001b[0m\n",
            "\u001b[2K   \u001b[90m━━━━━━━━━━━━━━━━━━━━━━━━━━━━━━━━━━━━━━━━\u001b[0m \u001b[32m427.3/427.3 kB\u001b[0m \u001b[31m18.1 MB/s\u001b[0m eta \u001b[36m0:00:00\u001b[0m\n",
            "\u001b[2K   \u001b[90m━━━━━━━━━━━━━━━━━━━━━━━━━━━━━━━━━━━━━━━━\u001b[0m \u001b[32m87.5/87.5 kB\u001b[0m \u001b[31m4.4 MB/s\u001b[0m eta \u001b[36m0:00:00\u001b[0m\n",
            "\u001b[2K   \u001b[90m━━━━━━━━━━━━━━━━━━━━━━━━━━━━━━━━━━━━━━━━\u001b[0m \u001b[32m50.5/50.5 kB\u001b[0m \u001b[31m3.0 MB/s\u001b[0m eta \u001b[36m0:00:00\u001b[0m\n",
            "\u001b[?25h"
          ]
        }
      ]
    },
    {
      "cell_type": "code",
      "source": [
        "from pinecone.grpc import PineconeGRPC as Pinecone\n",
        "from pinecone import ServerlessSpec\n",
        "import time\n",
        "\n",
        "pc = Pinecone(api_key=userdata.get('PINECONE'))\n",
        "os.environ['PINECONE_API_KEY']=userdata.get('PINECONE')"
      ],
      "metadata": {
        "id": "_tHvGn6x6kUa"
      },
      "execution_count": 19,
      "outputs": []
    },
    {
      "cell_type": "code",
      "source": [
        "from langchain_core.documents import Document\n",
        "from langchain_openai import OpenAIEmbeddings\n",
        "from langchain_pinecone import PineconeVectorStore\n",
        "\n",
        "index_name = \"york-1020-assignment-2\"\n",
        "# create new index\n",
        "if index_name not in pc.list_indexes().names():\n",
        "    pc.create_index(\n",
        "        name=index_name,\n",
        "        dimension=1536,\n",
        "        metric=\"cosine\",\n",
        "        spec=ServerlessSpec(cloud=\"aws\", region=\"us-east-1\"),\n",
        "    )\n",
        "\n",
        "\n",
        "pinecone_vector_store= PineconeVectorStore.from_documents(\n",
        "    documents=all_splits,\n",
        "    embedding=OpenAIEmbeddings(),\n",
        "    index_name=index_name,\n",
        "    text_key=\"page_content\"\n",
        ")\n",
        "\n",
        "pinecone_retriever = pinecone_vector_store.as_retriever()\n",
        "#\n",
        "pinecone_rag_chain = (\n",
        "    {\"context\": pinecone_retriever | format_docs, \"question\": RunnablePassthrough()}\n",
        "    | prompt\n",
        "    | model\n",
        "    | StrOutputParser()\n",
        ")"
      ],
      "metadata": {
        "id": "Q6RBxpCo_uvz"
      },
      "execution_count": 20,
      "outputs": []
    },
    {
      "cell_type": "code",
      "source": [
        "pinecone_rag_chain.invoke(\"how much has employment increased\")"
      ],
      "metadata": {
        "colab": {
          "base_uri": "https://localhost:8080/",
          "height": 53
        },
        "id": "_dwD6XdHLdTE",
        "outputId": "2e232b78-cfef-425c-8625-49df9b583973"
      },
      "execution_count": 21,
      "outputs": [
        {
          "output_type": "execute_result",
          "data": {
            "text/plain": [
              "'Employment increased by 76,000 (+0.4%) in January, with the employment rate rising by 0.1 percentage points to 61.1%. The recent increases in employment follow a period where growth had been outpaced by population growth.'"
            ],
            "application/vnd.google.colaboratory.intrinsic+json": {
              "type": "string"
            }
          },
          "metadata": {},
          "execution_count": 21
        }
      ]
    },
    {
      "cell_type": "markdown",
      "source": [
        "# Scenario 3 Dropbox as cloud storage and weaviate"
      ],
      "metadata": {
        "id": "O2lt6r36L6d3"
      }
    },
    {
      "cell_type": "code",
      "source": [
        "!pip install --quiet dropbox\n",
        "!pip install --quiet \"unstructured[pdf]\"\n",
        "!pip install -U --quiet weaviate-client\n",
        "!pip install --qU unstructured"
      ],
      "metadata": {
        "colab": {
          "base_uri": "https://localhost:8080/"
        },
        "id": "FIl0gnkgOTa_",
        "outputId": "626ef97d-f55d-4ce4-d7d5-a8b2a7e0e04d"
      },
      "execution_count": 41,
      "outputs": [
        {
          "output_type": "stream",
          "name": "stdout",
          "text": [
            "  Preparing metadata (setup.py) ... \u001b[?25l\u001b[?25hdone\n",
            "  Preparing metadata (setup.py) ... \u001b[?25l\u001b[?25hdone\n",
            "\u001b[2K   \u001b[90m━━━━━━━━━━━━━━━━━━━━━━━━━━━━━━━━━━━━━━━━\u001b[0m \u001b[32m363.4/363.4 MB\u001b[0m \u001b[31m3.2 MB/s\u001b[0m eta \u001b[36m0:00:00\u001b[0m\n",
            "\u001b[?25h  Building wheel for langdetect (setup.py) ... \u001b[?25l\u001b[?25hdone\n",
            "  Building wheel for antlr4-python3-runtime (setup.py) ... \u001b[?25l\u001b[?25hdone\n",
            "\n",
            "Usage:   \n",
            "  pip3 install [options] <requirement specifier> [package-index-options] ...\n",
            "  pip3 install [options] -r <requirements file> [package-index-options] ...\n",
            "  pip3 install [options] [-e] <vcs project url> ...\n",
            "  pip3 install [options] [-e] <local project path> ...\n",
            "  pip3 install [options] <archive url/path> ...\n",
            "\n",
            "no such option: --qU\n"
          ]
        }
      ]
    },
    {
      "cell_type": "markdown",
      "source": [
        "https://python.langchain.com/docs/integrations/document_loaders/dropbox/\n",
        "https://python.langchain.com/docs/integrations/vectorstores/weaviate/#connecting-to-weaviate\n",
        "https://weaviate.io/developers/weaviate/quickstart/local\n"
      ],
      "metadata": {
        "id": "2hreT3wojNZY"
      }
    },
    {
      "cell_type": "code",
      "source": [
        "from langchain_community.document_loaders import DropboxLoader\n",
        "# Generate access token: https://www.dropbox.com/developers/apps/create.\n",
        "dropbox_access_token = userdata.get('DROP_BOX')\n",
        "# Dropbox root folder\n",
        "dropbox_folder_path = \"\"\n",
        "loader = DropboxLoader(\n",
        "    dropbox_access_token=dropbox_access_token,\n",
        "    dropbox_folder_path=dropbox_folder_path,\n",
        "    recursive=True,\n",
        ")"
      ],
      "metadata": {
        "id": "bHjMROAIQmbS"
      },
      "execution_count": 42,
      "outputs": []
    },
    {
      "cell_type": "code",
      "source": [
        "documents = loader.load()\n"
      ],
      "metadata": {
        "id": "qs8TVRBKRJ7T",
        "colab": {
          "base_uri": "https://localhost:8080/"
        },
        "outputId": "046e4d17-fb49-4753-9f2c-34ec48148769"
      },
      "execution_count": 43,
      "outputs": [
        {
          "output_type": "stream",
          "name": "stdout",
          "text": [
            "File /trust-worthy-artificial-intelligence.pdf type detected as .pdf\n",
            "File /ai-future-trends.pdf type detected as .pdf\n"
          ]
        }
      ]
    },
    {
      "cell_type": "markdown",
      "source": [
        "Load weaveate\n",
        "https://weaviate.io/developers/weaviate/client-libraries/python"
      ],
      "metadata": {
        "id": "YIf6c7v26Qxp"
      }
    },
    {
      "cell_type": "code",
      "source": [
        "!pip install -U weaviate-client\n",
        "!pip install -Uq langchain-weaviate\n",
        "!pip install openai tiktoken langchain"
      ],
      "metadata": {
        "id": "CR1R_FR-6Wnp"
      },
      "execution_count": null,
      "outputs": []
    },
    {
      "cell_type": "code",
      "source": [
        "import weaviate\n",
        "import os\n",
        "\n",
        "# Best practice: store your credentials in environment variables\n",
        "openai_api_key = os.environ[\"OPENAI_API_KEY\"]\n",
        "# this is not rerunable. Check error\n",
        "# this line seems to start the weaveate server\n",
        "weaviate_client = weaviate.connect_to_embedded(\n",
        "      version=\"1.26.1\",\n",
        "      headers={\n",
        "          \"X-OpenAI-Api-Key\": openai_api_key\n",
        "      },\n",
        "  )\n",
        "\n",
        "\n",
        "\n"
      ],
      "metadata": {
        "colab": {
          "base_uri": "https://localhost:8080/",
          "height": 408
        },
        "id": "ft2BOYD76QRE",
        "outputId": "0db0fb08-22fa-426f-998f-f030c0e5d612"
      },
      "execution_count": 66,
      "outputs": [
        {
          "output_type": "error",
          "ename": "WeaviateStartUpError",
          "evalue": "Embedded DB did not start because processes are already listening on ports http:8079 and grpc:50050use weaviate.connect_to_local(port=8079, grpc_port=50050) to connect to the existing instance",
          "traceback": [
            "\u001b[0;31m---------------------------------------------------------------------------\u001b[0m",
            "\u001b[0;31mWeaviateStartUpError\u001b[0m                      Traceback (most recent call last)",
            "\u001b[0;32m<ipython-input-66-861d1581d935>\u001b[0m in \u001b[0;36m<cell line: 0>\u001b[0;34m()\u001b[0m\n\u001b[1;32m      6\u001b[0m \u001b[0;31m# this is not rerunable. Check error\u001b[0m\u001b[0;34m\u001b[0m\u001b[0;34m\u001b[0m\u001b[0m\n\u001b[1;32m      7\u001b[0m \u001b[0;34m\u001b[0m\u001b[0m\n\u001b[0;32m----> 8\u001b[0;31m weaviate_client = weaviate.connect_to_embedded(\n\u001b[0m\u001b[1;32m      9\u001b[0m       \u001b[0mversion\u001b[0m\u001b[0;34m=\u001b[0m\u001b[0;34m\"1.26.1\"\u001b[0m\u001b[0;34m,\u001b[0m\u001b[0;34m\u001b[0m\u001b[0;34m\u001b[0m\u001b[0m\n\u001b[1;32m     10\u001b[0m       headers={\n",
            "\u001b[0;32m/usr/local/lib/python3.11/dist-packages/weaviate/connect/helpers.py\u001b[0m in \u001b[0;36mconnect_to_embedded\u001b[0;34m(hostname, port, grpc_port, headers, additional_config, version, persistence_data_path, binary_path, environment_variables)\u001b[0m\n\u001b[1;32m    300\u001b[0m     \u001b[0;32mif\u001b[0m \u001b[0mbinary_path\u001b[0m \u001b[0;32mis\u001b[0m \u001b[0;32mnot\u001b[0m \u001b[0;32mNone\u001b[0m\u001b[0;34m:\u001b[0m\u001b[0;34m\u001b[0m\u001b[0;34m\u001b[0m\u001b[0m\n\u001b[1;32m    301\u001b[0m         \u001b[0moptions\u001b[0m\u001b[0;34m.\u001b[0m\u001b[0mbinary_path\u001b[0m \u001b[0;34m=\u001b[0m \u001b[0mbinary_path\u001b[0m\u001b[0;34m\u001b[0m\u001b[0;34m\u001b[0m\u001b[0m\n\u001b[0;32m--> 302\u001b[0;31m     client = WeaviateClient(\n\u001b[0m\u001b[1;32m    303\u001b[0m         \u001b[0membedded_options\u001b[0m\u001b[0;34m=\u001b[0m\u001b[0moptions\u001b[0m\u001b[0;34m,\u001b[0m\u001b[0;34m\u001b[0m\u001b[0;34m\u001b[0m\u001b[0m\n\u001b[1;32m    304\u001b[0m         \u001b[0madditional_headers\u001b[0m\u001b[0;34m=\u001b[0m\u001b[0mheaders\u001b[0m\u001b[0;34m,\u001b[0m\u001b[0;34m\u001b[0m\u001b[0;34m\u001b[0m\u001b[0m\n",
            "\u001b[0;32m/usr/local/lib/python3.11/dist-packages/weaviate/client.py\u001b[0m in \u001b[0;36m__init__\u001b[0;34m(self, connection_params, embedded_options, auth_client_secret, additional_headers, additional_config, skip_init_checks)\u001b[0m\n\u001b[1;32m     71\u001b[0m         \u001b[0mself\u001b[0m\u001b[0;34m.\u001b[0m\u001b[0m_loop\u001b[0m \u001b[0;34m=\u001b[0m \u001b[0mself\u001b[0m\u001b[0;34m.\u001b[0m\u001b[0m_event_loop\u001b[0m\u001b[0;34m.\u001b[0m\u001b[0mloop\u001b[0m\u001b[0;34m\u001b[0m\u001b[0;34m\u001b[0m\u001b[0m\n\u001b[1;32m     72\u001b[0m \u001b[0;34m\u001b[0m\u001b[0m\n\u001b[0;32m---> 73\u001b[0;31m         super().__init__(\n\u001b[0m\u001b[1;32m     74\u001b[0m             \u001b[0mconnection_params\u001b[0m\u001b[0;34m=\u001b[0m\u001b[0mconnection_params\u001b[0m\u001b[0;34m,\u001b[0m\u001b[0;34m\u001b[0m\u001b[0;34m\u001b[0m\u001b[0m\n\u001b[1;32m     75\u001b[0m             \u001b[0membedded_options\u001b[0m\u001b[0;34m=\u001b[0m\u001b[0membedded_options\u001b[0m\u001b[0;34m,\u001b[0m\u001b[0;34m\u001b[0m\u001b[0;34m\u001b[0m\u001b[0m\n",
            "\u001b[0;32m/usr/local/lib/python3.11/dist-packages/weaviate/client_base.py\u001b[0m in \u001b[0;36m__init__\u001b[0;34m(self, connection_params, embedded_options, auth_client_secret, additional_headers, additional_config, skip_init_checks)\u001b[0m\n\u001b[1;32m     67\u001b[0m         \"\"\"\n\u001b[1;32m     68\u001b[0m         \u001b[0;32massert\u001b[0m \u001b[0mself\u001b[0m\u001b[0;34m.\u001b[0m\u001b[0m_loop\u001b[0m \u001b[0;32mis\u001b[0m \u001b[0;32mnot\u001b[0m \u001b[0;32mNone\u001b[0m\u001b[0;34m,\u001b[0m \u001b[0;34m\"Cannot initialize a WeaviateClient without an event loop.\"\u001b[0m\u001b[0;34m\u001b[0m\u001b[0;34m\u001b[0m\u001b[0m\n\u001b[0;32m---> 69\u001b[0;31m         connection_params, embedded_db = self.__parse_connection_params_and_embedded_db(\n\u001b[0m\u001b[1;32m     70\u001b[0m             \u001b[0mconnection_params\u001b[0m\u001b[0;34m,\u001b[0m \u001b[0membedded_options\u001b[0m\u001b[0;34m\u001b[0m\u001b[0;34m\u001b[0m\u001b[0m\n\u001b[1;32m     71\u001b[0m         )\n",
            "\u001b[0;32m/usr/local/lib/python3.11/dist-packages/weaviate/client_base.py\u001b[0m in \u001b[0;36m__parse_connection_params_and_embedded_db\u001b[0;34m(self, connection_params, embedded_options)\u001b[0m\n\u001b[1;32m    106\u001b[0m \u001b[0;34m\u001b[0m\u001b[0m\n\u001b[1;32m    107\u001b[0m             \u001b[0membedded_db\u001b[0m \u001b[0;34m=\u001b[0m \u001b[0mEmbeddedV4\u001b[0m\u001b[0;34m(\u001b[0m\u001b[0moptions\u001b[0m\u001b[0;34m=\u001b[0m\u001b[0membedded_options\u001b[0m\u001b[0;34m)\u001b[0m\u001b[0;34m\u001b[0m\u001b[0;34m\u001b[0m\u001b[0m\n\u001b[0;32m--> 108\u001b[0;31m             \u001b[0membedded_db\u001b[0m\u001b[0;34m.\u001b[0m\u001b[0mstart\u001b[0m\u001b[0;34m(\u001b[0m\u001b[0;34m)\u001b[0m\u001b[0;34m\u001b[0m\u001b[0;34m\u001b[0m\u001b[0m\n\u001b[0m\u001b[1;32m    109\u001b[0m             return (\n\u001b[1;32m    110\u001b[0m                 ConnectionParams(\n",
            "\u001b[0;32m/usr/local/lib/python3.11/dist-packages/weaviate/embedded.py\u001b[0m in \u001b[0;36mstart\u001b[0;34m(self)\u001b[0m\n\u001b[1;32m    319\u001b[0m         \u001b[0mup\u001b[0m \u001b[0;34m=\u001b[0m \u001b[0mself\u001b[0m\u001b[0;34m.\u001b[0m\u001b[0m__is_listening\u001b[0m\u001b[0;34m(\u001b[0m\u001b[0;34m)\u001b[0m\u001b[0;34m\u001b[0m\u001b[0;34m\u001b[0m\u001b[0m\n\u001b[1;32m    320\u001b[0m         \u001b[0;32mif\u001b[0m \u001b[0mup\u001b[0m\u001b[0;34m[\u001b[0m\u001b[0;36m0\u001b[0m\u001b[0;34m]\u001b[0m \u001b[0;32mand\u001b[0m \u001b[0mup\u001b[0m\u001b[0;34m[\u001b[0m\u001b[0;36m1\u001b[0m\u001b[0;34m]\u001b[0m\u001b[0;34m:\u001b[0m\u001b[0;34m\u001b[0m\u001b[0;34m\u001b[0m\u001b[0m\n\u001b[0;32m--> 321\u001b[0;31m             raise WeaviateStartUpError(\n\u001b[0m\u001b[1;32m    322\u001b[0m                 \u001b[0;34mf\"Embedded DB did not start because processes are already listening on ports http:{self.options.port} and grpc:{self.grpc_port}\"\u001b[0m\u001b[0;34m\u001b[0m\u001b[0;34m\u001b[0m\u001b[0m\n\u001b[1;32m    323\u001b[0m                 \u001b[0;34mf\"use weaviate.connect_to_local(port={self.options.port}, grpc_port={self.options.grpc_port}) to connect to the existing instance\"\u001b[0m\u001b[0;34m\u001b[0m\u001b[0;34m\u001b[0m\u001b[0m\n",
            "\u001b[0;31mWeaviateStartUpError\u001b[0m: Embedded DB did not start because processes are already listening on ports http:8079 and grpc:50050use weaviate.connect_to_local(port=8079, grpc_port=50050) to connect to the existing instance"
          ]
        }
      ]
    },
    {
      "cell_type": "code",
      "source": [
        "\n",
        "text_splitter = RecursiveCharacterTextSplitter(chunk_size=1000, chunk_overlap=0)\n",
        "docs = text_splitter.split_documents(documents)"
      ],
      "metadata": {
        "id": "PxdMNHVa8GIF"
      },
      "execution_count": 62,
      "outputs": []
    },
    {
      "cell_type": "code",
      "source": [
        "documents[1]"
      ],
      "metadata": {
        "id": "Tp6paYdbSsvB",
        "outputId": "4ccb31d4-9a74-4670-fddd-11983d11ed92",
        "colab": {
          "base_uri": "https://localhost:8080/"
        }
      },
      "execution_count": 78,
      "outputs": [
        {
          "output_type": "execute_result",
          "data": {
            "text/plain": [
              "Document(metadata={'source': '/tmp/tmpl_w82suo/tmp.pdf'}, page_content='The current issue and full text archive of this journal is available on Emerald Insight at: https://www.emerald.com/insight/0959-6119.htm\\n\\nArtiﬁcial intelligence: an overview of research trends and future directions Dogan Gursoy School of Hospitality Business Management, Washington State University, Pullman, Washington, USA and School of Tourism and Hospitality, University of Johannesburg, Johannesburg, South Africa, and\\n\\nRuiying Cai School of Hospitality Business Management, Washington State University, Pullman, Washington, USA\\n\\nAbstract Purpose – This study aims to offer an overview of hospitality and tourism research on artiﬁcial intelligence (AI) anditsimpact on theindustry. More speciﬁcally, this studyexamines hospitality andtourism AIresearch trends in hospitality and tourism customer service experience creation and delivery, service failure and recovery, human resources and organizational behavior. Based on the review, this study identiﬁes the challengesandopportunitiesandprovides directions for future studies. Design/methodology/approach – A narrative synthesis approach was used to review the hospitality andtourism research on AI anditsimpact on various aspectsof theindustry. Findings – AI and AI applications in customer service experience creation and delivery and its possible effects on employees and organizations are viewed as a double-edged sword. Although the use of AI and AI applications offers various beneﬁts, there are also serious concerns over the ethical use of AI, the replacement of human employees by AI-powered devices, discomfort among customers and employees and trust toward AI. Originality/value – The paper offers an updated holistic overview of AI and its implications in different facets of the hospitality and tourism industry. Challenges and opportunities are discussed to foster future discussionson theuseof AIamong scholarsandindustry professionals. Keywords Artiﬁcial intelligence, Hospitality, Tourism, Service delivery, Service creation, Organizational behavior, Strategy\\n\\nPaper type Viewpoint\\n\\nIntroduction Artiﬁcial intelligence (AI) involves machines performing cognitive tasks traditionally associated with humans, like learning, problem-solving and interacting with the environment. In recent years, AI has shifted from a niche topic in technology circles to a central focus for industry leaders. With the rapid expansion of generative AI (GenAI) tools and decreasing costs for AI implementation, it has evolved from a mere buzzwordto atechnologycapable of revolutionizing servicecreationanddeliveryprocesses.Accordingto McKinseyandCompany(2023), more than a third of organizations regularly use AI in at least one business function, whereas the rest have included AI in their board discussions. The expected disruption from AI is signiﬁcant, with many foreseeing substantial changes. AI has propelled the Fourth Industrial Revolution to a\\n\\nArtiﬁcial intelligence: an overview\\n\\n1\\n\\nReceived4 March2024 Revised 4 March2024 Accepted4 March2024\\n\\nInternational Journal of Contemporary Hospitality Management Vol. 37 No. 1, 2025 pp. 1-17 © EmeraldPublishingLimited 0959-6119 DOI 10.1108/IJCHM-03-2024-0322\\n\\nIJCHM 37,1\\n\\n2\\n\\nturning point, and organizations are urged to swiftly embrace the AI revolution to maintain competitiveness(McKinseyandCompany,2024).\\n\\nThe hospitality and tourism industries are no exception to the AI revolution. AI has permeated nearly every aspect of these industries, spanning from marketing to operations and management (Chi et al., 2020; Law et al., 2023; Lv et al., 2022a, 2022b). Many technological innovations within hospitality are now powered by AI. For instance, travelers can use chat-based large language models such as ChatGPT to receive suggestions for accommodations, dining options or personalized travel plans. Within hotels, guests can engage with voice-activated AI assistants for room service and encounter AI-driven robots providing services and upkeeping cleanliness. AI platforms facilitate reservations and streamline check-out procedures in restaurants, where AI-driven service robots might also aid in kitchen operations andtable service.\\n\\nAlthough AI has been a pivotal theme in hospitality and tourism research, previous studies have shown an imbalance in attention toward the various topics surrounding AI and its applications. An analysis of research spanning from 1984 to 2021 indicates that the predominant focus of AI studies in hospitality and tourism has beenon big data and machine learning (Knani et al., 2022). However, a recent systematic review of AI-related studies in hospitality published between 2021 and 2023 reveals a shift in thematic emphasis, with servicerobots and voice assistants emerging asprimary areas ofinterest (Lawet al., 2023).\\n\\nAs we witness the rapid growth of recent AI technologies, the pervasive presence of AI has the potential to perplex scholars in the hospitality and tourism ﬁelds. This review aims to provide a comprehensive yet nonexhaustive evaluation of AI and its applications in hospitality literature, shedding light on future research directions amidst the burgeoning emergence of GenAI and the escalating public discourse surrounding AI. The review is structured with an overviewofthetypesofAIandtheirapplicationsinthehospitalityandtourismsectors,followed by reviews of studies on AI in customer experience, employees’ perceptions, organizational strategy and external environmental contexts. Challenges and opportunities for future research willthenbediscussed.Figure1illustratestheframeworkofthisreview.\\n\\nTypes of artiﬁcial intelligence Advancements indeep learningandotherAItechnologies ensurethatthe ﬁeld ofAI remains in a constant state of ﬂux. Our understanding of realized AI and theoretical AI continues to evolve, leading to variations and overlaps in AI categories and terminology across different sources. Nonetheless, two overarching categories can help elucidate AI: AI capabilities and AI functionalities, as proposed by IBM (IBM Data and AI Team, 2023). AI capabilities can be classiﬁed into three categories: artiﬁcial narrow AI, general AI and super AI. Artiﬁcial narrow intelligence, also known as narrow AI or weak AI, is the most commonly applied type in the hospitality and tourism industries. These systems are trained to perform speciﬁc tasks, such as virtual assistants for customer service or delivery robots. General AI, or strong AI, is currently indevelopmentandisexpectedtoperformtasksintelligently,akintohumancapabilities.Super AI,atheoreticalconcept,wouldsurpasshumancognitiveabilitiesifrealized.\\n\\nWithin the realm of narrow AI, various types exist based on functionalities. Reactive machines, lacking memory, perform speciﬁc tasks without past data. Limited memory AI, on the other hand, can recall past events to monitor speciﬁc situations over time. In hospitality and tourism, reactive AI includes check-in/check-out kiosks and voice control in guest rooms. Limited memory AI is used in autonomous vehicles, chat-based voice assistants, robotic vacuum cleaners and room service robots. Narrow AI is often combined with computer vision, robotics and expert systems. Combining narrow AI with computer vision enables facial recognition and image classiﬁcation applications, allowing for a streamlined service experience.\\n\\nCustomer experience\\n\\nExternal environment\\n\\nArtificial intelligence\\n\\nEmployees’ perspective\\n\\nOrganization strategy\\n\\nSource: Authors’ own creation\\n\\nNarrow AI also facilitates routine tasks performed by robots, aids in forecasting through expert systemsandenhancesefﬁciencyforeventplanning,revenuemanagementanddecision-making. Following a similar logic, Huang and Rust (2021)classiﬁed AI in the service industry into mechanic AI, thinking AI and feeling AI, based on their capabilities to follow instructions, analyze and process emotions coupled with the nature of service. Li et al. (2021) proposed four modes of AI technology-based service encounters: AI-supplemented, AI-generated, AI- mediated and AI-facilitated. In AI-supplemented service encounters, AI fulﬁlls the role of providing guidance and network facilitation. AI-generated service encounters are those in which AI substitutes human labor and interacts directly with customers. AI-mediated service encounters occur when AI serves as the intermediary between customers and employees, extendingemployees’ abilities. AI-facilitated service encounters are conditions in which both AI andhuman employeesserve customers.\\n\\nThe present review follows IBM’s categories to maintain consistency with mainstream discussions about AI. Figure 2 demonstrates examples of AI in hospitality and tourism experiences through a service blueprint. As depicted in Figure 2, AI and its applications are integrated into many aspects of service encounters, with some being more visible than others (Table 1).\\n\\nArtiﬁcial intelligence in service delivery Artiﬁcial intelligence and customer experience AI is poised to revolutionize the customer experience within the hospitality industry. However, as a nascent and innovative technology, existing literature has primarily focused on customers’ acceptance of integrating AI and AI-powered technologies. Various models andscales have been used to examine this acceptance, includingthe Technology Acceptance Model, the Uniﬁed Theory of Acceptance and Use of Technology (Venkatesh et al., 2003; Huang et al., 2024; Pillai and Sivathanu, 2020), the Artiﬁcially Intelligent Device Use Acceptance model (Gursoy et al., 2019) and the Service Robot Integration Willingness scale (Lu et al., 2019).\\n\\nArtiﬁcial intelligence: an overview\\n\\n3\\n\\nFigure 1. Review framework\\n\\nIJCHM 37,1\\n\\n4\\n\\nFigure 2. Key future research directions\\n\\nLegal and ethical concerns\\n\\nSustainability\\n\\nCustomers’ skepticism\\n\\nActual experience vs. hypothetical scenarios\\n\\nWorkforce development\\n\\nChallenges & Opportunities\\n\\nGroups with special needs\\n\\nAI infrastructure\\n\\nEnhance service crea(cid:2)on and delivery.\\n\\nCustomer service journey\\n\\nSource: Authors’ own creation\\n\\nFurthermore, the hospitality and tourism literature has incorporated psychological theories to elucidate customers’ perceptions and behavioral intentions toward AI (Law et al., 2023). For example, the uncanny valley theory has been used to comprehend the negative association between AI and human likeness (Akdim et al., 2023; Kang et al., 2023). Cognitive appraisal theory has been used as the conceptual framework to comprehensively explain how individuals perceive AI and its implications (Gursoy et al., 2019). Additionally, self- determination theoryhas unveiled intrinsic andextrinsic motivations regarding AI adoption (Liuet al., 2024a, 2024b).\\n\\nThese theoretical frameworks offer a basis for discussing the factors inﬂuencing customers’ willingness to adopt AI and AI-powered devices. Cognitive evaluations, such as inﬂuence, perceived usefulness and performance expectancy, effort expectancy, social perceived value (Huang et al., 2024; Venkatesh et al., 2003), have been drawn from the technology adoption literature. Additionally, hindrance factors like perceived risk, privacy\\n\\ne c i v r e s t s o P\\n\\ne c i v r e s - n I\\n\\ne c i v r e s e r P\\n\\ns t n a t s i s s a I\\n\\nA\\n\\ns e l c i h e v s u o m o n o t u A\\n\\ns g n h t - f o - t e n r e t n I\\n\\ni\\n\\nt o b o r\\n\\ne c i v r e S\\n\\ns u o m o n o t u A\\n\\ns t o b t a h C\\n\\ne n g n e h c r a e S\\n\\ni\\n\\nf o e c n e d v e\\n\\ni\\n\\nl a c i s y h P\\n\\nn o i t i n g o c e r\\n\\ne g a m\\n\\nI\\n\\nt o b o r\\n\\ne c i v r e S\\n\\nt o b o r\\n\\ne c i v r e S\\n\\nn o i t i n g o c e r\\n\\nl a i c a F\\n\\ns e l c i h e v\\n\\ns t n a t s i s s a I\\n\\nA\\n\\nn o i t a z i m\\n\\ni t p o\\n\\nI\\n\\nA\\n\\ns t n a t s i s s a I\\n\\nA\\n\\ns t n a t s i s s a I\\n\\nA\\n\\ne v i s r e m m\\n\\nI\\n\\ny g o l o n h c e t\\n\\nh t u o m\\n\\nf o - d r o w d a e r p S\\n\\nt u o - k c e h C\\n\\ne t i s - n o e v i e c e R\\n\\nn\\n\\ni -\\n\\nk c e h C\\n\\ne t i s\\n\\ne h t o t o G\\n\\ne r i u q n I\\n\\nn o i t a m r o f n\\n\\ni\\n\\nh c r a e S\\n\\nn o i t c a r e m o t s u C\\n\\ns n o i t a c i n u m m o c\\n\\nt r a p e D\\n\\ne c i v r e s\\n\\ne k a M\\n\\ns t n e m y a p e k a M\\n\\ny r e v o c e r\\n\\ne c i v r e S\\n\\ns n o i t a v r e s e r\\n\\nn o i t c a r e t n\\n\\ni\\n\\nf o e n L\\n\\ni\\n\\np u w o l l o F\\n\\nt u o - k c e h C\\n\\ne c i v r e s\\n\\ne d v o r P\\n\\ni\\n\\nn\\n\\ni -\\n\\nk c e h c\\n\\nt s i s s A\\n\\nr e w s n A\\n\\ne g a t s - f o - t n o r F\\n\\ns n o i t s e u q r e w s n A\\n\\ns s e c o r p\\n\\ns n o i t s e u q\\n\\ns n o i t c a r e t n\\n\\ni\\n\\ns r e m o t s u c\\n\\nt e e r G\\n\\ny t i l i b i s i v\\n\\nf o e n L\\n\\ni\\n\\ng n\\n\\ni l l i\\n\\nb e d u l c n o C\\n\\ne t a n d r o o C\\n\\ni\\n\\ns e e y o l p m e\\n\\ne l u d e h c S\\n\\nl a t i g d e g a n a M\\n\\ni\\n\\ne g a t s - f o - k c a B\\n\\nc t e\\n\\ns t n u o c c a\\n\\nn\\n\\ni\\n\\ns e e y o l p m e\\n\\ne c n e s e r p\\n\\ns n o i t c a r e t n\\n\\ni\\n\\nl a n o i t c n u f\\n\\nt n e r e f f i d\\n\\ns t i n u\\n\\nn o i t c a r e t n\\n\\na n r e t n\\n\\ni\\n\\nf o e n L\\n\\ni\\n\\np h s n o i t a l e r\\n\\ni\\n\\nr e m o t s u C\\n\\ns t r a p e d\\n\\ns e t u o r\\n\\nr o t i n o M\\n\\ne m\\n\\ni t - l a e r\\n\\nr o t i n o M\\n\\nn i a r t d n a t i u r c e R\\n\\n,\\n\\ns e t u o r\\n\\nr o t i n o M\\n\\ne g a n a M\\n\\nt n e t n o c\\n\\ne t a e r C\\n\\ns e s s e c o r p t r o p p u S\\n\\nt n e m e g a n a m\\n\\ns l a v i r r a d n a\\n\\nr e m o t s u c n\\n\\ni a t a d\\n\\ng n i s a h c r u P\\n\\ns l a v i r r a d n a s t r a p e d\\n\\ns n o i t a v r e s e r\\n\\ng n i t e k r a m p o l e v e D\\n\\nI\\n\\nA y b d e r e w o p\\n\\ng n n n a l P\\n\\ni\\n\\ne c n e i r e p x e\\n\\nn i a t n i a M\\n\\ns e e y o l p m e\\n\\ne g a n a M\\n\\nn a l p\\n\\ng n i z y l a n A\\n\\nd e r e w o p - I\\n\\nA h t i\\n\\nw\\n\\nt s a c e r o F\\n\\ns l o o t\\n\\ne u n e v e R\\n\\nt n e m e g a n a m\\n\\nn o i t a e r c n w o\\n\\n’\\n\\ns r o h t u A\\n\\n: e c r u o S\\n\\nArtiﬁcial intelligence: an overview\\n\\n5\\n\\nTable 1. AI application examples in service blueprint\\n\\nIJCHM 37,1\\n\\n6\\n\\nconcerns and technology anxiety (Cai et al., 2022; Pillai and Sivathanu, 2020) play signiﬁcant roles as predictors of customer acceptance.\\n\\nRecent discussions in the literature have also focused on the attributes of AI and AI- powered devices, emphasizing the importance of anthropomorphism, cuteness and uncanniness (Lu et al., 2019; Lv et al., 2021). Moreover, studies have explored the affective components of interacting with AI and AI-powered devices, including hedonic motivation, perceived novelty, positive emotions and negative emotions (Gursoy et al., 2019; Lu et al., 2019; Lv et al., 2021).\\n\\nThere has been a growing interest in examining customer outcomes beyond mere acceptance of AI and AI-powered devices. Trust has emerged as a critical factor in human– AI interaction within the hospitality and tourism context (e.g. Gursoy et al., 2019; Chi et al., 2023). Additionally, factors such as satisfaction, intention to continue usage (Huang et al., 2024), word-of-mouth communication (Wang et al., 2022) and brand-related attitudes and behavioral intentions (Liu et al., 2023; Lv et al., 2022a, 2022b) have also been explored.\\n\\nService robots Service robots, due to their promising role in enhancing the hospitality and tourism experience, have garnered signiﬁcant attention (Law et al., 2023). Research in this area encompasses a wide range of topics, including anthropomorphic attributes (Akdim et al., 2023; Hu and Min, 2023; Zhang et al., 2021), functional roles (Yang et al., 2024), rapport building (Qiu et al., 2020), humor in service failures (Xu and Liu, 2022), gender considerations (Seo et al., 2024), perceived value (Lin and Mattila, 2021) and overall frameworkdesign (McCartney andMcCartney, 2020), among others.\\n\\nDespite the fervent discussions surrounding service robots and their potential applications, numerous studies depend on customers’ mental simulations, reaching conclusions through scenario-based surveys (Xu et al., 2023). The ﬁndings of a recent review of studies in leading hospitality journals indicate a growing interest among scholars in exploring strong AI capable of demonstrating human-like traits, despite its limited real- world implementation (Law et al., 2023).\\n\\nArtiﬁcial intelligence–powered immersive experiences Immersive technologies such as augmented reality, virtual reality and mixed reality have been integrated into hospitality and tourism service creation and delivery to enhance customer experiences (de Lurdes Calisto and Sarkar, 2024). The concept of the metaverse has recently garnered attention, with the belief that AI will power it to provide immersive and seamless experiencesaimedatenticingcustomers inthehospitalityandtourismsectors. However,dueto the limited number of active users, discussions surrounding the metaverse experience in these industries largely remain conceptual and speculative about future directions. Furthermore, there are fervent discussions regarding how the metaverse experience could translate into physical visits and its potential inﬂuence on customer experiences (Buhalis et al., 2023). Gursoy et al. (2023) have suggested that the metaverse experience will likely primarily impact the preservice stage by offering a digital preview of the actual property, thus prompting customers tovisit.\\n\\nGenerative artiﬁcial intelligence GenAI has experienced a surge in attention in recent years, marked by its rapid growth and adoption. The application of GenAI, particularly large language models, is perceived to reduce barriers to entry for the general population, allowing for more interactive and\\n\\nintelligent AI experiences at users’ ﬁngertips. Current discussions focus on the potential impact andapplications ofchat-based AI in thehospitalityand tourism industry.\\n\\nRecent research by Dogru et al. (2023) delves into the potential implications of GenAI and large language models in value cocreation and codestruction. It is believed that GenAI will inﬂuence various facets of the hospitality and tourism industry, spanning strategic management, operations, human resources and talent management, accounting, ﬁnance, destination management, marketing, demand and supply management, revenue management, as well as architecture, designand art.\\n\\nThe recent introduction of Sora by OpenAI, a tool designed to convert text into video, further underscores the potential applications of GenAI (Werner, 2024). Experts anticipate a promising future for AI, with expectations of transitioning into the general AI phase soon. Despite the anticipated proliferation of large language models and GenAI, discussions on their applications are still nascent.\\n\\nService failure and recovery Discussions surrounding customers’ attitudes and perceptions toward service failures caused by AI and AI-powered devices, as well as subsequent service recovery, have gained considerable traction in recent years. Researchers have been exploring how customers respond differently to service failures in AI interactions than those involving humans. Studies indicate that, overall, customers tend to exhibit a higher tolerance for service failures caused by humans than those caused by AI or AI-powered devices (Kim and So, 2023; Lv et al., 2021).\\n\\nMoreover, recent research suggests that various appearance attributes of service robots play a signiﬁcant role in inﬂuencing customers’ satisfaction and intentions to revisit hospitality businesses following a service failure. Attributes such as the level of anthropomorphism (Yang, Liu, et al., 2022), cuteness (Lv et al., 2021), gender (Seo et al., 2024) and humor (Xu and Liu, 2022; Yang, Xu et al., 2022) have been found to impact customers’ perceptions and reactions. For example, a service robotwith a highlevelofanthropomorphism or a cute appearance mayelicit more positive responses from customers, potentially mitigatingthe negative impact of a service failure.\\n\\nArtiﬁcial intelligence and service strategy Employees’ perception AI has signiﬁcantly impacted employees’ sentiments in the workplace, particularly against the backdrop of theindustry’s recovery from the pandemic. Although integratingAI into the hospitality experience promises substantial beneﬁts for the industry’s future, current and prospective employees may have varied reactions to the incorporation of AI and AI-powered technologies in their work environments. Extant literature has delved into various factors inﬂuencing employees’ acceptance and sentiments regarding AI. Studies have explored a range of factors, including emotional intelligence (Prentice et al., 2020), interface design and aesthetics (McCartney and McCartney, 2020) and socio-technical resources (Makarius et al., 2020), all of which shape employees’ perceptions of AI in the workplace. Additionally, some research has shed light on the potential negative consequences of AI integration, such as increased job insecurity, job stress and turnover intention (Xu et al., 2023), as well as decreased job performance and subjective well-being (Darvishmotevali and Ali, 2020). Others have examined howAI impacts job crafting behaviors(Cheng et al., 2023a, 2023b).\\n\\nThese studies have underscored human resources and organizational behavior concerns regarding how hospitality and tourism organizations should address employees’ apprehensions about AI. They emphasize the importance of providing resources and support mechanisms to\\n\\nArtiﬁcial intelligence: an overview\\n\\n7\\n\\nIJCHM 37,1\\n\\n8\\n\\nhelp employees navigate and cope with the challenges associated with AI integration in the workplace.\\n\\nVarious theories have been applied to comprehend employees’ perspectives on AI within the hospitality industry. Cognitive appraisal theory, for instance, has been used to investigate how employees evaluate and cope with AI in their work tasks (Ding, 2021). Conservation of resource theory (Cheng et al., 2023a, 2023b; Teng et al., 2023), along with the job demands–resources model (Kong et al., 2021; Qiu et al., 2020), has been used to investigate how resources at both individual and organizational levels may intervene in employees’ perceptions andreactions toward AI andAI-powered devices.\\n\\nFurthermore, social presence theory has been applied to explore employees’ feelings about the social presence of robot coworkers (Song et al., 2022). Concerns regarding the potential replacement of human jobs by AI as technology advances have also been raised, impacting not only current employees but also prospective employees (Yu et al., 2022). Moreover, the importance of employees’ trust in AI has been emphasized and warrants further attention, as highlighted by studies like those conducted by Makarius et al. (2020). These theories provide valuable frameworks for understanding the multifaceted impacts of AI on employees within the hospitality industry. By leveraging insights from these theories, organizations can better navigate the integration of AI technologies in the workplace and address employees’ concerns andneeds effectively.\\n\\nOrganizational strategies In recent years, AI has grown rapidly and captured public attention due to three primary factors: the abundance of data available in various formats, advancements in algorithms and signiﬁcant improvements in computational hardware (Brynjolfsson and McAfee, 2017). To gain and sustain competitive advantages, hospitality and tourism organizations must actively and innovatively explore the integration of AI across various stages of their operations.\\n\\nFirst, AI can assist and even create marketing materials to attract customers. An increasing number of companies, including industry leaders like Forbes, the New York Times and the Washington Post, are developing GenAI to produce reports from scratch (Graham, 2024). With the surging popularity of Sora by OpenAI, video creators are using GenAI to translate text descriptions into videos in minutes (Werner, 2024). Because AI can now develop marketing materials at a lower cost, hospitality and tourism organizations should usesuch tools torespondto customertrends more promptly.\\n\\nSecond, previous studies have highlighted the importance of using AI in the prepurchase stage. For instance, AI-powered chatbots could assist hospitality and tourism organizations in addressing customer inquiries before their visit. Although chatbots have previously faced criticism for being unempathetic and lacking intelligence (e.g. Lv et al., 2022a, 2022b), the rapid advancement of GenAI technologies suggests that chatbots may now offer more beneﬁts than hindrances. With GenAI’s advancements, chatbots can become more intelligent and capable of providing personalized and empathetic responses to customer queries. By leveraging AI-driven chatbots, hospitality and tourism organizations can enhance customer engagement and satisfaction, streamline the prepurchase process and ultimately improve the overall customer experience (Dogru et al., 2023). As a result, chatbots powered by GenAI technologies have the potential to revolutionize the prepurchase stage, offeringorganizations a valuable tool to connect with customers anddrive business growth. Third, AI and AI-powered devices can signiﬁcantly enhance service delivery in the hospitality and tourism industry. Many hotels, restaurants and theme parks are now employing service robots to produce and deliver services, leading customers to become more\\n\\naccustomed to their presence in their hospitality and tourism experiences (Lin and Mattila, 2021). Service robots are primarily used to perform mechanical tasks such as cleaning ﬂoors, carrying items, preparing dishes and providing directions. Although service robots currently excel at executing routine tasks, there is growing anticipation for them to evolve beyond their mechanical functions and provide more emotionally engaging and interactive customer experiences through hedonic interactions by displaying empathy and humor (Xu and Liu, 2022). By leveraging AI technologies to enhance the capabilities of service robots, hospitality and tourism organizations can further elevate the quality of service delivery and enrich the overall customerexperience.\\n\\nIn addition, AI can be integrated into strategic business planning and operations because AI offers capabilities for developing and implementing complex forecasting models for estimating customerdemandanddevelopingmore effective revenue managementstrategies usingmachine learning techniques (Dogru et al., 2023). AI can also be used to run errands and perform repetitive and routine tasks, thereby improving efﬁciency in administrative work. Despite the extensive discussion about AI and its applications in customer interface and employees’ perceptions, only a few studies have explored the potential of AI to stimulate business development (e.g. Filieri et al., 2021) or streamline the management process (Qiu et al., 2020). By harnessing AI technologies for organizational planning and management, hospitality and tourismorganizationscangainvaluable insightsintocustomerdemandpatterns andchanges in the marketplace, optimize resource allocation and make data-driven decisions to enhance operational efﬁciency and proﬁtability. Moreover, integrating AI into administrative tasks can free up employees’ time, allowing them to focus on more strategic initiatives and value-added activities.\\n\\nAs a labor-intensive industry, hospitality and tourism organizations must carefully manage not only the interaction between humans and AI in customer-facing roles but also consider how integrating AI may impact their employees. Previous studies have indicated potential negative consequences, such as feelings of job insecurity (Darvishmotevali and Ali, 2020), concerns over job performance (Koo et al., 2021), burnout (Kong et al., 2021) and turnover intention (Yu et al., 2022).\\n\\nTo address these challenges, organizations should allocate substantial resources to help employees cope with negative feelings associated with AI integration. This may involve implementing support programs, training to enhance employees’ understanding of AI capabilities and fostering a culture of adaptation and continuous learning. Organizations can mitigate potential negative impacts and foster a more positive work environment by empowering employees with the knowledge and skills to collaborate with AI technologies effectively. Overall, hospitality and tourism organizations need to pay special attention to balancing technology adoption with the retention and development of human talent. By striking a harmonious balance between AI integration and human resource management, organizations can harness the full potential of technology while ensuring the well-being and productivity of their workforce.\\n\\nArtiﬁcial intelligence and sustainability Sustainability refers to the development that meets the needs of the present without compromising the ability of future generations to meet their own needs (WCED, 1987). As AI advances along with a lot of public concerns over its potential adverse impact, some researchers have explored howAI may contribute to sustainability.\\n\\nStudies argue that AI may contribute to biodiversity, water resource conservation, energy conservation and renewable energy, sustainable transportation and smart cities (Nishant et al., 2020), which may, in turn, help companies lower their carbon footprint and\\n\\nArtiﬁcial intelligence: an overview\\n\\n9\\n\\nIJCHM 37,1\\n\\n10\\n\\nconserve natural heritage sites and national parks. AI can also combat climate change by offering a more comprehensive understanding of different climate change scenarios and details of carbon emissions. Despite the fact that AI can offer a liberating opportunity to build intelligence systems that can generate the knowledge needed for sustainability, its use in sustainability initiatives and applications is still in the early stages and requires efforts from all organizations toextend efforts andresourcesto bring itto fruition.\\n\\nFuture research considerations As we reviewed the different themes currently discussed in the hospitality and tourism literature, the paper aims to offer a more holistic view of future research directions based on challenges andopportunities posed by AI technologiesandtheir adoption.\\n\\nChallenges Legal and ethical concerns AI’s emergence and increasing applications have brought attention to previously gray areas, raising complex ethical questions. Media coverage on concerns over AI spans a wide range of topics, including legal, personal, intellectual property rights, algorithmic bias, discrimination, unfairness, labor protection, privacy and data protection, cybersecurity, access to justice, transparency of algorithms, liability for harm, accountability, social inequity and surveillance (Rodrigues, 2020). For example, as AI technologies become more pervasive, concerns over privacy have become prevalent among customers (e.g. Cai et al., 2022) as evidenced by numerous lawsuits related to AI focus on issues surrounding data use (Walsh,2023).\\n\\nNavigating this complex legal landscape presents signiﬁcant challenges, particularly as existing legal frameworks may not adequately address new AI-related problems (Walsh, 2023). This murky legal terrain imposes legal risks on organizations as they endeavor to integrate AI technologies into their operations. As such, it is essential for organizations to carefully consider and address legal and ethical concerns surrounding AI implementation to mitigate potential risks and ensure compliance with relevant regulations. As hospitality and tourism organizations often operate on a multinational level, the management team must take proactive actions early on to alleviate the potential legal risks related to use of AI technologiesin service creation anddelivery.\\n\\nAt the current stage of Narrow AI, both policymakers, public concern and legislators’ perspectives mainly center around data usage. As AI advances in its capabilities and moves into general AI and strong AI, where AI can process emotion and develop intentions, it is expected to have more discussions about ethics and interventions in AI and its application. Hence,futurestudies should delve into various issues relatedtoethicsand AI.\\n\\nCustomers’ skepticism Despite the optimistic perspective about AI, many customers share their concerns over the capability of AI and the potential of losing the “human touch,” which may lead to customer anger, confusion or dissatisfaction (Castillo et al., 2021). Customers who have strong relationships with their service provider may even feel insulted when AI is used rather than human (Belanche et al., 2021). Even though some recent studies have explored how AI may assist in building relationships (Qiu et al., 2020) and trust (e.g. Chi et al., 2023; Gursoy et al., 2019), the underlying mechanism is still unclear. Furthermore, some studies have reported that customers, at this stage, are still keen on receiving services from human staff rather than robot staff (Huang and Rust, 2021), even if the service delivered by humans is inferior and at a higher price. Such skepticism from customers indicates a long way to go for an\\n\\nindustry like hospitality and tourism, which is traditionally centered on human interaction and relationship building. Because customers may feel less intimidated when nonhumanoid and less anthropomorphic AI is placed in private service contexts (e.g. Hu and Min, 2023), hospitality and tourism organizations may want to strategically allocate different formats of AI in different service environments.\\n\\nDespite the extensive discussions and intriguing ﬁndings regarding customer attitudes and behaviors toward the use of AI and AI-powered devices in service delivery, it is worth noting that most research in this area relies heavily on scenario-based surveys. Although these surveys provide valuable insights into customers’ hypothetical reactions, there is a need for more real-world data and observational studies to fully understand customer attitudes and behaviors toward the use of AI and AI-powered devices in various service delivery contexts. This gap in empirical research presents an opportunity for future studies to delve deeper into understanding customer behaviors and perceptions in this evolving landscape.\\n\\nWorkforce development Integrating AI, especially the AI-powered devices that may highlight their presence in the workplace, is expected to receive some pushback from employees. Many studies have indicated that AI may negatively affect employees’ performance and career choices in the hospitality and tourism industry (Yu et al., 2022). Others are concerned that applying AI may result in adverse consequences like increases in social inequity as AI advances and replaces human staff in less developed countries and regions (Belanche et al., 2021). These concerns suggest that integration of AI into service creation and delivery can have serious human resource consequences for labor-intensive industries such as the hospitality and tourism industry. The management may need to clarify the type of AI and what AI is capable of and highlight the beneﬁts that AI could provide to hospitality and tourism professionals toalleviate adverse effects of AI integration on employees.\\n\\nLooking at the bright side, AI may assist in a more holistic understanding of the organizations by delving into employees’ perspectives. Sull and Sull (2024) have suggested that AI can transform companies’ understanding of themselves by garnering information from their employees, particularly about organizational culture based on data from diverse formats.\\n\\nAs the industry continues to evolve, understanding and addressing employees’ sentiments towardAI will be crucial for fostering a positive work environment and ensuring the successful integration of AI technologies in hospitality and tourism organizations. Thus, future studies should explore employees’ concerns about increasing AI and AI powered devices presence in the workplace and develop human resources strategies to address employees’ concerns.\\n\\nBuilding artiﬁcial intelligence infrastructure A signiﬁcant barrier to the adoption of AI, particularly GenAI, is the perceived lack of technology infrastructure (Dogru et al., 2023). Recent reviews, such as those by Law et al. (2023), have underscored that current discussions of AI in hospitality literature predominantly concentrate on aspects of the customer interface or employees’ perceptions regarding AI without paying much attention to the technology infrastructure needed to integrate AI into service creation and delivery. Technology infrastructure encompasses a comprehensive system comprising hardware components like data storage and processing systems, as well as soft infrastructure involving data collection and the technical and business skills necessary to harness AI’s capabilities (Mikalef and Gupta, 2021). Building\\n\\nArtiﬁcial intelligence: an overview\\n\\n11\\n\\nIJCHM 37,1\\n\\n12\\n\\nthis infrastructure within the hospitality and tourism industry sooner rather than later could afford the industry substantial competitive advantages. Thus, future research is needed to identify industry’s infrastructure needs and how to optimize this infrastructure for successful integration of AI technologies and AI-powered devices into service creation and deliveryprocesses.\\n\\nOpportunities Artiﬁcial intelligence and consumer service journey AI and AI-powered devices offer great opportunities to improve customer service journey at every stage, from information search to postconsumption evaluation. As argued in previous studies, an increasing number of hospitality and tourism companies continue to develop AI applications using immersive technologies, such as augmented reality, virtual reality, mixed reality and metaverse and GenAI-based chatbots to provide better experiences at each stage of customer service journey. Although the use of generative-based chatbots and other immersive technologies can have a signiﬁcant impact on the customer decision-making process, research in this area is still in its infancy stage. There is an urgent need for more research to understand the factors that can inﬂuence consumers’ information search and this inﬂuence. information processing behaviors and the underlying mechanism of Furthermore, we need more research on how AI may inﬂuence customer service experiences during service delivery and their post service evaluations, which requires a thorough understanding of their expectations and their level of willingness to interact with AI-powered technologies throughout their service experience journey. Although AI can be used to respond to customer inquiries and their post consumption comments on various social media platforms, it is also important to explore interface design of AI-powered applications that meet customers’ expectations based on their level of technology savviness to make AI applications and tools more accessible and user-friendly. These efforts can enhance customer use of AI applications andtools throughout their service journey.\\n\\nLeveraging artiﬁcial intelligence capabilities to enhance service creation and delivery As argued in previous studies, AI and AI-supported devices can have a signiﬁcant inﬂuence on the efﬁciency of service creation and delivery. However, studies also suggest that although the use of AI in service creation and delivery can have positive effects on customer satisfaction in some service contexts, it can also have devastating effects on satisfaction in other service contexts. Thus, it is critical to explore the potential effects of AI on customer satisfaction and loyalty in various service contexts. Because the factors that are likely to inﬂuence how customers view the use of AI in service creation and delivery are likely to be service delivery context-speciﬁc, ﬁndings of studies that investigate the factors, such as reliability, accuracy, trust, loss of human touch and personalization capabilities, that inﬂuence customers attitudes and behaviors toward the use of AI and the underlying mechanism they use to form those attitudes and behaviors in various service contexts can provide signiﬁcant guidance to improve customer service creation and delivery in speciﬁc service delivery contexts.\\n\\nLeveraging artiﬁcial intelligence to groups with special needs The predominant focus of AI discussions revolves around the general population and mainstream customers. However, there is a growing discourse regarding the transformative potential of AI in offering previously inaccessible hospitality and tourism experiences to marginalized groups with special needs. There exists an urgent need for further research to explore how AI could impact or even assist senior citizens, individuals with physical\\n\\nimpairments and families with special needs (Liu et al., 2024a, 2024b). It is believed that AI technologies, such as GenAI, have the capability to provide personalized and customized experiences at a reduced cost, thereby potentially increasing accessibility for traditionally disadvantaged groups (Dwivedi et al., 2023). This underscores the importance of investigating AI’s potential beneﬁts and how to harness those beneﬁts to improve the accessibility of hospitality and tourism experiences for these marginalized and disadvantagedcommunities.\\n\\nStudying actual experience than hypothetical scenarios As advancements in AI continue to progress, the majority of studies in the ﬁeld use qualitative methods to glean insights from both customers and employees regarding their perceptions of AI’s potential impact on the hospitality and tourism experience. Researchers often use hypothetical scenarios to simulate real-life conditions (Law et al., 2023; Xu et al., 2023). However, as AI and AI-powered devices become increasingly prevalent and accessible, there is a growing imperative for studies to transition toward examining actual experiences and measuring real behaviors. This shift would enable a more comprehensive understanding of the tangible effects of AI on the hospitality and tourism industry, providingvaluable insights forboth practitioners andresearchers alike.\\n\\nApplying artiﬁcial intelligence to sustainability As the hospitality and tourism industry is striving to become more sustainable andthe younger generations care more about sustainability than any generations before them, hospitality and tourism organizations should beneﬁt from capabilities offered by AI technologies by integrating AI into their sustainability strategy development and implementation process to ensure the development and implementation of comprehensive sustainability strategies. Such potential applications are probably built upon more advanced use of expert systems powered by AI and require the continued effort from hospitality and tourism organizations and researchers.\\n\\nConclusions This study presents an overview of hospitality andtourism research on AI and its impact on the industry. More speciﬁcally, this study examines hospitality and tourism AI research trends in hospitality and tourism customer decision making, service experience creation and delivery, service failure and recovery, human resources and organizational behavior. Both the beneﬁts and challenges posed by the integration of AI and AI applications into every stage of the customer service experience journey for customers, employees and organizations are discussed. Findings suggest that the integration of AI and AI technologies is viewed as a double-edged sword, which can offer both beneﬁts and challenges. A thorough understanding of those challenges and beneﬁts to enhance positive aspects while alleviating negative concerns deﬁnitely requires further in-depth research. Through the comprehensive review of studies that explored AI in the hospitality and tourism ﬁeld, a number of future research directions for examining the appropriate use of AI technologies during service experience creation anddelivery are identiﬁed. Studies that explore the future research ideas and directions identiﬁed in this study are likely to provide critical insights to hospitality and tourism industry practitioners and researchers for implementing AI tools that can beneﬁt both customers and businesses. However, it is important to note that research ideas and future research directions identiﬁed in this study only represent a small setof potential research avenues in the rapidly expandingAI ﬁeld.\\n\\nArtiﬁcial intelligence: an overview\\n\\n13\\n\\nIJCHM 37,1\\n\\n14\\n\\nReferences Akdim, K., Belanche, D. and Flavi(cid:1)an, M. (2023), “Attitudes toward service robots: analyses of explicit and implicit attitudes based on anthropomorphism and construal level theory”, International Journal of Contemporary Hospitality Management, Vol. 35 No.8, pp.2816-2837.\\n\\nBelanche, D., Casal(cid:1)o, L.V., Schepers, J. and Flavi(cid:1)an, C. (2021), “Examining the effects of robots’ physical appearance, warmth, and competence in frontline services: the humanness-value-loyalty model”, Psychology and Marketing, Vol.38 No.12,pp.2357-2376.\\n\\nBrynjolfsson, E. and Mcafee, A. (2017), “Artiﬁcial intelligence, for real”, Harvard Business Review,\\n\\nVol. 1, pp. 1-31.\\n\\nBuhalis, D., Leung, D. and Lin, M. (2023), “Metaverse as a disruptive technology revolutionising\\n\\ntourism management and marketing”, Tourism Management, Vol. 97,p. 104724.\\n\\nCai, R., Cain, L.N. and Jeon, H. (2022), “Customers’ perceptions of hotel AI-enabled voice assistants: does brand matter?”, International Journal of Contemporary Hospitality Management, Vol. 34 No. 8, pp. 2807-2831.\\n\\nCastillo, D., Canhoto, A.I. and Said, E. (2021), “The dark side of AI-powered service interactions: exploring the process of co-destruction from the customer perspective”, The Service Industries Journal, Vol. 41 No.13-14,pp.900-925.\\n\\nCheng, B., Lin, H. and Kong, Y. (2023a), “Challenge or hindrance? How and when organizational artiﬁcial intelligence adoption inﬂuences employee job crafting”, Journal of Business Research, Vol. 164, p.113987.\\n\\nCheng, X.M., Lyu, Y. and Ye, Y. (2023b), “Linking organizational exploitation to extra-role behaviors: a conservation of resources perspective”, International Journal of Contemporary Hospitality Management, Vol. 35No. 3,pp.1109-1124.\\n\\nChi, O.H., Denton, G. and Gursoy, D. (2020), “Artiﬁcially intelligent device use in service delivery: a systematic review, synthesis, and research agenda”, Journal of Hospitality Marketing and Management, Vol. 29No. 7,pp.757-786.\\n\\nChi, O.H., Chi, C.G., Gursoy, D. and Nunkoo, R. (2023), “Customers’ acceptance of artiﬁcially intelligent service robots: the inﬂuence of trust and culture”, International Journal of Information Management, Vol. 70, p.102623.\\n\\nDarvishmotevali, M. and Ali, F. (2020), “Job insecurity, subjective well-being and job performance: the moderating role of psychological capital”, International Journal of Hospitality Management, Vol. 87,p. 102462.\\n\\nde Lurdes Calisto, M. and Sarkar, S. (2024), “A systematic review of virtual reality in tourism and hospitality: the known and the paths to follow”, International Journal of Hospitality Management, Vol.116,p.103623.\\n\\n(2021), “Employees’ challenge-hindrance appraisals toward STARA awareness and competitive productivity: a micro-level case”, International Journal of Contemporary Hospitality Management, Vol. 33No. 9,pp.2950-2969.\\n\\nDing, L.\\n\\nDwivedi, Y.K., Kshetri, N., Hughes, L., Slade, E.L., Jeyaraj, A., Kar, A.K., Baabdullah, A.M., Koohang, A., Raghavan, V., Ahuja, M. and Albanna, H. (2023), “So what if ChatGPT wrote it?” multidisciplinary perspectives on opportunities, challenges and implications of generative conversational AI for research,practiceandpolicy”,InternationalJournalofInformationManagement,Vol.71,p.102642. Dogru, T., Line, N., Mody, M., Hanks, L., Abbott, J.A., Acikgoz, F., Assaf, A., Bakir, S., Berbekova, A., Bilgihan, A. Dalton, A. and Zhang, T. (2023), “Generative artiﬁcial intelligence in the hospitality and tourism industry: developing a framework for future research”, Journal of Hospitality and Tourism Research, p.10963480231188663.\\n\\nFilieri, R., D’Amico, E., Destefanis, A., Paolucci, E. and Raguseo, E. (2021), “Artiﬁcial intelligence (AI) for tourism: an European-based study on successful AI tourism start-ups”, International Journal of Contemporary Hospitality Management, Vol.33 No.11,pp.4099-4125.\\n\\nGraham, B. (2024), “Outlook for 2024: GenAI takes the spotlight, transforming industries after a breakout year in 2023”, Forbes, available at: www.forbes.com/sites/forbesbusiness developmentcouncil/2024/02/06/outlook-for-2024-genai-takes-the-spotlight-transforming-industries- after-a-breakout-year-in-2023/?sh=2d817bb81bdd\\n\\nGursoy, D., Chi, O.H., Lu, L. and Nunkoo, R. (2019), “Consumers acceptance of artiﬁcially intelligent (AI) device use in service delivery”, International Journal of Information Management, Vol. 49, pp. 157-169.\\n\\nGursoy, D., Lu, L., Nunkoo, R. and Deng, D. (2023), “Metaverse in services marketing: an overview and future research directions”, The Service IndustriesJournal, Vol. 43 No. 15-16, pp. 1140-1172. Hu, Y. and Min, H.K. (2023), “The dark side of artiﬁcial intelligence in service: the ‘watching-eye’ effect and privacy concerns”, International Journal of HospitalityManagement, Vol. 110, p. 103437. Huang, M.H. and Rust, R.T. (2021), “Engaged to a robot? The role of AI in service”, Journal of Service\\n\\nResearch, Vol. 24No. 1, pp. 30-41.\\n\\nHuang, A., Ozturk, A.B., Zhang, T., de la Mora Velasco, E. and Haney, A. (2024), “Unpacking AI for hospitality and tourism services: exploring the role of perceived enjoyment on future use intentions”, International Journal of HospitalityManagement, Vol. 119,p. 103693.\\n\\nIBM Data and AI Team (2023), “Understanding the different types of artiﬁcial intelligence”, available\\n\\nat: www.ibm.com/blog/understanding-the-different-types-of-artiﬁcial-intelligence/\\n\\nKang, S.E., Koo, C. and Chung, N. (2023), “Creepy vs. cool: switching from human staff to service robots inthe hospitalityindustry”, International Journal ofHospitality Management, Vol. 111, p. 103479. Knani, M., Echchakoui, S. and Ladhari, R. (2022), “Artiﬁcial intelligence in tourism and hospitality: bibliometric analysis and research agenda”, International Journal of Hospitality Management, Vol. 107, p.103317.\\n\\nKim, H. and So, K.K.F. (2023), “The evolution of service failure and recovery research in hospitality and tourism: an integrative review and future research directions”, International Journal of Hospitality Management, Vol. 111,p.103457.\\n\\nKong, H.,Yuan, Y.,Baruch,Y.,Bu, N.,Jiang,X. andWang,K. (2021), “Inﬂuences of artiﬁcial intelligence (AI) awareness on career competency and job burnout”, International Journal of Contemporary Hospitality Management, Vol. 33 No.2, pp.717-734.\\n\\nKoo, B., Curtis, C. and Ryan, B. (2021), “Examining the impact of artiﬁcial intelligence on hotel employees through job insecurity perspectives”, International Journal of Hospitality Management, Vol. 95, p.102763.\\n\\nLaw, R., Lin, K.J., Ye, H. and Fong, D.K.C. (2023), “Artiﬁcial intelligence research in hospitality: a state- of-the-art review and future directions”, International Journal of Contemporary Hospitality Management, doi: 10.1108/IJCHM-02-2023-0189.\\n\\nLi, M., Yin, D., Qiu, H. and Bai, B. (2021), “A systematic review of AI technology-based service implications for hospitality and tourism operations”, International Journal of\\n\\nencounters: Hospitality Management, Vol. 95,p. 102930.\\n\\nLin, I.Y. and Mattila, A.S. (2021), “The value of service robots from the hotel guest’s perspective: a\\n\\nmixed-method approach”, International Journal of HospitalityManagement, Vol. 94, p.102876.\\n\\nLiu, Y., Wang, X. and Qin, H. (2023), “When cool hospitality brand meets AI: exploring the matching effect of service agents and brand images on brand attitude”, International Journal of Contemporary Hospitality Management, doi: 10.1108/IJCHM-04-2023-0516.\\n\\nLiu, J., Zhou, L., Yang, L. and Liu, D. (2024a), “The dehumanization of service robots inﬂuences hospitality consumption emotion”, International Journal of Hospitality Management, Vol. 119, p.103707.\\n\\nLiu, A., Ma, E., Wang, Y.-C., Xu, S.(T.). and Grillo, T. (2024b), “AI and supportive technology experiences of customers with visual impairments in hotel, restaurant, and travel contexts”, International Journal of Contemporary Hospitality Management, Vol. 36 No.1, pp.274-291.\\n\\nArtiﬁcial intelligence: an overview\\n\\n15\\n\\nIJCHM 37,1\\n\\n16\\n\\nLu, L., Cai, R. and Gursoy, D. (2019), “Developing and validating a service robot integration willingness\\n\\nscale”, International Journal of Hospitality Management, Vol. 80,pp.36-51.\\n\\nLv, H., Shi, S. and Gursoy, D. (2022a), “A look back and a leap forward: a review and synthesis of big data and artiﬁcial intelligence literature in hospitality and tourism”, Journal of Hospitality Marketing and Management, Vol. 31 No.2, pp.145-175.\\n\\nLv, X., Liu, Y., Luo, J., Liu, Y. and Li, C. (2021), “Does a cute artiﬁcial intelligence assistant soften the blow? The impact of cuteness on customer tolerance of assistant service failure”, Annals of Tourism Research, Vol. 87,p. 103114.\\n\\nLv, X., Yang, Y., Qin, D., Cao, X. and Xu, H. (2022b), “Artiﬁcial intelligence service recovery: the role of empathic response in hospitality customers’ continuous usage intention”, Computers in Human Behavior, Vol. 126,p.106993.\\n\\nMcCartney, G. and McCartney, A. (2020), “Rise of the machines: towards a conceptual service-robot research framework for the hospitality and tourism industry”, International Journal of Contemporary Hospitality Management, Vol.32 No.12,pp.3835-3851.\\n\\nMcKinsey and Company (2023), “The state of AI in 2023: generative AI’s breakout year”, available at: https://mckinsey.com/capabilities/quantumblack/our-insights/the-state-of-ai-in-2023-generative- AIs-breakout-year\\n\\nMcKinsey and Company (2024), “Adopting AI at speed and scale: the 4IR push to stay competitive”, available at: www.mckinsey.com/capabilities/operations/our-insights/adopting-ai-at-speed-and- scale-the-4ir-push-to-stay-competitive?cid=eml-web\\n\\n(2020), “Rising with the machines: a sociotechnical framework for bringing artiﬁcial intelligence into the organization”, Journal of BusinessResearch, Vol. 120, pp.262-273.\\n\\nMakarius, E.E., Mukherjee, D., Fox, J.D. and Fox, A.K.\\n\\nMikalef, P. and Gupta, M. (2021), “Artiﬁcial intelligence capability: conceptualization, measurement calibration, and empirical study onits impact onorganizationalcreativity and ﬁrmperformance”, Information and Management, Vol.58No. 3,p. 103434.\\n\\nNishant, R., Kennedy, M. and Corbett, J. (2020), “Artiﬁcial intelligence for sustainability: challenges, opportunities, and a research agenda”, International Journal of Information Management, Vol. 53,p. 102104.\\n\\nPillai, R. and Sivathanu, B. (2020), “Adoption of AI-based chatbots for hospitality and tourism”,\\n\\nInternational Journal of Contemporary Hospitality Management, Vol. 32 No.10, pp. 3199-3226.\\n\\nPrentice, C., Dominique Lopes, S. and Wang, X. (2020), “Emotional intelligence or artiﬁcial intelligence– an employee perspective”, Journal of Hospitality Marketing and Management, Vol. 29 No. 4, pp. 377-403.\\n\\nQiu, H., Li, M., Shu, B. and Bai, B. (2020), “Enhancing hospitality experience with service robots: the mediating role of rapport building”, Journal of Hospitality Marketing & Management, Vol. 29 No.3, pp. 247-268.\\n\\nRodrigues, R. (2020), “Legal and human rights issues of AI: gaps, challenges and vulnerabilities”,\\n\\nJournal of ResponsibleTechnology, Vol. 4, p.100005.\\n\\nSeo, S., Wu, X. and Choi, J. (2024), “Is her (his) gender matched or not matched with me? Gender (dis) match effect between customers and gendered service robots”, International Journal of Hospitality Management, Vol. 119,p.103723.\\n\\nSong, B., Zhang, M. and Wu, P. (2022), “Driven by technology or sociality? Use intention of service robots in hospitality from the human–robot interaction perspective”, International Journal of Hospitality Management, Vol. 106,p.103278.\\n\\nSull, D. and Sull, C. (2024), “Two experts predict AI will transform companies’ understanding of themselves”, The Economist, 12 Feb. p. NA. Gale In Context: Opposing Viewpoints, available at: www.economist.com/by-invitation/2024/02/12/two-experts-predict-ai-will-transform-companies- understanding-of-themselves(accessed 21February2024).\\n\\nTeng, R., Zhou, S., Zheng, W. and Ma, C. (2023), “Artiﬁcial intelligence (AI) awareness and work withdrawal: evaluating chained mediation through negative work-related rumination and emotional exhaustion”, International Journal of Contemporary Hospitality Management, doi: 10.1108/IJCHM-02-2023-0240.\\n\\nVenkatesh, V., Morris, M.G., Davis, G.B. and Davis, F.D. (2003), “User acceptance of information\\n\\ntechnology:toward a uniﬁed view”, MIS Quarterly, Vol.27 No.3, pp. 425-478.\\n\\nWalsh, D. (2023), “The legal issues presented by generative AI”, MIT Management Sloan School, available at:https://mitsloan.mit.edu/ideas-made-to-matter/legal-issues-presented-generative-ai Wced, S.W.S. (1987), “World commission on environment and development”, Our Common Future,\\n\\nVol. 17 No.1, pp.1-91.\\n\\nWerner, J. (2024), “Take a look at Sora”, Forbes, available at: www.forbes.com/sites/johnwerner/2024/\\n\\n02/21/take-a-look-at-sora/?sh=2e39b9f6284a\\n\\nXu, X. and Liu, J. (2022), “Artiﬁcial intelligence humor in service recovery”, Annals of Tourism\\n\\nResearch, Vol. 95, p.103439.\\n\\nXu, J., Hsiao, A., Reid, S. and Ma, E. (2023), “Working with service robots? A systematic literature review of hospitality employees’ perspectives”, International Journal of Hospitality Management, Vol. 113, p.103523.\\n\\nWang, E.Y., Fong, L.H.N. and Law, R. (2022), “Detecting fake hospitality reviews through the interplay of emotional cues, cognitive cues and review valence”, International Journal of Contemporary Hospitality Management, Vol. 34 No.1, pp.184-200.\\n\\nYang, H., Wang, Y.C., Song, H. and Ma, E. (2024), “Utilitarian vs. hedonic roles of service robots and customer stereotypes: a person–environment ﬁt theory perspective”, International Journal of Contemporary Hospitality Management, doi: 10.1108/IJCHM-05-2023-0668.\\n\\nYang, Y., Liu, Y., Lv, X., Ai, J. and Li, Y. (2022), “Anthropomorphism and customers’ willingness to use artiﬁcial intelligence service agents”, Journal of Hospitality Marketing and Management, Vol. 31 No.1, pp. 1-23.\\n\\nYang, H., Xu, H., Zhang, Y., Liang, Y. and Lyu, T. (2022), “Exploring the effect of humor in robot\\n\\nfailure”, Annalsof Tourism Research, Vol. 95,p. 103425.\\n\\nYu, H., Shum, C., Alcorn, M., Sun, J. and He, Z. (2022), “Robots can’t take my job: antecedents and International Journal of\\n\\noutcomes of gen Z employees’ service robot risk awareness”, Contemporary Hospitality Management, Vol.34 No.8, pp. 2971-2988.\\n\\nZhang, M., Gursoy, D., Zhu, Z. and Shi, S. (2021), “Impact of anthropomorphic features of artiﬁcially intelligent service robots on consumer acceptance: moderating role of sense of humor”, International Journal of Contemporary Hospitality Management, Vol. 33 No.11, pp. 3883-3905.\\n\\nCorresponding author Dogan Gursoy can be contacted at: dgursoy@wsu.edu\\n\\nFor instructions on how to order reprints of this article, please visit our website: www.emeraldgrouppublishing.com/licensing/reprints.htm Or contact us for further details: permissions@emeraldinsight.com\\n\\nArtiﬁcial intelligence: an overview\\n\\n17')"
            ]
          },
          "metadata": {},
          "execution_count": 78
        }
      ]
    },
    {
      "cell_type": "code",
      "source": [
        "import weaviate\n",
        "from langchain_weaviate.vectorstores import WeaviateVectorStore\n",
        "weaviate_client_local = weaviate.connect_to_local( host=\"localhost\", port=8079,\n",
        "                                                  grpc_port=50050,\n",
        "    headers={\n",
        "          \"X-OpenAI-Api-Key\": openai_api_key\n",
        "      },\n",
        ")\n",
        "embeddings = OpenAIEmbeddings()\n",
        "db = WeaviateVectorStore.from_documents(docs, embeddings, client=weaviate_client_local)"
      ],
      "metadata": {
        "id": "FCAkfdQ8-Zcs"
      },
      "execution_count": 72,
      "outputs": []
    },
    {
      "cell_type": "code",
      "source": [
        "format_docs = lambda x: \"\\n\\n\".join([doc.page_content for doc in x])"
      ],
      "metadata": {
        "id": "q_qiZiUHDFaL"
      },
      "execution_count": null,
      "outputs": []
    },
    {
      "cell_type": "code",
      "source": [
        "weaviate_retriever = db.as_retriever()\n",
        "#\n",
        "weaviate_rag_chain = (\n",
        "    {\"context\": weaviate_retriever | format_docs, \"question\": RunnablePassthrough()}\n",
        "    | prompt\n",
        "    | model\n",
        "    | StrOutputParser()\n",
        ")"
      ],
      "metadata": {
        "id": "Rm6RlHulBLlT"
      },
      "execution_count": 74,
      "outputs": []
    },
    {
      "cell_type": "code",
      "source": [
        "weaviate_rag_chain.invoke(\"What are the different categories of AI\")"
      ],
      "metadata": {
        "colab": {
          "base_uri": "https://localhost:8080/",
          "height": 70
        },
        "id": "dniKu2E0EcB7",
        "outputId": "8ca5025e-68bb-49b3-e93c-17ffc30dd989"
      },
      "execution_count": 76,
      "outputs": [
        {
          "output_type": "execute_result",
          "data": {
            "text/plain": [
              "'The different categories of AI are artificial narrow AI, general AI, and super AI. Narrow AI is commonly applied in industries like hospitality and tourism for specific tasks. General AI is currently in development and aims to perform tasks intelligently similar to human capabilities.'"
            ],
            "application/vnd.google.colaboratory.intrinsic+json": {
              "type": "string"
            }
          },
          "metadata": {},
          "execution_count": 76
        }
      ]
    }
  ]
}